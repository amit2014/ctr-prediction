{
 "cells": [
  {
   "cell_type": "markdown",
   "metadata": {},
   "source": [
    "# Experiments with Support Vector Machine and Gradient Boosted Machine models"
   ]
  },
  {
   "cell_type": "code",
   "execution_count": 1,
   "metadata": {
    "collapsed": true
   },
   "outputs": [],
   "source": [
    "import graphlab as gl\n",
    "import os\n",
    "gl.canvas.set_target('ipynb')"
   ]
  },
  {
   "cell_type": "code",
   "execution_count": 2,
   "metadata": {
    "collapsed": false
   },
   "outputs": [
    {
     "name": "stdout",
     "output_type": "stream",
     "text": [
      "This non-commercial license of GraphLab Create is assigned to hernan.toral.15@ucl.ac.uk and will expire on December 01, 2016. For commercial licensing options, visit https://dato.com/buy/.\n"
     ]
    },
    {
     "name": "stderr",
     "output_type": "stream",
     "text": [
      "2016-04-19 10:27:52,198 [INFO] graphlab.cython.cy_server, 176: GraphLab Create v1.8.5 started. Logging: /tmp/graphlab_server_1461058067.log\n"
     ]
    }
   ],
   "source": [
    "# load train data\n",
    "train_set = gl.SFrame.read_csv('../data/train_data.txt', delimiter='\\t', verbose=False)\n",
    "# load test data\n",
    "test_set = gl.SFrame.read_csv('../data/test_data.txt', delimiter='\\t', verbose=False)\n",
    "# split train data to train set and validation set\n",
    "train_set, validation_set = train_set.random_split(0.8, seed=1)"
   ]
  },
  {
   "cell_type": "markdown",
   "metadata": {},
   "source": [
    "## Feature engineering functions"
   ]
  },
  {
   "cell_type": "code",
   "execution_count": 3,
   "metadata": {
    "collapsed": true
   },
   "outputs": [],
   "source": [
    "from graphlab import feature_engineering as fe\n",
    "\n",
    "\n",
    "def site_feat(data):\n",
    "    label = 'site_map'\n",
    "    if label in data.column_names():\n",
    "        return data\n",
    "\n",
    "    data[label] = data['domain'] + data['user_agent']\n",
    "    return data, label\n",
    "\n",
    "\n",
    "def slot_feat(data):\n",
    "    label = 'slot_features'\n",
    "    if label in data.column_names():\n",
    "        return data\n",
    "\n",
    "    data[label] = data['ad_slot_width'] + data['ad_slot_height']\n",
    "    return data, label\n",
    "\n",
    "\n",
    "def location_feat(data):\n",
    "    label = 'location_feat'\n",
    "    if label in data.column_names():\n",
    "        return data\n",
    "\n",
    "#     data.add_column(data.select_column('region').apply(lambda x: str(x)) + \\\n",
    "#                     data.select_column('city').apply(lambda x: str(x)), label)\n",
    "    data[label] = data['region'] + data['city']\n",
    "    return data, label\n",
    "\n",
    "def ad_size_feat(data):\n",
    "    label = 'ad_size_feat'\n",
    "    if label in data.column_names():\n",
    "        return data\n",
    "#     data.add_column(data.select_column('ad_slot_width').apply(lambda x: str(x)) + \\\n",
    "#                     data.select_column('ad_slot_height').apply(lambda x: str(x)), label)\n",
    "    data[label] = data['ad_slot_width'] + data['ad_slot_height']\n",
    "    return data, label\n",
    "\n",
    "\n",
    "def create_quad_features(train, interaction_columns, label='quadratic_features'):\n",
    "    return fe.create(train, fe.QuadraticFeatures(features=interaction_columns, output_column_name=label)), label\n",
    "\n",
    "\n",
    "def apply_quadratic(data, quad, label):\n",
    "\n",
    "    if label in data.column_names():\n",
    "        # operation already performed, do nothing\n",
    "        return data\n",
    "    # for feature in interaction_columns:\n",
    "    #     dataset[feature] = data[feature].astype(int)\n",
    "    return quad.transform(data)\n",
    "\n",
    "\n",
    "def create_onehot_features(train, interaction_columns, categories=300, label='encoded_features'):\n",
    "    return fe.create(train, fe.OneHotEncoder(features=interaction_columns,\n",
    "                                             max_categories=categories, output_column_name=label)), label\n",
    "\n",
    "\n",
    "def apply_feature_eng(data, impl, label):\n",
    "    if label in data.column_names():\n",
    "        return data\n",
    "    return impl.transform(data)\n",
    "\n",
    "\n",
    "def apply_dictionary(tags_l):\n",
    "    if len(tags_l) > 0:\n",
    "        tags = tags_l.split(',')\n",
    "        return dict(zip(tags, [1 for tag in tags]))\n",
    "    else:\n",
    "        return {}\n",
    "#     tags_to_dict = lambda tags: dict(zip(tags, [1 for tag in tags]))\n",
    "    \n",
    "#     data[label] = data.apply(lambda row: tags_to_dict(col.split(',')))\n",
    "#     print data[label].head(5)\n",
    "#     return data\n",
    "\n",
    "\n",
    "def tags_to_dict(row):\n",
    "    tags = row.split(',')\n",
    "    return dict(zip(tags, [1 for _ in tags]))\n",
    "\n",
    "\n",
    "def apply_separate_uagent(data, regexp, label):\n",
    "    if label in data.column_names():\n",
    "        return data\n",
    "    data[label] = data.apply(lambda row: filter_uagent(row['user_agent'], regexp))\n",
    "    return data\n",
    "\n",
    "\n",
    "def filter_uagent(value, regexp):\n",
    "    return 1 if regexp.search(value) is not None else 0\n",
    "\n",
    "def floor_price_category(col):\n",
    "    price = int(col)\n",
    "    if price > 100:\n",
    "        return \"101+\"\n",
    "    elif price > 50:\n",
    "        return \"51-100\"\n",
    "    elif price > 10:\n",
    "        return \"11-50\"\n",
    "    elif price > 0:\n",
    "        return \"1-10\"\n",
    "    else:\n",
    "        return \"0\"\n"
   ]
  },
  {
   "cell_type": "markdown",
   "metadata": {},
   "source": [
    "## Platt Scaling for SVM"
   ]
  },
  {
   "cell_type": "code",
   "execution_count": 264,
   "metadata": {
    "collapsed": true
   },
   "outputs": [],
   "source": [
    "def platt_scaling(svm_output, svm_prediction, n_1, n_0):\n",
    "    _a = 0.\n",
    "    _b = math.log((n_0+1) / (n_1+1))\n",
    "    hi_target = (n_1+1) / (n_1+2)\n",
    "    lo_target = 1 / (n_0+2)\n",
    "    lambda_v = 1e-3\n",
    "    old_err = 1e300\n",
    "    pp = gl.SArray(data=[((n_1+1)/(n_0+n_1+2)) for _ in xrange(svm_output.size())], dtype=float)\n",
    "    count = 0\n",
    "    for it in xrange(100):\n",
    "        a = b = c = d = e = 0.\n",
    "        # compute the Hessian & gradient error function w.r.t. A & B\n",
    "        for i in xrange(pp.size()):\n",
    "            t = hi_target if svm_prediction[i] else lo_target\n",
    "            d1 = pp[i] - t\n",
    "            d2 = pp[i] * (1 - pp[i])\n",
    "            a += svm_output[i] * svm_output[i] * d2\n",
    "            b += d2\n",
    "            c += svm_output[i] * d2\n",
    "            d += svm_output[i] * d1\n",
    "            e += d1\n",
    "\n",
    "        # if gradient is really tiny, then stop\n",
    "        if abs(d) < 1e-9 and abs(e) < 1e-9:\n",
    "            break\n",
    "        old_a = _a\n",
    "        old_b = _b\n",
    "        err = 0.\n",
    "        while True:\n",
    "            det = (a + lambda_v) * (b + lambda_v) - c*c\n",
    "            if det == 0.: # if determinant of Hessian is zero\n",
    "                # increases stabilizer\n",
    "                lambda_v *= 10\n",
    "                continue\n",
    "            _a = old_a + ((b + lambda_v) * d - c*e) / det\n",
    "            _b = old_b + ((a + lambda_v) * e - c*d) / det\n",
    "\n",
    "            # now perform the goodness of fit\n",
    "            err = 0.\n",
    "            for j in xrange(pp.size()):\n",
    "                p = 1 / (1 + math.exp(svm_output[j]*_a + _b))\n",
    "                pp[j] = p\n",
    "                if p <= 1.383897e-87:\n",
    "                    err -= t * (-200) + (1 - t) * math.log(1 - p)\n",
    "                elif p == 1:\n",
    "                    err -= t * math.log(p) + (1 - t) * (-200)\n",
    "                else:\n",
    "                    err -= t*math.log(p) + (1-t)*math.log(1-p)\n",
    "\n",
    "            if err < old_err*(1 + 1e-7):\n",
    "                lambda_v *= 0.1\n",
    "                break\n",
    "\n",
    "            # error did not decrease: increase stabilizer by factor of 10 & try again\n",
    "            lambda_v *= 10\n",
    "            if lambda_v >= 1e6: # something is broken: give up\n",
    "                break\n",
    "\n",
    "        diff = err - old_err\n",
    "        scale = 0.5 * (err + old_err + 1)\n",
    "        if diff > -1e-3*scale and diff < 1e-7*scale:\n",
    "            count += 1\n",
    "        else:\n",
    "            count = 0\n",
    "\n",
    "        old_err = err\n",
    "        if count == 3:\n",
    "            break\n",
    "\n",
    "    return _a, _b\n",
    "\n",
    "\n",
    "########################################################################################################################\n",
    "\n",
    "def applyPlatt(x, _a, _b):\n",
    "    return 1 / (1 + math.exp(x*_a + _b))\n",
    "\n",
    "\n",
    "########################################################################################################################\n"
   ]
  },
  {
   "cell_type": "markdown",
   "metadata": {},
   "source": [
    "## Feature Engineering"
   ]
  },
  {
   "cell_type": "code",
   "execution_count": 250,
   "metadata": {
    "collapsed": true
   },
   "outputs": [],
   "source": [
    "trainset, validationset = train_set.random_split(0.8, seed=1)"
   ]
  },
  {
   "cell_type": "code",
   "execution_count": 251,
   "metadata": {
    "collapsed": true
   },
   "outputs": [],
   "source": [
    "features = ['weekday', 'hour']#,\n",
    "                #'ad_slot_id',\n",
    "    \n",
    "features_onehot = [\n",
    "                'user_agent',\n",
    "                'ad_slot_floor_price', 'ad_slot_width', 'ad_slot_height',\n",
    "                'ad_slot_format'\n",
    "                #'domain'\n",
    "                #'ad_exchange'\n",
    "                ]"
   ]
  },
  {
   "cell_type": "code",
   "execution_count": null,
   "metadata": {
    "collapsed": false
   },
   "outputs": [],
   "source": [
    "# trainset, _ = site_feat(trainset)\n",
    "# validationset, site_featl = site_feat(validationset)\n",
    "# #test_set, site_featl = site_feat(test_set)\n",
    "# features.append(site_featl)"
   ]
  },
  {
   "cell_type": "code",
   "execution_count": 104,
   "metadata": {
    "collapsed": true
   },
   "outputs": [],
   "source": [
    "# trainset, _ = location_feat(trainset)\n",
    "# validationset, location_featl = location_feat(validationset)\n",
    "# #test_set, location_feat = location_feat(test_set)\n",
    "# features.append(location_featl)"
   ]
  },
  {
   "cell_type": "code",
   "execution_count": 72,
   "metadata": {
    "collapsed": true
   },
   "outputs": [],
   "source": [
    "# trainset, _ = ad_size_feat(trainset)\n",
    "# validationset, size_label = ad_size_feat(validationset)\n",
    "# features.append(size_label)"
   ]
  },
  {
   "cell_type": "code",
   "execution_count": 8,
   "metadata": {
    "collapsed": true
   },
   "outputs": [],
   "source": [
    "import re"
   ]
  },
  {
   "cell_type": "code",
   "execution_count": 136,
   "metadata": {
    "collapsed": false
   },
   "outputs": [],
   "source": [
    "# uagent_desktop_label = 'uagent_desktop'\n",
    "# regexp = re.compile(r'windows|linux|mac')\n",
    "# trainset = apply_separate_uagent(trainset, regexp, uagent_desktop_label)\n",
    "# validationset = apply_separate_uagent(validationset, regexp, uagent_desktop_label)\n",
    "# features.append(uagent_desktop_label)"
   ]
  },
  {
   "cell_type": "code",
   "execution_count": 137,
   "metadata": {
    "collapsed": true
   },
   "outputs": [],
   "source": [
    "# uagent_mobile_label = 'uagent_mobile'\n",
    "# regexp = re.compile(r'android|ios|other')\n",
    "# trainset = apply_separate_uagent(trainset, regexp, uagent_mobile_label)\n",
    "# validationset = apply_separate_uagent(validationset, regexp, uagent_mobile_label)\n",
    "# features.append(uagent_mobile_label)"
   ]
  },
  {
   "cell_type": "code",
   "execution_count": null,
   "metadata": {
    "collapsed": false
   },
   "outputs": [],
   "source": [
    "# interaction_columns = ['ad_slot_width', 'ad_slot_height']\n",
    "# quad, quad_site_label = create_quad_features(trainset, interaction_columns, quad_site_label)\n",
    "# trainset = apply_quadratic(trainset, quad, quad_site_label)\n",
    "# validationset = apply_quadratic(validationset, quad, quad_site_label)\n",
    "# features.append(quad_site_label)"
   ]
  },
  {
   "cell_type": "code",
   "execution_count": 252,
   "metadata": {
    "collapsed": false
   },
   "outputs": [],
   "source": [
    "ip_fixed_label = 'ip_fixed'\n",
    "trainset.add_column(trainset.select_column('ip').apply(lambda x: x.index('.', x.index('.')+1)), ip_fixed_label)\n",
    "validationset.add_column(validationset.select_column('ip').apply(lambda x: x.index('.', x.index('.')+1)), ip_fixed_label)\n",
    "test_set.add_column(test_set.select_column('ip').apply(lambda x: x.index('.', x.index('.')+1)), ip_fixed_label)\n",
    "# features.append(ip_fixed_label)\n",
    "features_onehot.append(ip_fixed_label)"
   ]
  },
  {
   "cell_type": "code",
   "execution_count": 38,
   "metadata": {
    "collapsed": false
   },
   "outputs": [],
   "source": [
    "# price_cat_label = 'price_cat_label'\n",
    "# trainset.add_column(trainset.select_column('ad_slot_floor_price').apply(lambda x: floor_price_category(x)), \n",
    "#                    price_cat_label)\n",
    "# validationset.add_column(validationset.select_column('ad_slot_floor_price').apply(lambda x: floor_price_category(x)), \n",
    "#                    price_cat_label)\n",
    "# features.append(price_cat_label)"
   ]
  },
  {
   "cell_type": "code",
   "execution_count": 253,
   "metadata": {
    "collapsed": true
   },
   "outputs": [],
   "source": [
    "tags_label = 'tags'\n",
    "trainset.add_column(trainset.select_column('user_tags').apply(lambda x: apply_dictionary(x)), tags_label)\n",
    "validationset.add_column(validationset.select_column('user_tags').apply(lambda x: apply_dictionary(x)), tags_label)\n",
    "test_set.add_column(test_set.select_column('user_tags').apply(lambda x: apply_dictionary(x)), tags_label)\n",
    "# features.append(tags_label)\n",
    "features_onehot.append(tags_label)"
   ]
  },
  {
   "cell_type": "code",
   "execution_count": 254,
   "metadata": {
    "collapsed": true
   },
   "outputs": [],
   "source": [
    "domain_enc_label = 'encoded_domain'\n",
    "encoded_columns = ['domain', 'url']\n",
    "onehot, _ = create_onehot_features(trainset, encoded_columns, 100, domain_enc_label)\n",
    "trainset = apply_feature_eng(trainset, onehot, domain_enc_label)\n",
    "validationset = apply_feature_eng(validationset, onehot, domain_enc_label)\n",
    "test_set = apply_feature_eng(test_set, onehot, domain_enc_label)\n",
    "#features.append(domain_enc_label)\n",
    "features_onehot.append(domain_enc_label)"
   ]
  },
  {
   "cell_type": "code",
   "execution_count": 255,
   "metadata": {
    "collapsed": false
   },
   "outputs": [],
   "source": [
    "timestamp_fixed_label = 'timestamp_fixed'\n",
    "trainset.add_column(trainset.select_column('timestamp').apply(lambda x: int(str(x)[:8])), timestamp_fixed_label)\n",
    "validationset.add_column(validationset.select_column('timestamp').apply(lambda x: int(str(x)[:8])), timestamp_fixed_label)\n",
    "test_set.add_column(test_set.select_column('timestamp').apply(lambda x: int(str(x)[:8])), timestamp_fixed_label)\n",
    "#features.append(timestamp_fixed_label)\n",
    "features_onehot.append(timestamp_fixed_label)"
   ]
  },
  {
   "cell_type": "code",
   "execution_count": 256,
   "metadata": {
    "collapsed": false
   },
   "outputs": [
    {
     "data": {
      "text/plain": [
       "['user_agent',\n",
       " 'ad_slot_floor_price',\n",
       " 'ad_slot_width',\n",
       " 'ad_slot_height',\n",
       " 'ad_slot_format',\n",
       " 'ip_fixed',\n",
       " 'tags',\n",
       " 'encoded_domain',\n",
       " 'timestamp_fixed']"
      ]
     },
     "execution_count": 256,
     "metadata": {},
     "output_type": "execute_result"
    }
   ],
   "source": [
    "features_onehot"
   ]
  },
  {
   "cell_type": "code",
   "execution_count": 257,
   "metadata": {
    "collapsed": true
   },
   "outputs": [],
   "source": [
    "encoded_feat_label = 'encoded_features'\n",
    "onehot, _ = create_onehot_features(trainset, features_onehot, 100, encoded_feat_label)\n",
    "trainset = apply_feature_eng(trainset, onehot, encoded_feat_label)\n",
    "validationset = apply_feature_eng(validationset, onehot, encoded_feat_label)\n",
    "test_set = apply_feature_eng(test_set, onehot, encoded_feat_label)\n",
    "features.append(encoded_feat_label)"
   ]
  },
  {
   "cell_type": "code",
   "execution_count": 258,
   "metadata": {
    "collapsed": false
   },
   "outputs": [
    {
     "data": {
      "text/plain": [
       "['weekday', 'hour', 'encoded_features']"
      ]
     },
     "execution_count": 258,
     "metadata": {},
     "output_type": "execute_result"
    }
   ],
   "source": [
    "features"
   ]
  },
  {
   "cell_type": "code",
   "execution_count": 218,
   "metadata": {
    "collapsed": false,
    "scrolled": true
   },
   "outputs": [
    {
     "data": {
      "text/html": [
       "<div style=\"max-height:1000px;max-width:1500px;overflow:auto;\"><table frame=\"box\" rules=\"cols\">\n",
       "    <tr>\n",
       "        <th style=\"padding-left: 1em; padding-right: 1em; text-align: center\">weekday</th>\n",
       "        <th style=\"padding-left: 1em; padding-right: 1em; text-align: center\">hour</th>\n",
       "        <th style=\"padding-left: 1em; padding-right: 1em; text-align: center\">encoded_features</th>\n",
       "    </tr>\n",
       "    <tr>\n",
       "        <td style=\"padding-left: 1em; padding-right: 1em; text-align: center; vertical-align: top\">6</td>\n",
       "        <td style=\"padding-left: 1em; padding-right: 1em; text-align: center; vertical-align: top\">0</td>\n",
       "        <td style=\"padding-left: 1em; padding-right: 1em; text-align: center; vertical-align: top\">{160: 1, 192: 1, 34: 1,<br>196: 1, 293: 1, 134: 1, ...</td>\n",
       "    </tr>\n",
       "    <tr>\n",
       "        <td style=\"padding-left: 1em; padding-right: 1em; text-align: center; vertical-align: top\">6</td>\n",
       "        <td style=\"padding-left: 1em; padding-right: 1em; text-align: center; vertical-align: top\">0</td>\n",
       "        <td style=\"padding-left: 1em; padding-right: 1em; text-align: center; vertical-align: top\">{160: 1, 35: 1, 310: 1,<br>198: 1, 135: 1, 201: 1, ...</td>\n",
       "    </tr>\n",
       "    <tr>\n",
       "        <td style=\"padding-left: 1em; padding-right: 1em; text-align: center; vertical-align: top\">6</td>\n",
       "        <td style=\"padding-left: 1em; padding-right: 1em; text-align: center; vertical-align: top\">0</td>\n",
       "        <td style=\"padding-left: 1em; padding-right: 1em; text-align: center; vertical-align: top\">{160: 1, 35: 1, 135: 1,<br>201: 1, 204: 1, 142: 1, ...</td>\n",
       "    </tr>\n",
       "    <tr>\n",
       "        <td style=\"padding-left: 1em; padding-right: 1em; text-align: center; vertical-align: top\">6</td>\n",
       "        <td style=\"padding-left: 1em; padding-right: 1em; text-align: center; vertical-align: top\">0</td>\n",
       "        <td style=\"padding-left: 1em; padding-right: 1em; text-align: center; vertical-align: top\">{35: 1, 135: 1, 142: 1,<br>310: 1, 151: 1, 185: 1, ...</td>\n",
       "    </tr>\n",
       "    <tr>\n",
       "        <td style=\"padding-left: 1em; padding-right: 1em; text-align: center; vertical-align: top\">6</td>\n",
       "        <td style=\"padding-left: 1em; padding-right: 1em; text-align: center; vertical-align: top\">0</td>\n",
       "        <td style=\"padding-left: 1em; padding-right: 1em; text-align: center; vertical-align: top\">{160: 1, 34: 1, 196: 1,<br>135: 1, 203: 1, 142: 1, ...</td>\n",
       "    </tr>\n",
       "</table>\n",
       "[5 rows x 3 columns]<br/>\n",
       "</div>"
      ],
      "text/plain": [
       "Columns:\n",
       "\tweekday\tint\n",
       "\thour\tint\n",
       "\tencoded_features\tdict\n",
       "\n",
       "Rows: 5\n",
       "\n",
       "Data:\n",
       "+---------+------+-------------------------------+\n",
       "| weekday | hour |        encoded_features       |\n",
       "+---------+------+-------------------------------+\n",
       "|    6    |  0   | {160: 1, 192: 1, 34: 1, 19... |\n",
       "|    6    |  0   | {160: 1, 35: 1, 310: 1, 19... |\n",
       "|    6    |  0   | {160: 1, 35: 1, 135: 1, 20... |\n",
       "|    6    |  0   | {35: 1, 135: 1, 142: 1, 31... |\n",
       "|    6    |  0   | {160: 1, 34: 1, 196: 1, 13... |\n",
       "+---------+------+-------------------------------+\n",
       "[5 rows x 3 columns]"
      ]
     },
     "execution_count": 218,
     "metadata": {},
     "output_type": "execute_result"
    }
   ],
   "source": [
    "trainset[features].head(5)"
   ]
  },
  {
   "cell_type": "markdown",
   "metadata": {},
   "source": [
    "# Models"
   ]
  },
  {
   "cell_type": "markdown",
   "metadata": {},
   "source": [
    "## Logistic Regression"
   ]
  },
  {
   "cell_type": "code",
   "execution_count": 223,
   "metadata": {
    "collapsed": false
   },
   "outputs": [
    {
     "data": {
      "text/html": [
       "<pre>Logistic regression:</pre>"
      ],
      "text/plain": [
       "Logistic regression:"
      ]
     },
     "metadata": {},
     "output_type": "display_data"
    },
    {
     "data": {
      "text/html": [
       "<pre>--------------------------------------------------------</pre>"
      ],
      "text/plain": [
       "--------------------------------------------------------"
      ]
     },
     "metadata": {},
     "output_type": "display_data"
    },
    {
     "data": {
      "text/html": [
       "<pre>Number of examples          : 1822055</pre>"
      ],
      "text/plain": [
       "Number of examples          : 1822055"
      ]
     },
     "metadata": {},
     "output_type": "display_data"
    },
    {
     "data": {
      "text/html": [
       "<pre>Number of classes           : 2</pre>"
      ],
      "text/plain": [
       "Number of classes           : 2"
      ]
     },
     "metadata": {},
     "output_type": "display_data"
    },
    {
     "data": {
      "text/html": [
       "<pre>Number of feature columns   : 3</pre>"
      ],
      "text/plain": [
       "Number of feature columns   : 3"
      ]
     },
     "metadata": {},
     "output_type": "display_data"
    },
    {
     "data": {
      "text/html": [
       "<pre>Number of unpacked features : 314</pre>"
      ],
      "text/plain": [
       "Number of unpacked features : 314"
      ]
     },
     "metadata": {},
     "output_type": "display_data"
    },
    {
     "data": {
      "text/html": [
       "<pre>Number of coefficients    : 315</pre>"
      ],
      "text/plain": [
       "Number of coefficients    : 315"
      ]
     },
     "metadata": {},
     "output_type": "display_data"
    },
    {
     "data": {
      "text/html": [
       "<pre>Starting Newton Method</pre>"
      ],
      "text/plain": [
       "Starting Newton Method"
      ]
     },
     "metadata": {},
     "output_type": "display_data"
    },
    {
     "data": {
      "text/html": [
       "<pre>--------------------------------------------------------</pre>"
      ],
      "text/plain": [
       "--------------------------------------------------------"
      ]
     },
     "metadata": {},
     "output_type": "display_data"
    },
    {
     "data": {
      "text/html": [
       "<pre>+-----------+----------+--------------+-------------------+---------------------+</pre>"
      ],
      "text/plain": [
       "+-----------+----------+--------------+-------------------+---------------------+"
      ]
     },
     "metadata": {},
     "output_type": "display_data"
    },
    {
     "data": {
      "text/html": [
       "<pre>| Iteration | Passes   | Elapsed Time | Training-accuracy | Validation-accuracy |</pre>"
      ],
      "text/plain": [
       "| Iteration | Passes   | Elapsed Time | Training-accuracy | Validation-accuracy |"
      ]
     },
     "metadata": {},
     "output_type": "display_data"
    },
    {
     "data": {
      "text/html": [
       "<pre>+-----------+----------+--------------+-------------------+---------------------+</pre>"
      ],
      "text/plain": [
       "+-----------+----------+--------------+-------------------+---------------------+"
      ]
     },
     "metadata": {},
     "output_type": "display_data"
    },
    {
     "data": {
      "text/html": [
       "<pre>| 1         | 2        | 7.303161     | 0.695726          | 0.694788            |</pre>"
      ],
      "text/plain": [
       "| 1         | 2        | 7.303161     | 0.695726          | 0.694788            |"
      ]
     },
     "metadata": {},
     "output_type": "display_data"
    },
    {
     "data": {
      "text/html": [
       "<pre>| 2         | 3        | 13.604181    | 0.699905          | 0.699215            |</pre>"
      ],
      "text/plain": [
       "| 2         | 3        | 13.604181    | 0.699905          | 0.699215            |"
      ]
     },
     "metadata": {},
     "output_type": "display_data"
    },
    {
     "data": {
      "text/html": [
       "<pre>| 3         | 4        | 17.985061    | 0.701304          | 0.700686            |</pre>"
      ],
      "text/plain": [
       "| 3         | 4        | 17.985061    | 0.701304          | 0.700686            |"
      ]
     },
     "metadata": {},
     "output_type": "display_data"
    },
    {
     "data": {
      "text/html": [
       "<pre>| 4         | 5        | 22.082833    | 0.701597          | 0.700879            |</pre>"
      ],
      "text/plain": [
       "| 4         | 5        | 22.082833    | 0.701597          | 0.700879            |"
      ]
     },
     "metadata": {},
     "output_type": "display_data"
    },
    {
     "data": {
      "text/html": [
       "<pre>| 5         | 6        | 26.216757    | 0.701612          | 0.700890            |</pre>"
      ],
      "text/plain": [
       "| 5         | 6        | 26.216757    | 0.701612          | 0.700890            |"
      ]
     },
     "metadata": {},
     "output_type": "display_data"
    },
    {
     "data": {
      "text/html": [
       "<pre>| 6         | 7        | 30.326801    | 0.701604          | 0.700881            |</pre>"
      ],
      "text/plain": [
       "| 6         | 7        | 30.326801    | 0.701604          | 0.700881            |"
      ]
     },
     "metadata": {},
     "output_type": "display_data"
    },
    {
     "data": {
      "text/html": [
       "<pre>| 7         | 8        | 34.405401    | 0.701604          | 0.700881            |</pre>"
      ],
      "text/plain": [
       "| 7         | 8        | 34.405401    | 0.701604          | 0.700881            |"
      ]
     },
     "metadata": {},
     "output_type": "display_data"
    },
    {
     "data": {
      "text/html": [
       "<pre>| 8         | 9        | 38.464489    | 0.701603          | 0.700883            |</pre>"
      ],
      "text/plain": [
       "| 8         | 9        | 38.464489    | 0.701603          | 0.700883            |"
      ]
     },
     "metadata": {},
     "output_type": "display_data"
    },
    {
     "data": {
      "text/html": [
       "<pre>| 9         | 10       | 42.449671    | 0.701604          | 0.700883            |</pre>"
      ],
      "text/plain": [
       "| 9         | 10       | 42.449671    | 0.701604          | 0.700883            |"
      ]
     },
     "metadata": {},
     "output_type": "display_data"
    },
    {
     "data": {
      "text/html": [
       "<pre>+-----------+----------+--------------+-------------------+---------------------+</pre>"
      ],
      "text/plain": [
       "+-----------+----------+--------------+-------------------+---------------------+"
      ]
     },
     "metadata": {},
     "output_type": "display_data"
    },
    {
     "data": {
      "text/html": [
       "<pre>SUCCESS: Optimal solution found.</pre>"
      ],
      "text/plain": [
       "SUCCESS: Optimal solution found."
      ]
     },
     "metadata": {},
     "output_type": "display_data"
    },
    {
     "data": {
      "text/html": [
       "<pre></pre>"
      ],
      "text/plain": []
     },
     "metadata": {},
     "output_type": "display_data"
    }
   ],
   "source": [
    "gbm_baseline = gl.logistic_classifier.create(trainset, target='click', features=features,# l2_penalty=0.001, \n",
    "                                             validation_set=validationset, max_iterations=20, class_weights='auto')\n"
   ]
  },
  {
   "cell_type": "markdown",
   "metadata": {},
   "source": [
    "## Boosted Tree Classifier (GBM)"
   ]
  },
  {
   "cell_type": "code",
   "execution_count": 234,
   "metadata": {
    "collapsed": false
   },
   "outputs": [
    {
     "data": {
      "text/html": [
       "<pre>Boosted trees classifier:</pre>"
      ],
      "text/plain": [
       "Boosted trees classifier:"
      ]
     },
     "metadata": {},
     "output_type": "display_data"
    },
    {
     "data": {
      "text/html": [
       "<pre>--------------------------------------------------------</pre>"
      ],
      "text/plain": [
       "--------------------------------------------------------"
      ]
     },
     "metadata": {},
     "output_type": "display_data"
    },
    {
     "data": {
      "text/html": [
       "<pre>Number of examples          : 1822055</pre>"
      ],
      "text/plain": [
       "Number of examples          : 1822055"
      ]
     },
     "metadata": {},
     "output_type": "display_data"
    },
    {
     "data": {
      "text/html": [
       "<pre>Number of classes           : 2</pre>"
      ],
      "text/plain": [
       "Number of classes           : 2"
      ]
     },
     "metadata": {},
     "output_type": "display_data"
    },
    {
     "data": {
      "text/html": [
       "<pre>Number of feature columns   : 3</pre>"
      ],
      "text/plain": [
       "Number of feature columns   : 3"
      ]
     },
     "metadata": {},
     "output_type": "display_data"
    },
    {
     "data": {
      "text/html": [
       "<pre>Number of unpacked features : 314</pre>"
      ],
      "text/plain": [
       "Number of unpacked features : 314"
      ]
     },
     "metadata": {},
     "output_type": "display_data"
    },
    {
     "data": {
      "text/html": [
       "<pre>+-----------+--------------+-------------------+-------------------+---------------------+---------------------+</pre>"
      ],
      "text/plain": [
       "+-----------+--------------+-------------------+-------------------+---------------------+---------------------+"
      ]
     },
     "metadata": {},
     "output_type": "display_data"
    },
    {
     "data": {
      "text/html": [
       "<pre>| Iteration | Elapsed Time | Training-accuracy | Training-log_loss | Validation-accuracy | Validation-log_loss |</pre>"
      ],
      "text/plain": [
       "| Iteration | Elapsed Time | Training-accuracy | Training-log_loss | Validation-accuracy | Validation-log_loss |"
      ]
     },
     "metadata": {},
     "output_type": "display_data"
    },
    {
     "data": {
      "text/html": [
       "<pre>+-----------+--------------+-------------------+-------------------+---------------------+---------------------+</pre>"
      ],
      "text/plain": [
       "+-----------+--------------+-------------------+-------------------+---------------------+---------------------+"
      ]
     },
     "metadata": {},
     "output_type": "display_data"
    },
    {
     "data": {
      "text/html": [
       "<pre>| 1         | 2.735176     | 0.999244          | 0.685689          | 0.999347            | 0.683224            |</pre>"
      ],
      "text/plain": [
       "| 1         | 2.735176     | 0.999244          | 0.685689          | 0.999347            | 0.683224            |"
      ]
     },
     "metadata": {},
     "output_type": "display_data"
    },
    {
     "data": {
      "text/html": [
       "<pre>| 2         | 5.148606     | 0.999244          | 0.678379          | 0.999347            | 0.673498            |</pre>"
      ],
      "text/plain": [
       "| 2         | 5.148606     | 0.999244          | 0.678379          | 0.999347            | 0.673498            |"
      ]
     },
     "metadata": {},
     "output_type": "display_data"
    },
    {
     "data": {
      "text/html": [
       "<pre>| 3         | 7.505544     | 0.999244          | 0.671212          | 0.999347            | 0.663962            |</pre>"
      ],
      "text/plain": [
       "| 3         | 7.505544     | 0.999244          | 0.671212          | 0.999347            | 0.663962            |"
      ]
     },
     "metadata": {},
     "output_type": "display_data"
    },
    {
     "data": {
      "text/html": [
       "<pre>| 4         | 9.979672     | 0.999244          | 0.664185          | 0.999347            | 0.654612            |</pre>"
      ],
      "text/plain": [
       "| 4         | 9.979672     | 0.999244          | 0.664185          | 0.999347            | 0.654612            |"
      ]
     },
     "metadata": {},
     "output_type": "display_data"
    },
    {
     "data": {
      "text/html": [
       "<pre>| 5         | 12.108212    | 0.999244          | 0.657292          | 0.999347            | 0.645441            |</pre>"
      ],
      "text/plain": [
       "| 5         | 12.108212    | 0.999244          | 0.657292          | 0.999347            | 0.645441            |"
      ]
     },
     "metadata": {},
     "output_type": "display_data"
    },
    {
     "data": {
      "text/html": [
       "<pre>| 6         | 14.101420    | 0.999244          | 0.650531          | 0.999347            | 0.636445            |</pre>"
      ],
      "text/plain": [
       "| 6         | 14.101420    | 0.999244          | 0.650531          | 0.999347            | 0.636445            |"
      ]
     },
     "metadata": {},
     "output_type": "display_data"
    },
    {
     "data": {
      "text/html": [
       "<pre>| 7         | 16.230133    | 0.999244          | 0.643898          | 0.999347            | 0.627620            |</pre>"
      ],
      "text/plain": [
       "| 7         | 16.230133    | 0.999244          | 0.643898          | 0.999347            | 0.627620            |"
      ]
     },
     "metadata": {},
     "output_type": "display_data"
    },
    {
     "data": {
      "text/html": [
       "<pre>| 8         | 18.416501    | 0.999244          | 0.637388          | 0.999347            | 0.618959            |</pre>"
      ],
      "text/plain": [
       "| 8         | 18.416501    | 0.999244          | 0.637388          | 0.999347            | 0.618959            |"
      ]
     },
     "metadata": {},
     "output_type": "display_data"
    },
    {
     "data": {
      "text/html": [
       "<pre>| 9         | 20.546348    | 0.999244          | 0.631000          | 0.999347            | 0.610459            |</pre>"
      ],
      "text/plain": [
       "| 9         | 20.546348    | 0.999244          | 0.631000          | 0.999347            | 0.610459            |"
      ]
     },
     "metadata": {},
     "output_type": "display_data"
    },
    {
     "data": {
      "text/html": [
       "<pre>| 10        | 22.608311    | 0.999244          | 0.624729          | 0.999347            | 0.602115            |</pre>"
      ],
      "text/plain": [
       "| 10        | 22.608311    | 0.999244          | 0.624729          | 0.999347            | 0.602115            |"
      ]
     },
     "metadata": {},
     "output_type": "display_data"
    },
    {
     "data": {
      "text/html": [
       "<pre>| 11        | 24.585725    | 0.999244          | 0.618573          | 0.999347            | 0.593924            |</pre>"
      ],
      "text/plain": [
       "| 11        | 24.585725    | 0.999244          | 0.618573          | 0.999347            | 0.593924            |"
      ]
     },
     "metadata": {},
     "output_type": "display_data"
    },
    {
     "data": {
      "text/html": [
       "<pre>| 12        | 26.647832    | 0.999244          | 0.612528          | 0.999347            | 0.585881            |</pre>"
      ],
      "text/plain": [
       "| 12        | 26.647832    | 0.999244          | 0.612528          | 0.999347            | 0.585881            |"
      ]
     },
     "metadata": {},
     "output_type": "display_data"
    },
    {
     "data": {
      "text/html": [
       "<pre>| 13        | 28.695073    | 0.999244          | 0.606591          | 0.999347            | 0.577982            |</pre>"
      ],
      "text/plain": [
       "| 13        | 28.695073    | 0.999244          | 0.606591          | 0.999347            | 0.577982            |"
      ]
     },
     "metadata": {},
     "output_type": "display_data"
    },
    {
     "data": {
      "text/html": [
       "<pre>| 14        | 30.667730    | 0.999244          | 0.600760          | 0.999347            | 0.570224            |</pre>"
      ],
      "text/plain": [
       "| 14        | 30.667730    | 0.999244          | 0.600760          | 0.999347            | 0.570224            |"
      ]
     },
     "metadata": {},
     "output_type": "display_data"
    },
    {
     "data": {
      "text/html": [
       "<pre>| 15        | 32.720549    | 0.999244          | 0.595032          | 0.999347            | 0.562603            |</pre>"
      ],
      "text/plain": [
       "| 15        | 32.720549    | 0.999244          | 0.595032          | 0.999347            | 0.562603            |"
      ]
     },
     "metadata": {},
     "output_type": "display_data"
    },
    {
     "data": {
      "text/html": [
       "<pre>| 16        | 34.845181    | 0.999245          | 0.589405          | 0.999347            | 0.555115            |</pre>"
      ],
      "text/plain": [
       "| 16        | 34.845181    | 0.999245          | 0.589405          | 0.999347            | 0.555115            |"
      ]
     },
     "metadata": {},
     "output_type": "display_data"
    },
    {
     "data": {
      "text/html": [
       "<pre>| 17        | 37.077868    | 0.999245          | 0.583875          | 0.999347            | 0.547758            |</pre>"
      ],
      "text/plain": [
       "| 17        | 37.077868    | 0.999245          | 0.583875          | 0.999347            | 0.547758            |"
      ]
     },
     "metadata": {},
     "output_type": "display_data"
    },
    {
     "data": {
      "text/html": [
       "<pre>| 18        | 39.193523    | 0.999245          | 0.578441          | 0.999347            | 0.540527            |</pre>"
      ],
      "text/plain": [
       "| 18        | 39.193523    | 0.999245          | 0.578441          | 0.999347            | 0.540527            |"
      ]
     },
     "metadata": {},
     "output_type": "display_data"
    },
    {
     "data": {
      "text/html": [
       "<pre>| 19        | 41.411806    | 0.999245          | 0.573100          | 0.999347            | 0.533421            |</pre>"
      ],
      "text/plain": [
       "| 19        | 41.411806    | 0.999245          | 0.573100          | 0.999347            | 0.533421            |"
      ]
     },
     "metadata": {},
     "output_type": "display_data"
    },
    {
     "data": {
      "text/html": [
       "<pre>| 20        | 43.522938    | 0.999245          | 0.567850          | 0.999347            | 0.526436            |</pre>"
      ],
      "text/plain": [
       "| 20        | 43.522938    | 0.999245          | 0.567850          | 0.999347            | 0.526436            |"
      ]
     },
     "metadata": {},
     "output_type": "display_data"
    },
    {
     "data": {
      "text/html": [
       "<pre>| 21        | 45.753679    | 0.999245          | 0.562689          | 0.999347            | 0.519568            |</pre>"
      ],
      "text/plain": [
       "| 21        | 45.753679    | 0.999245          | 0.562689          | 0.999347            | 0.519568            |"
      ]
     },
     "metadata": {},
     "output_type": "display_data"
    },
    {
     "data": {
      "text/html": [
       "<pre>| 22        | 48.071356    | 0.999245          | 0.557615          | 0.999347            | 0.512816            |</pre>"
      ],
      "text/plain": [
       "| 22        | 48.071356    | 0.999245          | 0.557615          | 0.999347            | 0.512816            |"
      ]
     },
     "metadata": {},
     "output_type": "display_data"
    },
    {
     "data": {
      "text/html": [
       "<pre>| 23        | 50.219495    | 0.999245          | 0.552625          | 0.999347            | 0.506177            |</pre>"
      ],
      "text/plain": [
       "| 23        | 50.219495    | 0.999245          | 0.552625          | 0.999347            | 0.506177            |"
      ]
     },
     "metadata": {},
     "output_type": "display_data"
    },
    {
     "data": {
      "text/html": [
       "<pre>| 24        | 52.372481    | 0.999245          | 0.547717          | 0.999347            | 0.499648            |</pre>"
      ],
      "text/plain": [
       "| 24        | 52.372481    | 0.999245          | 0.547717          | 0.999347            | 0.499648            |"
      ]
     },
     "metadata": {},
     "output_type": "display_data"
    },
    {
     "data": {
      "text/html": [
       "<pre>| 25        | 54.560277    | 0.999245          | 0.542891          | 0.999347            | 0.493225            |</pre>"
      ],
      "text/plain": [
       "| 25        | 54.560277    | 0.999245          | 0.542891          | 0.999347            | 0.493225            |"
      ]
     },
     "metadata": {},
     "output_type": "display_data"
    },
    {
     "data": {
      "text/html": [
       "<pre>| 26        | 56.788282    | 0.999245          | 0.538143          | 0.999347            | 0.486908            |</pre>"
      ],
      "text/plain": [
       "| 26        | 56.788282    | 0.999245          | 0.538143          | 0.999347            | 0.486908            |"
      ]
     },
     "metadata": {},
     "output_type": "display_data"
    },
    {
     "data": {
      "text/html": [
       "<pre>| 27        | 58.873948    | 0.999245          | 0.533473          | 0.999347            | 0.480694            |</pre>"
      ],
      "text/plain": [
       "| 27        | 58.873948    | 0.999245          | 0.533473          | 0.999347            | 0.480694            |"
      ]
     },
     "metadata": {},
     "output_type": "display_data"
    },
    {
     "data": {
      "text/html": [
       "<pre>| 28        | 61.124190    | 0.999245          | 0.528877          | 0.999347            | 0.474580            |</pre>"
      ],
      "text/plain": [
       "| 28        | 61.124190    | 0.999245          | 0.528877          | 0.999347            | 0.474580            |"
      ]
     },
     "metadata": {},
     "output_type": "display_data"
    },
    {
     "data": {
      "text/html": [
       "<pre>| 29        | 63.350505    | 0.999245          | 0.524356          | 0.999347            | 0.468564            |</pre>"
      ],
      "text/plain": [
       "| 29        | 63.350505    | 0.999245          | 0.524356          | 0.999347            | 0.468564            |"
      ]
     },
     "metadata": {},
     "output_type": "display_data"
    },
    {
     "data": {
      "text/html": [
       "<pre>| 30        | 65.492137    | 0.999245          | 0.519907          | 0.999347            | 0.462644            |</pre>"
      ],
      "text/plain": [
       "| 30        | 65.492137    | 0.999245          | 0.519907          | 0.999347            | 0.462644            |"
      ]
     },
     "metadata": {},
     "output_type": "display_data"
    },
    {
     "data": {
      "text/html": [
       "<pre>| 31        | 67.553303    | 0.999245          | 0.515528          | 0.999347            | 0.456817            |</pre>"
      ],
      "text/plain": [
       "| 31        | 67.553303    | 0.999245          | 0.515528          | 0.999347            | 0.456817            |"
      ]
     },
     "metadata": {},
     "output_type": "display_data"
    },
    {
     "data": {
      "text/html": [
       "<pre>| 32        | 69.755642    | 0.999245          | 0.511218          | 0.999347            | 0.451083            |</pre>"
      ],
      "text/plain": [
       "| 32        | 69.755642    | 0.999245          | 0.511218          | 0.999347            | 0.451083            |"
      ]
     },
     "metadata": {},
     "output_type": "display_data"
    },
    {
     "data": {
      "text/html": [
       "<pre>| 33        | 71.873852    | 0.999245          | 0.506976          | 0.999347            | 0.445438            |</pre>"
      ],
      "text/plain": [
       "| 33        | 71.873852    | 0.999245          | 0.506976          | 0.999347            | 0.445438            |"
      ]
     },
     "metadata": {},
     "output_type": "display_data"
    },
    {
     "data": {
      "text/html": [
       "<pre>| 34        | 74.059129    | 0.999245          | 0.502800          | 0.999351            | 0.439881            |</pre>"
      ],
      "text/plain": [
       "| 34        | 74.059129    | 0.999245          | 0.502800          | 0.999351            | 0.439881            |"
      ]
     },
     "metadata": {},
     "output_type": "display_data"
    },
    {
     "data": {
      "text/html": [
       "<pre>| 35        | 76.286152    | 0.999245          | 0.498688          | 0.999347            | 0.434411            |</pre>"
      ],
      "text/plain": [
       "| 35        | 76.286152    | 0.999245          | 0.498688          | 0.999347            | 0.434411            |"
      ]
     },
     "metadata": {},
     "output_type": "display_data"
    },
    {
     "data": {
      "text/html": [
       "<pre>| 36        | 78.545185    | 0.999245          | 0.494640          | 0.999351            | 0.429024            |</pre>"
      ],
      "text/plain": [
       "| 36        | 78.545185    | 0.999245          | 0.494640          | 0.999351            | 0.429024            |"
      ]
     },
     "metadata": {},
     "output_type": "display_data"
    },
    {
     "data": {
      "text/html": [
       "<pre>| 37        | 80.733046    | 0.999245          | 0.490654          | 0.999351            | 0.423721            |</pre>"
      ],
      "text/plain": [
       "| 37        | 80.733046    | 0.999245          | 0.490654          | 0.999351            | 0.423721            |"
      ]
     },
     "metadata": {},
     "output_type": "display_data"
    },
    {
     "data": {
      "text/html": [
       "<pre>| 38        | 82.877039    | 0.999245          | 0.486729          | 0.999351            | 0.418498            |</pre>"
      ],
      "text/plain": [
       "| 38        | 82.877039    | 0.999245          | 0.486729          | 0.999351            | 0.418498            |"
      ]
     },
     "metadata": {},
     "output_type": "display_data"
    },
    {
     "data": {
      "text/html": [
       "<pre>| 39        | 85.195743    | 0.999245          | 0.482863          | 0.999351            | 0.413354            |</pre>"
      ],
      "text/plain": [
       "| 39        | 85.195743    | 0.999245          | 0.482863          | 0.999351            | 0.413354            |"
      ]
     },
     "metadata": {},
     "output_type": "display_data"
    },
    {
     "data": {
      "text/html": [
       "<pre>| 40        | 87.537633    | 0.999245          | 0.479055          | 0.999351            | 0.408288            |</pre>"
      ],
      "text/plain": [
       "| 40        | 87.537633    | 0.999245          | 0.479055          | 0.999351            | 0.408288            |"
      ]
     },
     "metadata": {},
     "output_type": "display_data"
    },
    {
     "data": {
      "text/html": [
       "<pre>| 41        | 89.637689    | 0.999245          | 0.475305          | 0.999351            | 0.403297            |</pre>"
      ],
      "text/plain": [
       "| 41        | 89.637689    | 0.999245          | 0.475305          | 0.999351            | 0.403297            |"
      ]
     },
     "metadata": {},
     "output_type": "display_data"
    },
    {
     "data": {
      "text/html": [
       "<pre>| 42        | 91.800972    | 0.999245          | 0.471611          | 0.999351            | 0.398382            |</pre>"
      ],
      "text/plain": [
       "| 42        | 91.800972    | 0.999245          | 0.471611          | 0.999351            | 0.398382            |"
      ]
     },
     "metadata": {},
     "output_type": "display_data"
    },
    {
     "data": {
      "text/html": [
       "<pre>| 43        | 93.935702    | 0.999245          | 0.467971          | 0.999351            | 0.393539            |</pre>"
      ],
      "text/plain": [
       "| 43        | 93.935702    | 0.999245          | 0.467971          | 0.999351            | 0.393539            |"
      ]
     },
     "metadata": {},
     "output_type": "display_data"
    },
    {
     "data": {
      "text/html": [
       "<pre>| 44        | 96.304203    | 0.999245          | 0.464386          | 0.999351            | 0.388768            |</pre>"
      ],
      "text/plain": [
       "| 44        | 96.304203    | 0.999245          | 0.464386          | 0.999351            | 0.388768            |"
      ]
     },
     "metadata": {},
     "output_type": "display_data"
    },
    {
     "data": {
      "text/html": [
       "<pre>| 45        | 98.426304    | 0.999245          | 0.460853          | 0.999351            | 0.384067            |</pre>"
      ],
      "text/plain": [
       "| 45        | 98.426304    | 0.999245          | 0.460853          | 0.999351            | 0.384067            |"
      ]
     },
     "metadata": {},
     "output_type": "display_data"
    },
    {
     "data": {
      "text/html": [
       "<pre>| 46        | 100.584253   | 0.999245          | 0.457372          | 0.999351            | 0.379435            |</pre>"
      ],
      "text/plain": [
       "| 46        | 100.584253   | 0.999245          | 0.457372          | 0.999351            | 0.379435            |"
      ]
     },
     "metadata": {},
     "output_type": "display_data"
    },
    {
     "data": {
      "text/html": [
       "<pre>| 47        | 102.739396   | 0.999245          | 0.453941          | 0.999351            | 0.374871            |</pre>"
      ],
      "text/plain": [
       "| 47        | 102.739396   | 0.999245          | 0.453941          | 0.999351            | 0.374871            |"
      ]
     },
     "metadata": {},
     "output_type": "display_data"
    },
    {
     "data": {
      "text/html": [
       "<pre>| 48        | 104.920090   | 0.999245          | 0.450561          | 0.999351            | 0.370372            |</pre>"
      ],
      "text/plain": [
       "| 48        | 104.920090   | 0.999245          | 0.450561          | 0.999351            | 0.370372            |"
      ]
     },
     "metadata": {},
     "output_type": "display_data"
    },
    {
     "data": {
      "text/html": [
       "<pre>| 49        | 107.078487   | 0.999245          | 0.447229          | 0.999351            | 0.365939            |</pre>"
      ],
      "text/plain": [
       "| 49        | 107.078487   | 0.999245          | 0.447229          | 0.999351            | 0.365939            |"
      ]
     },
     "metadata": {},
     "output_type": "display_data"
    },
    {
     "data": {
      "text/html": [
       "<pre>| 50        | 109.241751   | 0.999245          | 0.443945          | 0.999351            | 0.361570            |</pre>"
      ],
      "text/plain": [
       "| 50        | 109.241751   | 0.999245          | 0.443945          | 0.999351            | 0.361570            |"
      ]
     },
     "metadata": {},
     "output_type": "display_data"
    },
    {
     "data": {
      "text/html": [
       "<pre>| 51        | 111.387988   | 0.999245          | 0.440708          | 0.999351            | 0.357263            |</pre>"
      ],
      "text/plain": [
       "| 51        | 111.387988   | 0.999245          | 0.440708          | 0.999351            | 0.357263            |"
      ]
     },
     "metadata": {},
     "output_type": "display_data"
    },
    {
     "data": {
      "text/html": [
       "<pre>| 52        | 113.517106   | 0.999245          | 0.437518          | 0.999351            | 0.353017            |</pre>"
      ],
      "text/plain": [
       "| 52        | 113.517106   | 0.999245          | 0.437518          | 0.999351            | 0.353017            |"
      ]
     },
     "metadata": {},
     "output_type": "display_data"
    },
    {
     "data": {
      "text/html": [
       "<pre>| 53        | 115.688871   | 0.999245          | 0.434372          | 0.999351            | 0.348832            |</pre>"
      ],
      "text/plain": [
       "| 53        | 115.688871   | 0.999245          | 0.434372          | 0.999351            | 0.348832            |"
      ]
     },
     "metadata": {},
     "output_type": "display_data"
    },
    {
     "data": {
      "text/html": [
       "<pre>| 54        | 117.951573   | 0.999245          | 0.431271          | 0.999351            | 0.344706            |</pre>"
      ],
      "text/plain": [
       "| 54        | 117.951573   | 0.999245          | 0.431271          | 0.999351            | 0.344706            |"
      ]
     },
     "metadata": {},
     "output_type": "display_data"
    },
    {
     "data": {
      "text/html": [
       "<pre>| 55        | 120.101120   | 0.999245          | 0.428214          | 0.999351            | 0.340638            |</pre>"
      ],
      "text/plain": [
       "| 55        | 120.101120   | 0.999245          | 0.428214          | 0.999351            | 0.340638            |"
      ]
     },
     "metadata": {},
     "output_type": "display_data"
    },
    {
     "data": {
      "text/html": [
       "<pre>| 56        | 122.267961   | 0.999245          | 0.425200          | 0.999351            | 0.336627            |</pre>"
      ],
      "text/plain": [
       "| 56        | 122.267961   | 0.999245          | 0.425200          | 0.999351            | 0.336627            |"
      ]
     },
     "metadata": {},
     "output_type": "display_data"
    },
    {
     "data": {
      "text/html": [
       "<pre>| 57        | 124.493127   | 0.999245          | 0.422228          | 0.999351            | 0.332672            |</pre>"
      ],
      "text/plain": [
       "| 57        | 124.493127   | 0.999245          | 0.422228          | 0.999351            | 0.332672            |"
      ]
     },
     "metadata": {},
     "output_type": "display_data"
    },
    {
     "data": {
      "text/html": [
       "<pre>| 58        | 126.634142   | 0.999245          | 0.419297          | 0.999351            | 0.328772            |</pre>"
      ],
      "text/plain": [
       "| 58        | 126.634142   | 0.999245          | 0.419297          | 0.999351            | 0.328772            |"
      ]
     },
     "metadata": {},
     "output_type": "display_data"
    },
    {
     "data": {
      "text/html": [
       "<pre>| 59        | 128.816672   | 0.999245          | 0.416406          | 0.999351            | 0.324926            |</pre>"
      ],
      "text/plain": [
       "| 59        | 128.816672   | 0.999245          | 0.416406          | 0.999351            | 0.324926            |"
      ]
     },
     "metadata": {},
     "output_type": "display_data"
    },
    {
     "data": {
      "text/html": [
       "<pre>| 60        | 131.088848   | 0.999245          | 0.413556          | 0.999351            | 0.321133            |</pre>"
      ],
      "text/plain": [
       "| 60        | 131.088848   | 0.999245          | 0.413556          | 0.999351            | 0.321133            |"
      ]
     },
     "metadata": {},
     "output_type": "display_data"
    },
    {
     "data": {
      "text/html": [
       "<pre>| 61        | 133.318218   | 0.999245          | 0.410745          | 0.999351            | 0.317392            |</pre>"
      ],
      "text/plain": [
       "| 61        | 133.318218   | 0.999245          | 0.410745          | 0.999351            | 0.317392            |"
      ]
     },
     "metadata": {},
     "output_type": "display_data"
    },
    {
     "data": {
      "text/html": [
       "<pre>| 62        | 135.476341   | 0.999245          | 0.407972          | 0.999351            | 0.313703            |</pre>"
      ],
      "text/plain": [
       "| 62        | 135.476341   | 0.999245          | 0.407972          | 0.999351            | 0.313703            |"
      ]
     },
     "metadata": {},
     "output_type": "display_data"
    },
    {
     "data": {
      "text/html": [
       "<pre>| 63        | 137.543240   | 0.999245          | 0.405237          | 0.999351            | 0.310064            |</pre>"
      ],
      "text/plain": [
       "| 63        | 137.543240   | 0.999245          | 0.405237          | 0.999351            | 0.310064            |"
      ]
     },
     "metadata": {},
     "output_type": "display_data"
    },
    {
     "data": {
      "text/html": [
       "<pre>| 64        | 139.587107   | 0.999245          | 0.402540          | 0.999351            | 0.306474            |</pre>"
      ],
      "text/plain": [
       "| 64        | 139.587107   | 0.999245          | 0.402540          | 0.999351            | 0.306474            |"
      ]
     },
     "metadata": {},
     "output_type": "display_data"
    },
    {
     "data": {
      "text/html": [
       "<pre>| 65        | 141.657825   | 0.999245          | 0.399878          | 0.999351            | 0.302933            |</pre>"
      ],
      "text/plain": [
       "| 65        | 141.657825   | 0.999245          | 0.399878          | 0.999351            | 0.302933            |"
      ]
     },
     "metadata": {},
     "output_type": "display_data"
    },
    {
     "data": {
      "text/html": [
       "<pre>| 66        | 143.988050   | 0.999245          | 0.397253          | 0.999351            | 0.299440            |</pre>"
      ],
      "text/plain": [
       "| 66        | 143.988050   | 0.999245          | 0.397253          | 0.999351            | 0.299440            |"
      ]
     },
     "metadata": {},
     "output_type": "display_data"
    },
    {
     "data": {
      "text/html": [
       "<pre>| 67        | 146.125529   | 0.999245          | 0.394663          | 0.999351            | 0.295993            |</pre>"
      ],
      "text/plain": [
       "| 67        | 146.125529   | 0.999245          | 0.394663          | 0.999351            | 0.295993            |"
      ]
     },
     "metadata": {},
     "output_type": "display_data"
    },
    {
     "data": {
      "text/html": [
       "<pre>| 68        | 148.244525   | 0.999245          | 0.392108          | 0.999351            | 0.292593            |</pre>"
      ],
      "text/plain": [
       "| 68        | 148.244525   | 0.999245          | 0.392108          | 0.999351            | 0.292593            |"
      ]
     },
     "metadata": {},
     "output_type": "display_data"
    },
    {
     "data": {
      "text/html": [
       "<pre>| 69        | 150.398367   | 0.999245          | 0.389587          | 0.999351            | 0.289239            |</pre>"
      ],
      "text/plain": [
       "| 69        | 150.398367   | 0.999245          | 0.389587          | 0.999351            | 0.289239            |"
      ]
     },
     "metadata": {},
     "output_type": "display_data"
    },
    {
     "data": {
      "text/html": [
       "<pre>| 70        | 152.475464   | 0.999245          | 0.387100          | 0.999351            | 0.285929            |</pre>"
      ],
      "text/plain": [
       "| 70        | 152.475464   | 0.999245          | 0.387100          | 0.999351            | 0.285929            |"
      ]
     },
     "metadata": {},
     "output_type": "display_data"
    },
    {
     "data": {
      "text/html": [
       "<pre>| 71        | 154.627133   | 0.999245          | 0.384645          | 0.999351            | 0.282663            |</pre>"
      ],
      "text/plain": [
       "| 71        | 154.627133   | 0.999245          | 0.384645          | 0.999351            | 0.282663            |"
      ]
     },
     "metadata": {},
     "output_type": "display_data"
    },
    {
     "data": {
      "text/html": [
       "<pre>| 72        | 156.797398   | 0.999245          | 0.382224          | 0.999351            | 0.279440            |</pre>"
      ],
      "text/plain": [
       "| 72        | 156.797398   | 0.999245          | 0.382224          | 0.999351            | 0.279440            |"
      ]
     },
     "metadata": {},
     "output_type": "display_data"
    },
    {
     "data": {
      "text/html": [
       "<pre>| 73        | 159.044410   | 0.999245          | 0.379834          | 0.999351            | 0.276260            |</pre>"
      ],
      "text/plain": [
       "| 73        | 159.044410   | 0.999245          | 0.379834          | 0.999351            | 0.276260            |"
      ]
     },
     "metadata": {},
     "output_type": "display_data"
    },
    {
     "data": {
      "text/html": [
       "<pre>| 74        | 161.400174   | 0.999245          | 0.377475          | 0.999351            | 0.273121            |</pre>"
      ],
      "text/plain": [
       "| 74        | 161.400174   | 0.999245          | 0.377475          | 0.999351            | 0.273121            |"
      ]
     },
     "metadata": {},
     "output_type": "display_data"
    },
    {
     "data": {
      "text/html": [
       "<pre>| 75        | 163.469935   | 0.999245          | 0.375147          | 0.999351            | 0.270024            |</pre>"
      ],
      "text/plain": [
       "| 75        | 163.469935   | 0.999245          | 0.375147          | 0.999351            | 0.270024            |"
      ]
     },
     "metadata": {},
     "output_type": "display_data"
    },
    {
     "data": {
      "text/html": [
       "<pre>| 76        | 165.562325   | 0.999245          | 0.372850          | 0.999351            | 0.266967            |</pre>"
      ],
      "text/plain": [
       "| 76        | 165.562325   | 0.999245          | 0.372850          | 0.999351            | 0.266967            |"
      ]
     },
     "metadata": {},
     "output_type": "display_data"
    },
    {
     "data": {
      "text/html": [
       "<pre>| 77        | 167.612363   | 0.999245          | 0.370583          | 0.999351            | 0.263950            |</pre>"
      ],
      "text/plain": [
       "| 77        | 167.612363   | 0.999245          | 0.370583          | 0.999351            | 0.263950            |"
      ]
     },
     "metadata": {},
     "output_type": "display_data"
    },
    {
     "data": {
      "text/html": [
       "<pre>| 78        | 169.872158   | 0.999245          | 0.368345          | 0.999351            | 0.260972            |</pre>"
      ],
      "text/plain": [
       "| 78        | 169.872158   | 0.999245          | 0.368345          | 0.999351            | 0.260972            |"
      ]
     },
     "metadata": {},
     "output_type": "display_data"
    },
    {
     "data": {
      "text/html": [
       "<pre>| 79        | 171.999302   | 0.999245          | 0.366136          | 0.999351            | 0.258033            |</pre>"
      ],
      "text/plain": [
       "| 79        | 171.999302   | 0.999245          | 0.366136          | 0.999351            | 0.258033            |"
      ]
     },
     "metadata": {},
     "output_type": "display_data"
    },
    {
     "data": {
      "text/html": [
       "<pre>| 80        | 174.086762   | 0.999245          | 0.363955          | 0.999351            | 0.255131            |</pre>"
      ],
      "text/plain": [
       "| 80        | 174.086762   | 0.999245          | 0.363955          | 0.999351            | 0.255131            |"
      ]
     },
     "metadata": {},
     "output_type": "display_data"
    },
    {
     "data": {
      "text/html": [
       "<pre>| 81        | 176.254185   | 0.999245          | 0.361803          | 0.999351            | 0.252267            |</pre>"
      ],
      "text/plain": [
       "| 81        | 176.254185   | 0.999245          | 0.361803          | 0.999351            | 0.252267            |"
      ]
     },
     "metadata": {},
     "output_type": "display_data"
    },
    {
     "data": {
      "text/html": [
       "<pre>| 82        | 178.451094   | 0.999245          | 0.359678          | 0.999351            | 0.249440            |</pre>"
      ],
      "text/plain": [
       "| 82        | 178.451094   | 0.999245          | 0.359678          | 0.999351            | 0.249440            |"
      ]
     },
     "metadata": {},
     "output_type": "display_data"
    },
    {
     "data": {
      "text/html": [
       "<pre>| 83        | 180.565228   | 0.999245          | 0.357581          | 0.999351            | 0.246648            |</pre>"
      ],
      "text/plain": [
       "| 83        | 180.565228   | 0.999245          | 0.357581          | 0.999351            | 0.246648            |"
      ]
     },
     "metadata": {},
     "output_type": "display_data"
    },
    {
     "data": {
      "text/html": [
       "<pre>| 84        | 182.777817   | 0.999245          | 0.355510          | 0.999351            | 0.243893            |</pre>"
      ],
      "text/plain": [
       "| 84        | 182.777817   | 0.999245          | 0.355510          | 0.999351            | 0.243893            |"
      ]
     },
     "metadata": {},
     "output_type": "display_data"
    },
    {
     "data": {
      "text/html": [
       "<pre>| 85        | 184.888513   | 0.999245          | 0.353466          | 0.999351            | 0.241172            |</pre>"
      ],
      "text/plain": [
       "| 85        | 184.888513   | 0.999245          | 0.353466          | 0.999351            | 0.241172            |"
      ]
     },
     "metadata": {},
     "output_type": "display_data"
    },
    {
     "data": {
      "text/html": [
       "<pre>| 86        | 187.083554   | 0.999245          | 0.351447          | 0.999351            | 0.238486            |</pre>"
      ],
      "text/plain": [
       "| 86        | 187.083554   | 0.999245          | 0.351447          | 0.999351            | 0.238486            |"
      ]
     },
     "metadata": {},
     "output_type": "display_data"
    },
    {
     "data": {
      "text/html": [
       "<pre>| 87        | 189.274689   | 0.999245          | 0.349454          | 0.999351            | 0.235834            |</pre>"
      ],
      "text/plain": [
       "| 87        | 189.274689   | 0.999245          | 0.349454          | 0.999351            | 0.235834            |"
      ]
     },
     "metadata": {},
     "output_type": "display_data"
    },
    {
     "data": {
      "text/html": [
       "<pre>| 88        | 191.366060   | 0.999245          | 0.347487          | 0.999351            | 0.233216            |</pre>"
      ],
      "text/plain": [
       "| 88        | 191.366060   | 0.999245          | 0.347487          | 0.999351            | 0.233216            |"
      ]
     },
     "metadata": {},
     "output_type": "display_data"
    },
    {
     "data": {
      "text/html": [
       "<pre>| 89        | 193.533830   | 0.999245          | 0.345544          | 0.999351            | 0.230630            |</pre>"
      ],
      "text/plain": [
       "| 89        | 193.533830   | 0.999245          | 0.345544          | 0.999351            | 0.230630            |"
      ]
     },
     "metadata": {},
     "output_type": "display_data"
    },
    {
     "data": {
      "text/html": [
       "<pre>| 90        | 195.695392   | 0.999245          | 0.343625          | 0.999351            | 0.228077            |</pre>"
      ],
      "text/plain": [
       "| 90        | 195.695392   | 0.999245          | 0.343625          | 0.999351            | 0.228077            |"
      ]
     },
     "metadata": {},
     "output_type": "display_data"
    },
    {
     "data": {
      "text/html": [
       "<pre>| 91        | 197.861690   | 0.999245          | 0.341730          | 0.999351            | 0.225556            |</pre>"
      ],
      "text/plain": [
       "| 91        | 197.861690   | 0.999245          | 0.341730          | 0.999351            | 0.225556            |"
      ]
     },
     "metadata": {},
     "output_type": "display_data"
    },
    {
     "data": {
      "text/html": [
       "<pre>| 92        | 199.996654   | 0.999245          | 0.339860          | 0.999351            | 0.223066            |</pre>"
      ],
      "text/plain": [
       "| 92        | 199.996654   | 0.999245          | 0.339860          | 0.999351            | 0.223066            |"
      ]
     },
     "metadata": {},
     "output_type": "display_data"
    },
    {
     "data": {
      "text/html": [
       "<pre>| 93        | 202.207361   | 0.999245          | 0.338012          | 0.999351            | 0.220608            |</pre>"
      ],
      "text/plain": [
       "| 93        | 202.207361   | 0.999245          | 0.338012          | 0.999351            | 0.220608            |"
      ]
     },
     "metadata": {},
     "output_type": "display_data"
    },
    {
     "data": {
      "text/html": [
       "<pre>| 94        | 204.298928   | 0.999245          | 0.336187          | 0.999351            | 0.218180            |</pre>"
      ],
      "text/plain": [
       "| 94        | 204.298928   | 0.999245          | 0.336187          | 0.999351            | 0.218180            |"
      ]
     },
     "metadata": {},
     "output_type": "display_data"
    },
    {
     "data": {
      "text/html": [
       "<pre>| 95        | 206.426220   | 0.999245          | 0.334385          | 0.999351            | 0.215782            |</pre>"
      ],
      "text/plain": [
       "| 95        | 206.426220   | 0.999245          | 0.334385          | 0.999351            | 0.215782            |"
      ]
     },
     "metadata": {},
     "output_type": "display_data"
    },
    {
     "data": {
      "text/html": [
       "<pre>| 96        | 208.508959   | 0.999245          | 0.332606          | 0.999351            | 0.213414            |</pre>"
      ],
      "text/plain": [
       "| 96        | 208.508959   | 0.999245          | 0.332606          | 0.999351            | 0.213414            |"
      ]
     },
     "metadata": {},
     "output_type": "display_data"
    },
    {
     "data": {
      "text/html": [
       "<pre>| 97        | 210.629680   | 0.999245          | 0.330848          | 0.999351            | 0.211075            |</pre>"
      ],
      "text/plain": [
       "| 97        | 210.629680   | 0.999245          | 0.330848          | 0.999351            | 0.211075            |"
      ]
     },
     "metadata": {},
     "output_type": "display_data"
    },
    {
     "data": {
      "text/html": [
       "<pre>| 98        | 212.795003   | 0.999245          | 0.329112          | 0.999351            | 0.208765            |</pre>"
      ],
      "text/plain": [
       "| 98        | 212.795003   | 0.999245          | 0.329112          | 0.999351            | 0.208765            |"
      ]
     },
     "metadata": {},
     "output_type": "display_data"
    },
    {
     "data": {
      "text/html": [
       "<pre>| 99        | 214.911203   | 0.999245          | 0.327398          | 0.999351            | 0.206483            |</pre>"
      ],
      "text/plain": [
       "| 99        | 214.911203   | 0.999245          | 0.327398          | 0.999351            | 0.206483            |"
      ]
     },
     "metadata": {},
     "output_type": "display_data"
    },
    {
     "data": {
      "text/html": [
       "<pre>| 100       | 217.107781   | 0.999245          | 0.325704          | 0.999351            | 0.204229            |</pre>"
      ],
      "text/plain": [
       "| 100       | 217.107781   | 0.999245          | 0.325704          | 0.999351            | 0.204229            |"
      ]
     },
     "metadata": {},
     "output_type": "display_data"
    },
    {
     "data": {
      "text/html": [
       "<pre>+-----------+--------------+-------------------+-------------------+---------------------+---------------------+</pre>"
      ],
      "text/plain": [
       "+-----------+--------------+-------------------+-------------------+---------------------+---------------------+"
      ]
     },
     "metadata": {},
     "output_type": "display_data"
    }
   ],
   "source": [
    "gbm_baseline = gl.boosted_trees_classifier.create(trainset, target='click', features=features,\n",
    "                                                  validation_set=validationset, max_depth=5, step_size=0.01,\n",
    "                                                  max_iterations=100,# min_child_weight=trainset.shape[0]/1000,\n",
    "                                                  early_stopping_rounds=5)#, \n",
    "#                                                   class_weights='auto')"
   ]
  },
  {
   "cell_type": "markdown",
   "metadata": {},
   "source": [
    "## SVM"
   ]
  },
  {
   "cell_type": "code",
   "execution_count": 259,
   "metadata": {
    "collapsed": false
   },
   "outputs": [
    {
     "data": {
      "text/html": [
       "<pre>SVM:</pre>"
      ],
      "text/plain": [
       "SVM:"
      ]
     },
     "metadata": {},
     "output_type": "display_data"
    },
    {
     "data": {
      "text/html": [
       "<pre>--------------------------------------------------------</pre>"
      ],
      "text/plain": [
       "--------------------------------------------------------"
      ]
     },
     "metadata": {},
     "output_type": "display_data"
    },
    {
     "data": {
      "text/html": [
       "<pre>Number of examples          : 1822055</pre>"
      ],
      "text/plain": [
       "Number of examples          : 1822055"
      ]
     },
     "metadata": {},
     "output_type": "display_data"
    },
    {
     "data": {
      "text/html": [
       "<pre>Number of classes           : 2</pre>"
      ],
      "text/plain": [
       "Number of classes           : 2"
      ]
     },
     "metadata": {},
     "output_type": "display_data"
    },
    {
     "data": {
      "text/html": [
       "<pre>Number of feature columns   : 3</pre>"
      ],
      "text/plain": [
       "Number of feature columns   : 3"
      ]
     },
     "metadata": {},
     "output_type": "display_data"
    },
    {
     "data": {
      "text/html": [
       "<pre>Number of unpacked features : 314</pre>"
      ],
      "text/plain": [
       "Number of unpacked features : 314"
      ]
     },
     "metadata": {},
     "output_type": "display_data"
    },
    {
     "data": {
      "text/html": [
       "<pre>Number of coefficients    : 315</pre>"
      ],
      "text/plain": [
       "Number of coefficients    : 315"
      ]
     },
     "metadata": {},
     "output_type": "display_data"
    },
    {
     "data": {
      "text/html": [
       "<pre>Starting L-BFGS</pre>"
      ],
      "text/plain": [
       "Starting L-BFGS"
      ]
     },
     "metadata": {},
     "output_type": "display_data"
    },
    {
     "data": {
      "text/html": [
       "<pre>--------------------------------------------------------</pre>"
      ],
      "text/plain": [
       "--------------------------------------------------------"
      ]
     },
     "metadata": {},
     "output_type": "display_data"
    },
    {
     "data": {
      "text/html": [
       "<pre>+-----------+----------+-----------+--------------+-------------------+---------------------+</pre>"
      ],
      "text/plain": [
       "+-----------+----------+-----------+--------------+-------------------+---------------------+"
      ]
     },
     "metadata": {},
     "output_type": "display_data"
    },
    {
     "data": {
      "text/html": [
       "<pre>| Iteration | Passes   | Step size | Elapsed Time | Training-accuracy | Validation-accuracy |</pre>"
      ],
      "text/plain": [
       "| Iteration | Passes   | Step size | Elapsed Time | Training-accuracy | Validation-accuracy |"
      ]
     },
     "metadata": {},
     "output_type": "display_data"
    },
    {
     "data": {
      "text/html": [
       "<pre>+-----------+----------+-----------+--------------+-------------------+---------------------+</pre>"
      ],
      "text/plain": [
       "+-----------+----------+-----------+--------------+-------------------+---------------------+"
      ]
     },
     "metadata": {},
     "output_type": "display_data"
    },
    {
     "data": {
      "text/html": [
       "<pre>| 1         | 3        | 0.000001  | 4.919024     | 0.999242          | 0.999351            |</pre>"
      ],
      "text/plain": [
       "| 1         | 3        | 0.000001  | 4.919024     | 0.999242          | 0.999351            |"
      ]
     },
     "metadata": {},
     "output_type": "display_data"
    },
    {
     "data": {
      "text/html": [
       "<pre>Warning: Reached max step size.</pre>"
      ],
      "text/plain": [
       "Warning: Reached max step size."
      ]
     },
     "metadata": {},
     "output_type": "display_data"
    },
    {
     "data": {
      "text/html": [
       "<pre>| 2         | 8        | 25.000000 | 13.396700    | 0.999242          | 0.999351            |</pre>"
      ],
      "text/plain": [
       "| 2         | 8        | 25.000000 | 13.396700    | 0.999242          | 0.999351            |"
      ]
     },
     "metadata": {},
     "output_type": "display_data"
    },
    {
     "data": {
      "text/html": [
       "<pre>| 3         | 9        | 25.000000 | 15.703220    | 0.000758          | 0.000649            |</pre>"
      ],
      "text/plain": [
       "| 3         | 9        | 25.000000 | 15.703220    | 0.000758          | 0.000649            |"
      ]
     },
     "metadata": {},
     "output_type": "display_data"
    },
    {
     "data": {
      "text/html": [
       "<pre>| 4         | 12       | 5.000000  | 20.937219    | 0.999242          | 0.999351            |</pre>"
      ],
      "text/plain": [
       "| 4         | 12       | 5.000000  | 20.937219    | 0.999242          | 0.999351            |"
      ]
     },
     "metadata": {},
     "output_type": "display_data"
    },
    {
     "data": {
      "text/html": [
       "<pre>| 5         | 13       | 5.000000  | 23.215727    | 0.999220          | 0.999320            |</pre>"
      ],
      "text/plain": [
       "| 5         | 13       | 5.000000  | 23.215727    | 0.999220          | 0.999320            |"
      ]
     },
     "metadata": {},
     "output_type": "display_data"
    },
    {
     "data": {
      "text/html": [
       "<pre>| 6         | 14       | 5.000000  | 25.475306    | 0.000798          | 0.000699            |</pre>"
      ],
      "text/plain": [
       "| 6         | 14       | 5.000000  | 25.475306    | 0.000798          | 0.000699            |"
      ]
     },
     "metadata": {},
     "output_type": "display_data"
    },
    {
     "data": {
      "text/html": [
       "<pre>| 7         | 16       | 1.000000  | 29.218396    | 0.999237          | 0.999344            |</pre>"
      ],
      "text/plain": [
       "| 7         | 16       | 1.000000  | 29.218396    | 0.999237          | 0.999344            |"
      ]
     },
     "metadata": {},
     "output_type": "display_data"
    },
    {
     "data": {
      "text/html": [
       "<pre>| 8         | 17       | 1.000000  | 31.468307    | 0.999242          | 0.999351            |</pre>"
      ],
      "text/plain": [
       "| 8         | 17       | 1.000000  | 31.468307    | 0.999242          | 0.999351            |"
      ]
     },
     "metadata": {},
     "output_type": "display_data"
    },
    {
     "data": {
      "text/html": [
       "<pre>| 9         | 18       | 1.000000  | 34.346956    | 0.999237          | 0.999344            |</pre>"
      ],
      "text/plain": [
       "| 9         | 18       | 1.000000  | 34.346956    | 0.999237          | 0.999344            |"
      ]
     },
     "metadata": {},
     "output_type": "display_data"
    },
    {
     "data": {
      "text/html": [
       "<pre>| 10        | 19       | 1.000000  | 36.603774    | 0.999242          | 0.999351            |</pre>"
      ],
      "text/plain": [
       "| 10        | 19       | 1.000000  | 36.603774    | 0.999242          | 0.999351            |"
      ]
     },
     "metadata": {},
     "output_type": "display_data"
    },
    {
     "data": {
      "text/html": [
       "<pre>+-----------+----------+-----------+--------------+-------------------+---------------------+</pre>"
      ],
      "text/plain": [
       "+-----------+----------+-----------+--------------+-------------------+---------------------+"
      ]
     },
     "metadata": {},
     "output_type": "display_data"
    },
    {
     "data": {
      "text/html": [
       "<pre>TERMINATED: Iteration limit reached.</pre>"
      ],
      "text/plain": [
       "TERMINATED: Iteration limit reached."
      ]
     },
     "metadata": {},
     "output_type": "display_data"
    },
    {
     "data": {
      "text/html": [
       "<pre>This model may not be optimal. To improve it, consider increasing `max_iterations`.</pre>"
      ],
      "text/plain": [
       "This model may not be optimal. To improve it, consider increasing `max_iterations`."
      ]
     },
     "metadata": {},
     "output_type": "display_data"
    }
   ],
   "source": [
    "gbm_baseline = gl.svm_classifier.create(trainset, target='click', features=features,\n",
    "                                            validation_set=validationset,\n",
    "                                            max_iterations=10)"
   ]
  },
  {
   "cell_type": "markdown",
   "metadata": {},
   "source": [
    "# Evaluation"
   ]
  },
  {
   "cell_type": "code",
   "execution_count": 260,
   "metadata": {
    "collapsed": false
   },
   "outputs": [
    {
     "name": "stdout",
     "output_type": "stream",
     "text": [
      "{'f1_score': 0.0, 'recall': 0.0, 'confusion_matrix': Columns:\n",
      "\ttarget_label\tint\n",
      "\tpredicted_label\tint\n",
      "\tcount\tint\n",
      "\n",
      "Rows: 2\n",
      "\n",
      "Data:\n",
      "+--------------+-----------------+--------+\n",
      "| target_label | predicted_label | count  |\n",
      "+--------------+-----------------+--------+\n",
      "|      1       |        0        |  296   |\n",
      "|      0       |        0        | 455807 |\n",
      "+--------------+-----------------+--------+\n",
      "[2 rows x 3 columns]\n",
      ", 'precision': None, 'accuracy': 0.9993510237819089}\n"
     ]
    }
   ],
   "source": [
    "results = gbm_baseline.evaluate(validationset)\n",
    "print results"
   ]
  },
  {
   "cell_type": "markdown",
   "metadata": {},
   "source": [
    "## Output"
   ]
  },
  {
   "cell_type": "code",
   "execution_count": null,
   "metadata": {
    "collapsed": false
   },
   "outputs": [],
   "source": [
    "gbm_predictions = gbm_baseline.predict(test_set, output_type='probability')\n",
    "\n",
    "with open('./output/gbm_predictions.csv', mode='w') as prediction_file:\n",
    "    # write headers to file\n",
    "    prediction_file.write('Id,Prediction\\n')\n",
    "    prediction_id = 1\n",
    "    for prediction in gbm_predictions:\n",
    "        prediction_file.write('{},{:.5f}\\n'.format(prediction_id, prediction))\n",
    "        prediction_id += 1\n",
    "\n",
    "prediction_file.close()"
   ]
  },
  {
   "cell_type": "markdown",
   "metadata": {},
   "source": [
    "## SVM Output\n"
   ]
  },
  {
   "cell_type": "code",
   "execution_count": 262,
   "metadata": {
    "collapsed": true
   },
   "outputs": [],
   "source": [
    "import math"
   ]
  },
  {
   "cell_type": "code",
   "execution_count": 266,
   "metadata": {
    "collapsed": false
   },
   "outputs": [
    {
     "name": "stdout",
     "output_type": "stream",
     "text": [
      "0\n",
      "545421\n"
     ]
    }
   ],
   "source": [
    "svm_predictions = gbm_baseline.predict(test_set, output_type='class')\n",
    "svm_values = gbm_baseline.predict(test_set, output_type='margin')\n",
    "\n",
    "n_1 = svm_predictions.filter(lambda x: x == 1).size()\n",
    "n_0 = svm_predictions.filter(lambda x: x == 0).size()\n",
    "\n",
    "_a, _b = platt_scaling(svm_values, svm_predictions, n_1, n_0)\n",
    "svm_predictions = svm_predictions.apply(lambda x: applyPlatt(x, _a, _b))\n",
    "\n",
    "# open support vector machines model predictions file\n",
    "with open('./output/svm_predictions.csv', mode='w') as svm_prediction_file:\n",
    "    # write headers to file\n",
    "    svm_prediction_file.write('Id,Prediction\\n')\n",
    "    # set support vector machines model prediction id to 1\n",
    "    svm_prediction_id = 1\n",
    "    # for every support vector machines model prediction\n",
    "    for svm_prediction in svm_predictions:\n",
    "        # write support vector machines model prediction to file in requested format\n",
    "        svm_prediction_file.write('{},{:.5f}\\n'.format(svm_prediction_id, svm_prediction))\n",
    "        # increment support vector machines model prediction id\n",
    "        svm_prediction_id += 1\n",
    "\n",
    "# close support vector machines model predictions file\n",
    "svm_prediction_file.close()"
   ]
  },
  {
   "cell_type": "code",
   "execution_count": null,
   "metadata": {
    "collapsed": true
   },
   "outputs": [],
   "source": []
  }
 ],
 "metadata": {
  "kernelspec": {
   "display_name": "Python 2",
   "language": "python",
   "name": "python2"
  },
  "language_info": {
   "codemirror_mode": {
    "name": "ipython",
    "version": 2
   },
   "file_extension": ".py",
   "mimetype": "text/x-python",
   "name": "python",
   "nbconvert_exporter": "python",
   "pygments_lexer": "ipython2",
   "version": "2.7.11"
  }
 },
 "nbformat": 4,
 "nbformat_minor": 0
}
