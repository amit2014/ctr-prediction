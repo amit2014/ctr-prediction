{
 "cells": [
  {
   "cell_type": "markdown",
   "metadata": {},
   "source": [
    "# Experiments with Support Vector Machine and Gradient Boosted Machine models"
   ]
  },
  {
   "cell_type": "code",
   "execution_count": 1,
   "metadata": {
    "collapsed": true
   },
   "outputs": [],
   "source": [
    "import graphlab as gl\n",
    "import os\n",
    "gl.canvas.set_target('ipynb')"
   ]
  },
  {
   "cell_type": "code",
   "execution_count": 89,
   "metadata": {
    "collapsed": false
   },
   "outputs": [],
   "source": [
    "# load train data\n",
    "train_set = gl.SFrame.read_csv('../data/train_data.txt', delimiter='\\t', verbose=False)\n",
    "# load test data\n",
    "test_set = gl.SFrame.read_csv('../data/test_data.txt', delimiter='\\t', verbose=False)\n",
    "# split train data to train set and validation set\n",
    "#train_set, validation_set = train_set.random_split(0.8, seed=1337)"
   ]
  },
  {
   "cell_type": "markdown",
   "metadata": {},
   "source": [
    "## Feature engineering functions"
   ]
  },
  {
   "cell_type": "code",
   "execution_count": 86,
   "metadata": {
    "collapsed": false
   },
   "outputs": [],
   "source": [
    "from graphlab import feature_engineering as fe\n",
    "\n",
    "\n",
    "def site_feat(data):\n",
    "    label = 'site_map'\n",
    "    if label in data.column_names():\n",
    "        return data\n",
    "\n",
    "    data[label] = data['domain'] + data['user_agent']\n",
    "    return data, label\n",
    "\n",
    "\n",
    "def slot_feat(data):\n",
    "    label = 'slot_features'\n",
    "    if label in data.column_names():\n",
    "        return data\n",
    "\n",
    "    data[label] = data['ad_slot_width'] + data['ad_slot_height']\n",
    "    return data, label\n",
    "\n",
    "\n",
    "def location_feat(data):\n",
    "    label = 'location_feat'\n",
    "    if label in data.column_names():\n",
    "        return data\n",
    "\n",
    "#     data.add_column(data.select_column('region').apply(lambda x: str(x)) + \\\n",
    "#                     data.select_column('city').apply(lambda x: str(x)), label)\n",
    "    data[label] = data['region'] + data['city']\n",
    "    return data, label\n",
    "\n",
    "def ad_size_feat(data):\n",
    "    label = 'ad_size_feat'\n",
    "    if label in data.column_names():\n",
    "        return data\n",
    "#     data.add_column(data.select_column('ad_slot_width').apply(lambda x: str(x)) + \\\n",
    "#                     data.select_column('ad_slot_height').apply(lambda x: str(x)), label)\n",
    "    data[label] = data['ad_slot_width'] + data['ad_slot_height']\n",
    "    return data, label\n",
    "\n",
    "\n",
    "def create_quad_features(train, interaction_columns, label='quadratic_features'):\n",
    "    return fe.create(train, fe.QuadraticFeatures(features=interaction_columns, output_column_name=label)), label\n",
    "\n",
    "\n",
    "def apply_quadratic(data, quad, label):\n",
    "\n",
    "    if label in data.column_names():\n",
    "        # operation already performed, do nothing\n",
    "        return data\n",
    "    # for feature in interaction_columns:\n",
    "    #     dataset[feature] = data[feature].astype(int)\n",
    "    return quad.transform(data)\n",
    "\n",
    "\n",
    "def create_onehot_features(train, interaction_columns, categories=300, label='encoded_features'):\n",
    "    return fe.create(train, fe.OneHotEncoder(features=interaction_columns,\n",
    "                                             max_categories=categories, output_column_name=label)), label\n",
    "\n",
    "\n",
    "def apply_feature_eng(data, impl, label):\n",
    "    if label in data.column_names():\n",
    "        return data\n",
    "    return impl.transform(data)\n",
    "\n",
    "\n",
    "def apply_dictionary(tags_l):\n",
    "    if len(tags_l) > 0:\n",
    "        tags = tags_l.split(',')\n",
    "        return dict(zip(tags, [1 for tag in tags]))\n",
    "    else:\n",
    "        return {}\n",
    "#     tags_to_dict = lambda tags: dict(zip(tags, [1 for tag in tags]))\n",
    "    \n",
    "#     data[label] = data.apply(lambda row: tags_to_dict(col.split(',')))\n",
    "#     print data[label].head(5)\n",
    "#     return data\n",
    "\n",
    "\n",
    "def tags_to_dict(row):\n",
    "    tags = row.split(',')\n",
    "    return dict(zip(tags, [1 for _ in tags]))\n",
    "\n",
    "\n",
    "def apply_separate_uagent(data, regexp, label):\n",
    "    if label in data.column_names():\n",
    "        return data\n",
    "    data[label] = data.apply(lambda row: filter_uagent(row['user_agent'], regexp))\n",
    "    return data\n",
    "\n",
    "def apply_separate_uagent2(data, label_os, label_browser):\n",
    "    if label_os in data.column_names():\n",
    "        return data\n",
    "    data[label_os] = data.apply(lambda row: row['user_agent'].split('_')[0])\n",
    "    data[label_browser] = data.apply(lambda row: row['user_agent'].split('_')[1])\n",
    "    return data\n",
    "\n",
    "\n",
    "def filter_uagent(value, regexp):\n",
    "    return 1 if regexp.search(value) is not None else 0\n",
    "\n",
    "def floor_price_category(col):\n",
    "    price = int(col)\n",
    "    if price > 80:\n",
    "        return \"81+\"\n",
    "    elif price > 10:\n",
    "        return \"11-80\"\n",
    "    elif price > 0:\n",
    "        return \"1-10\"\n",
    "    else:\n",
    "        return \"0\"\n"
   ]
  },
  {
   "cell_type": "markdown",
   "metadata": {},
   "source": [
    "## Platt Scaling for SVM"
   ]
  },
  {
   "cell_type": "code",
   "execution_count": 4,
   "metadata": {
    "collapsed": true
   },
   "outputs": [],
   "source": [
    "def platt_scaling(svm_output, svm_prediction, n_1, n_0):\n",
    "    _a = 0.\n",
    "    _b = math.log((n_0+1) / (n_1+1))\n",
    "    hi_target = (n_1+1) / (n_1+2)\n",
    "    lo_target = 1 / (n_0+2)\n",
    "    lambda_v = 1e-3\n",
    "    old_err = 1e300\n",
    "    pp = gl.SArray(data=[((n_1+1)/(n_0+n_1+2)) for _ in xrange(svm_output.size())], dtype=float)\n",
    "    count = 0\n",
    "    for it in xrange(100):\n",
    "        a = b = c = d = e = 0.\n",
    "        # compute the Hessian & gradient error function w.r.t. A & B\n",
    "        for i in xrange(pp.size()):\n",
    "            t = hi_target if svm_prediction[i] else lo_target\n",
    "            d1 = pp[i] - t\n",
    "            d2 = pp[i] * (1 - pp[i])\n",
    "            a += svm_output[i] * svm_output[i] * d2\n",
    "            b += d2\n",
    "            c += svm_output[i] * d2\n",
    "            d += svm_output[i] * d1\n",
    "            e += d1\n",
    "\n",
    "        # if gradient is really tiny, then stop\n",
    "        if abs(d) < 1e-9 and abs(e) < 1e-9:\n",
    "            break\n",
    "        old_a = _a\n",
    "        old_b = _b\n",
    "        err = 0.\n",
    "        while True:\n",
    "            det = (a + lambda_v) * (b + lambda_v) - c*c\n",
    "            if det == 0.: # if determinant of Hessian is zero\n",
    "                # increases stabilizer\n",
    "                lambda_v *= 10\n",
    "                continue\n",
    "            _a = old_a + ((b + lambda_v) * d - c*e) / det\n",
    "            _b = old_b + ((a + lambda_v) * e - c*d) / det\n",
    "\n",
    "            # now perform the goodness of fit\n",
    "            err = 0.\n",
    "            for j in xrange(pp.size()):\n",
    "                p = 1 / (1 + math.exp(svm_output[j]*_a + _b))\n",
    "                pp[j] = p\n",
    "                ## At this step, make sure log(0) returns -200\n",
    "                if p <= 1.383897e-87:\n",
    "                    err -= t * (-200) + (1 - t) * math.log(1 - p)\n",
    "                elif p == 1:\n",
    "                    err -= t * math.log(p) + (1 - t) * (-200)\n",
    "                else:\n",
    "                    err -= t*math.log(p) + (1-t)*math.log(1-p)\n",
    "\n",
    "                if err == -float(\"inf\"):\n",
    "                    print '==Something is wrong=='\n",
    "\n",
    "            if err < old_err*(1 + 1e-7):\n",
    "                lambda_v *= 0.1\n",
    "                break\n",
    "\n",
    "            # error did not decrease: increase stabilizer by factor of 10 & try again\n",
    "            lambda_v *= 10\n",
    "            if lambda_v >= 1e6: # something is broken: give up\n",
    "                print '==Somethig is broken... giving up=='\n",
    "                break\n",
    "\n",
    "        diff = err - old_err\n",
    "        scale = 0.5 * (err + old_err + 1)\n",
    "        if diff > -1e-3*scale and diff < 1e-7*scale:\n",
    "            count += 1\n",
    "        else:\n",
    "            count = 0\n",
    "        print count\n",
    "        old_err = err\n",
    "        if count == 3:\n",
    "            break\n",
    "\n",
    "    return _a, _b\n",
    "\n",
    "\n",
    "########################################################################################################################\n",
    "\n",
    "def apply_platt(x, _a, _b):\n",
    "    print math.exp(x*_a + _b)\n",
    "    return 1. / (1. + math.exp(x*_a + _b))\n",
    "\n",
    "\n",
    "########################################################################################################################\n"
   ]
  },
  {
   "cell_type": "markdown",
   "metadata": {},
   "source": [
    "## Feature Engineering"
   ]
  },
  {
   "cell_type": "code",
   "execution_count": 109,
   "metadata": {
    "collapsed": true
   },
   "outputs": [],
   "source": [
    "trainset, validationset = train_set.random_split(0.9, seed=1337)"
   ]
  },
  {
   "cell_type": "markdown",
   "metadata": {},
   "source": [
    "# /*"
   ]
  },
  {
   "cell_type": "code",
   "execution_count": null,
   "metadata": {
    "collapsed": true
   },
   "outputs": [],
   "source": [
    "# features = ['weekday', 'hour']#,\n",
    "#                 #'ad_slot_id',\n",
    "    \n",
    "# features_onehot = [\n",
    "#                 'user_agent',\n",
    "#                 'ad_slot_floor_price', 'ad_slot_width', 'ad_slot_height',\n",
    "#                 'ad_slot_format'\n",
    "#                 #'domain'\n",
    "#                 #'ad_exchange'\n",
    "#                 ]"
   ]
  },
  {
   "cell_type": "markdown",
   "metadata": {},
   "source": [
    "# */"
   ]
  },
  {
   "cell_type": "code",
   "execution_count": null,
   "metadata": {
    "collapsed": false
   },
   "outputs": [],
   "source": [
    "# trainset, _ = site_feat(trainset)\n",
    "# validationset, site_featl = site_feat(validationset)\n",
    "# #test_set, site_featl = site_feat(test_set)\n",
    "# features.append(site_featl)"
   ]
  },
  {
   "cell_type": "code",
   "execution_count": null,
   "metadata": {
    "collapsed": true
   },
   "outputs": [],
   "source": [
    "# trainset, _ = location_feat(trainset)\n",
    "# validationset, location_featl = location_feat(validationset)\n",
    "# #test_set, location_feat = location_feat(test_set)\n",
    "# features.append(location_featl)"
   ]
  },
  {
   "cell_type": "code",
   "execution_count": null,
   "metadata": {
    "collapsed": true
   },
   "outputs": [],
   "source": [
    "# trainset, _ = ad_size_feat(trainset)\n",
    "# validationset, size_label = ad_size_feat(validationset)\n",
    "# features.append(size_label)"
   ]
  },
  {
   "cell_type": "code",
   "execution_count": null,
   "metadata": {
    "collapsed": true
   },
   "outputs": [],
   "source": [
    "import re"
   ]
  },
  {
   "cell_type": "code",
   "execution_count": null,
   "metadata": {
    "collapsed": false
   },
   "outputs": [],
   "source": [
    "# uagent_desktop_label = 'uagent_desktop'\n",
    "# regexp = re.compile(r'windows|linux|mac')\n",
    "# trainset = apply_separate_uagent(trainset, regexp, uagent_desktop_label)\n",
    "# validationset = apply_separate_uagent(validationset, regexp, uagent_desktop_label)\n",
    "# features.append(uagent_desktop_label)"
   ]
  },
  {
   "cell_type": "code",
   "execution_count": null,
   "metadata": {
    "collapsed": true
   },
   "outputs": [],
   "source": [
    "# uagent_mobile_label = 'uagent_mobile'\n",
    "# regexp = re.compile(r'android|ios|other')\n",
    "# trainset = apply_separate_uagent(trainset, regexp, uagent_mobile_label)\n",
    "# validationset = apply_separate_uagent(validationset, regexp, uagent_mobile_label)\n",
    "# features.append(uagent_mobile_label)"
   ]
  },
  {
   "cell_type": "code",
   "execution_count": null,
   "metadata": {
    "collapsed": false
   },
   "outputs": [],
   "source": [
    "# interaction_columns = ['ad_slot_width', 'ad_slot_height']\n",
    "# quad, quad_site_label = create_quad_features(trainset, interaction_columns, quad_site_label)\n",
    "# trainset = apply_quadratic(trainset, quad, quad_site_label)\n",
    "# validationset = apply_quadratic(validationset, quad, quad_site_label)\n",
    "# features.append(quad_site_label)"
   ]
  },
  {
   "cell_type": "markdown",
   "metadata": {},
   "source": [
    "# /*"
   ]
  },
  {
   "cell_type": "code",
   "execution_count": null,
   "metadata": {
    "collapsed": false
   },
   "outputs": [],
   "source": [
    "# ip_fixed_label = 'ip_fixed'\n",
    "# trainset.add_column(trainset.select_column('ip').apply(lambda x: x.index('.', x.index('.')+1)), ip_fixed_label)\n",
    "# validationset.add_column(validationset.select_column('ip').apply(lambda x: x.index('.', x.index('.')+1)), ip_fixed_label)\n",
    "# test_set.add_column(test_set.select_column('ip').apply(lambda x: x.index('.', x.index('.')+1)), ip_fixed_label)\n",
    "# # features.append(ip_fixed_label)\n",
    "# features_onehot.append(ip_fixed_label)"
   ]
  },
  {
   "cell_type": "markdown",
   "metadata": {},
   "source": [
    "# */"
   ]
  },
  {
   "cell_type": "code",
   "execution_count": null,
   "metadata": {
    "collapsed": false
   },
   "outputs": [],
   "source": [
    "# price_cat_label = 'price_cat_label'\n",
    "# trainset.add_column(trainset.select_column('ad_slot_floor_price').apply(lambda x: floor_price_category(x)), \n",
    "#                    price_cat_label)\n",
    "# validationset.add_column(validationset.select_column('ad_slot_floor_price').apply(lambda x: floor_price_category(x)), \n",
    "#                    price_cat_label)\n",
    "# features.append(price_cat_label)"
   ]
  },
  {
   "cell_type": "markdown",
   "metadata": {},
   "source": [
    "# /*"
   ]
  },
  {
   "cell_type": "code",
   "execution_count": 65,
   "metadata": {
    "collapsed": false
   },
   "outputs": [],
   "source": [
    "tags_label = 'tags'\n",
    "trainset.add_column(trainset.select_column('user_tags').apply(lambda x: apply_dictionary(x)), tags_label)\n",
    "validationset.add_column(validationset.select_column('user_tags').apply(lambda x: apply_dictionary(x)), tags_label)\n",
    "test_set.add_column(test_set.select_column('user_tags').apply(lambda x: apply_dictionary(x)), tags_label)\n",
    "# features.append(tags_label)\n",
    "features_onehot.append(tags_label)"
   ]
  },
  {
   "cell_type": "code",
   "execution_count": 66,
   "metadata": {
    "collapsed": true
   },
   "outputs": [],
   "source": [
    "# domain_enc_label = 'encoded_domain'\n",
    "# encoded_columns = ['domain', 'url']\n",
    "# onehot, _ = create_onehot_features(trainset, encoded_columns, 100, domain_enc_label)\n",
    "# trainset = apply_feature_eng(trainset, onehot, domain_enc_label)\n",
    "# validationset = apply_feature_eng(validationset, onehot, domain_enc_label)\n",
    "# test_set = apply_feature_eng(test_set, onehot, domain_enc_label)\n",
    "# #features.append(domain_enc_label)\n",
    "# features_onehot.append(domain_enc_label)"
   ]
  },
  {
   "cell_type": "code",
   "execution_count": 67,
   "metadata": {
    "collapsed": false
   },
   "outputs": [],
   "source": [
    "# timestamp_fixed_label = 'timestamp_fixed'\n",
    "# trainset.add_column(trainset.select_column('timestamp').apply(lambda x: int(str(x)[:8])), timestamp_fixed_label)\n",
    "# validationset.add_column(validationset.select_column('timestamp').apply(lambda x: int(str(x)[:8])), timestamp_fixed_label)\n",
    "# test_set.add_column(test_set.select_column('timestamp').apply(lambda x: int(str(x)[:8])), timestamp_fixed_label)\n",
    "# #features.append(timestamp_fixed_label)\n",
    "# features_onehot.append(timestamp_fixed_label)"
   ]
  },
  {
   "cell_type": "code",
   "execution_count": 68,
   "metadata": {
    "collapsed": false
   },
   "outputs": [],
   "source": [
    "# features_onehot"
   ]
  },
  {
   "cell_type": "code",
   "execution_count": 69,
   "metadata": {
    "collapsed": true
   },
   "outputs": [],
   "source": [
    "# encoded_feat_label = 'encoded_features'\n",
    "# onehot, _ = create_onehot_features(trainset, features_onehot, 100, encoded_feat_label)\n",
    "# trainset = apply_feature_eng(trainset, onehot, encoded_feat_label)\n",
    "# validationset = apply_feature_eng(validationset, onehot, encoded_feat_label)\n",
    "# test_set = apply_feature_eng(test_set, onehot, encoded_feat_label)\n",
    "# features.append(encoded_feat_label)"
   ]
  },
  {
   "cell_type": "markdown",
   "metadata": {},
   "source": [
    "# */"
   ]
  },
  {
   "cell_type": "markdown",
   "metadata": {},
   "source": [
    "### Feature Engineering used in all experiments"
   ]
  },
  {
   "cell_type": "code",
   "execution_count": 103,
   "metadata": {
    "collapsed": false
   },
   "outputs": [],
   "source": [
    "label_os = 'uagent_os'\n",
    "label_browser = 'uagent_browser'\n",
    "trainset = apply_separate_uagent2(trainset, label_os, label_browser)\n",
    "validationset = apply_separate_uagent2(validationset, label_os, label_browser)\n",
    "test_set = apply_separate_uagent2(test_set, label_os, label_browser)\n",
    "# features.append([label_os, label_browser])"
   ]
  },
  {
   "cell_type": "code",
   "execution_count": 110,
   "metadata": {
    "collapsed": false
   },
   "outputs": [],
   "source": [
    "features_to_remove = ['city',\n",
    "                              'region',\n",
    "                              'user_id',\n",
    "                              'log_type',\n",
    "                              'timestamp',\n",
    "                              'user_tags',\n",
    "                              'creative_id',\n",
    "                              'key_page_url',\n",
    "                              'advertiser_id',\n",
    "                              'anonymous_url_id']\n",
    "trainset.remove_columns(features_to_remove)\n",
    "validationset.remove_columns(features_to_remove)\n",
    "# test_set.remove_columns(features_to_remove)\n",
    "\n",
    "log_enc_features = ['url',\n",
    "                'domain',\n",
    "                'user_agent',\n",
    "                'ad_slot_id',\n",
    "                'ad_exchange',\n",
    "                'ad_slot_width',\n",
    "                'ad_slot_height',\n",
    "                'ad_slot_format',\n",
    "                'ad_slot_visibility',\n",
    "                'ad_slot_floor_price']#, label_os, label_browser]\n",
    "\n",
    "onehot, _ = create_onehot_features(trainset, log_enc_features, 108, 'log_encoded_features')\n",
    "trainset = apply_feature_eng(trainset, onehot, 'log_encoded_features')\n",
    "validationset = apply_feature_eng(validationset, onehot, 'log_encoded_features')\n",
    "test_set = apply_feature_eng(test_set, onehot, 'log_encoded_features')\n",
    "\n",
    "\n",
    "features = ['hour', 'weekday', 'log_encoded_features']\n",
    "\n",
    "\n"
   ]
  },
  {
   "cell_type": "code",
   "execution_count": 18,
   "metadata": {
    "collapsed": true
   },
   "outputs": [],
   "source": [
    "# To apply this feature, enable and run the related code in previous sections\n",
    "features.append('tags')"
   ]
  },
  {
   "cell_type": "markdown",
   "metadata": {},
   "source": [
    "### Just for SVM"
   ]
  },
  {
   "cell_type": "code",
   "execution_count": 110,
   "metadata": {
    "collapsed": false
   },
   "outputs": [],
   "source": [
    "features = ['hour', 'weekday', 'svm_encoded_features',#]\n",
    "#svm_enc_features = [\n",
    "#                 'url',\n",
    "#                 'domain',\n",
    "                'user_agent',\n",
    "                'ad_slot_id',\n",
    "                'ad_exchange',\n",
    "                'ad_slot_width',\n",
    "                'ad_slot_height',\n",
    "                'ad_slot_format',\n",
    "                'ad_slot_visibility',\n",
    "                'ad_slot_floor_price']\n",
    "svm_enc_features = [\n",
    "                'url',\n",
    "                'domain']\n",
    "onehot, _ = create_onehot_features(trainset, svm_enc_features, 100, 'svm_encoded_features')\n",
    "trainset = apply_feature_eng(trainset, onehot, 'svm_encoded_features')\n",
    "validationset = apply_feature_eng(validationset, onehot, 'svm_encoded_features')\n",
    "test_set = apply_feature_eng(test_set, onehot, 'svm_encoded_features')\n"
   ]
  },
  {
   "cell_type": "markdown",
   "metadata": {},
   "source": [
    "### Some output"
   ]
  },
  {
   "cell_type": "code",
   "execution_count": 111,
   "metadata": {
    "collapsed": false
   },
   "outputs": [
    {
     "data": {
      "text/plain": [
       "['hour', 'weekday', 'log_encoded_features']"
      ]
     },
     "execution_count": 111,
     "metadata": {},
     "output_type": "execute_result"
    }
   ],
   "source": [
    "features"
   ]
  },
  {
   "cell_type": "code",
   "execution_count": 112,
   "metadata": {
    "collapsed": false,
    "scrolled": true
   },
   "outputs": [
    {
     "data": {
      "text/html": [
       "<div style=\"max-height:1000px;max-width:1500px;overflow:auto;\"><table frame=\"box\" rules=\"cols\">\n",
       "    <tr>\n",
       "        <th style=\"padding-left: 1em; padding-right: 1em; text-align: center\">hour</th>\n",
       "        <th style=\"padding-left: 1em; padding-right: 1em; text-align: center\">weekday</th>\n",
       "        <th style=\"padding-left: 1em; padding-right: 1em; text-align: center\">log_encoded_features</th>\n",
       "    </tr>\n",
       "    <tr>\n",
       "        <td style=\"padding-left: 1em; padding-right: 1em; text-align: center; vertical-align: top\">0</td>\n",
       "        <td style=\"padding-left: 1em; padding-right: 1em; text-align: center; vertical-align: top\">6</td>\n",
       "        <td style=\"padding-left: 1em; padding-right: 1em; text-align: center; vertical-align: top\">{385: 1, 360: 1, 204: 1,<br>493: 1, 373: 1, 250: 1, ...</td>\n",
       "    </tr>\n",
       "    <tr>\n",
       "        <td style=\"padding-left: 1em; padding-right: 1em; text-align: center; vertical-align: top\">0</td>\n",
       "        <td style=\"padding-left: 1em; padding-right: 1em; text-align: center; vertical-align: top\">6</td>\n",
       "        <td style=\"padding-left: 1em; padding-right: 1em; text-align: center; vertical-align: top\">{385: 1, 295: 1, 361: 1,<br>494: 1, 370: 1, 377: 1, ...</td>\n",
       "    </tr>\n",
       "    <tr>\n",
       "        <td style=\"padding-left: 1em; padding-right: 1em; text-align: center; vertical-align: top\">0</td>\n",
       "        <td style=\"padding-left: 1em; padding-right: 1em; text-align: center; vertical-align: top\">6</td>\n",
       "        <td style=\"padding-left: 1em; padding-right: 1em; text-align: center; vertical-align: top\">{385: 1, 289: 1, 168: 1,<br>361: 1, 494: 1, 369: 1, ...</td>\n",
       "    </tr>\n",
       "    <tr>\n",
       "        <td style=\"padding-left: 1em; padding-right: 1em; text-align: center; vertical-align: top\">0</td>\n",
       "        <td style=\"padding-left: 1em; padding-right: 1em; text-align: center; vertical-align: top\">6</td>\n",
       "        <td style=\"padding-left: 1em; padding-right: 1em; text-align: center; vertical-align: top\">{385: 1, 168: 1, 361: 1,<br>494: 1, 369: 1, 378: 1, ...</td>\n",
       "    </tr>\n",
       "    <tr>\n",
       "        <td style=\"padding-left: 1em; padding-right: 1em; text-align: center; vertical-align: top\">0</td>\n",
       "        <td style=\"padding-left: 1em; padding-right: 1em; text-align: center; vertical-align: top\">6</td>\n",
       "        <td style=\"padding-left: 1em; padding-right: 1em; text-align: center; vertical-align: top\">{385: 1, 327: 1, 360: 1,<br>199: 1, 493: 1, 368: 1, ...</td>\n",
       "    </tr>\n",
       "</table>\n",
       "[5 rows x 3 columns]<br/>\n",
       "</div>"
      ],
      "text/plain": [
       "Columns:\n",
       "\thour\tint\n",
       "\tweekday\tint\n",
       "\tlog_encoded_features\tdict\n",
       "\n",
       "Rows: 5\n",
       "\n",
       "Data:\n",
       "+------+---------+-------------------------------+\n",
       "| hour | weekday |      log_encoded_features     |\n",
       "+------+---------+-------------------------------+\n",
       "|  0   |    6    | {385: 1, 360: 1, 204: 1, 4... |\n",
       "|  0   |    6    | {385: 1, 295: 1, 361: 1, 4... |\n",
       "|  0   |    6    | {385: 1, 289: 1, 168: 1, 3... |\n",
       "|  0   |    6    | {385: 1, 168: 1, 361: 1, 4... |\n",
       "|  0   |    6    | {385: 1, 327: 1, 360: 1, 1... |\n",
       "+------+---------+-------------------------------+\n",
       "[5 rows x 3 columns]"
      ]
     },
     "execution_count": 112,
     "metadata": {},
     "output_type": "execute_result"
    }
   ],
   "source": [
    "trainset[features].head(5)"
   ]
  },
  {
   "cell_type": "markdown",
   "metadata": {},
   "source": [
    "# Models (Run one model)"
   ]
  },
  {
   "cell_type": "markdown",
   "metadata": {},
   "source": [
    "## Logistic Regression"
   ]
  },
  {
   "cell_type": "code",
   "execution_count": 27,
   "metadata": {
    "collapsed": false
   },
   "outputs": [
    {
     "name": "stderr",
     "output_type": "stream",
     "text": [
      "2016-04-21 11:22:53,261 [INFO] graphlab.deploy.job, 22: Validating job.\n",
      "2016-04-21 11:22:54,717 [INFO] graphlab.deploy.job, 36: Creating a LocalAsync environment called 'async'.\n",
      "2016-04-21 11:22:54,786 [INFO] graphlab.deploy.map_job, 186: Validation complete. Job: 'Model-Parameter-Search-Apr-21-2016-11-22-5300000' ready for execution\n",
      "2016-04-21 11:23:20,677 [INFO] graphlab.deploy.map_job, 192: Job: 'Model-Parameter-Search-Apr-21-2016-11-22-5300000' scheduled.\n",
      "2016-04-21 11:27:21,422 [INFO] graphlab.deploy.job, 22: Validating job.\n",
      "2016-04-21 11:27:21,611 [INFO] graphlab.deploy.map_job, 220: A job with name 'Model-Parameter-Search-Apr-21-2016-11-22-5300000' already exists. Renaming the job to 'Model-Parameter-Search-Apr-21-2016-11-22-5300000-aae36'.\n",
      "2016-04-21 11:27:21,620 [INFO] graphlab.deploy.map_job, 186: Validation complete. Job: 'Model-Parameter-Search-Apr-21-2016-11-22-5300000-aae36' ready for execution\n",
      "2016-04-21 11:27:32,225 [INFO] graphlab.deploy.map_job, 192: Job: 'Model-Parameter-Search-Apr-21-2016-11-22-5300000-aae36' scheduled.\n"
     ]
    },
    {
     "name": "stdout",
     "output_type": "stream",
     "text": [
      "+----------+------------+------------+--------+-------------------+\n",
      "| model_id | l1_penalty | l2_penalty | target | training_accuracy |\n",
      "+----------+------------+------------+--------+-------------------+\n",
      "|    9     |    1.0     |    1.0     | click  |   0.999288254006  |\n",
      "|    8     |    0.01    |    0.0     | click  |   0.999289814852  |\n",
      "|    1     |    1.0     |    10.0    | click  |   0.999289814852  |\n",
      "|    0     |    1.0     |   100.0    | click  |   0.999287863794  |\n",
      "|    3     |    1.0     |   0.0001   | click  |   0.999288254006  |\n",
      "|    2     |    0.1     |    0.1     | click  |   0.999286693159  |\n",
      "|    5     |    0.0     |    0.0     | click  |   0.998943306934  |\n",
      "|    4     |    10.0    |    0.1     | click  |   0.999287863794  |\n",
      "|    7     |   0.0001   |    0.01    | click  |   0.999287863794  |\n",
      "|    6     |    1.0     |   0.0001   | click  |   0.999285522525  |\n",
      "+----------+------------+------------+--------+-------------------+\n",
      "+---------------------+\n",
      "| validation_accuracy |\n",
      "+---------------------+\n",
      "|    0.999263390508   |\n",
      "|    0.999263390508   |\n",
      "|    0.999263390508   |\n",
      "|    0.999263390508   |\n",
      "|    0.999263390508   |\n",
      "|    0.999266898173   |\n",
      "|    0.998011154372   |\n",
      "|    0.999263390508   |\n",
      "|    0.999263390508   |\n",
      "|    0.999263390508   |\n",
      "+---------------------+\n",
      "[10 rows x 6 columns]\n",
      "\n"
     ]
    }
   ],
   "source": [
    "params = {'target': 'click'}#, 'features':features, 'class_weights': 'auto'}\n",
    "lparam_search = gl.toolkits.model_parameter_search.create((trainset, validationset),\n",
    "                                    gl.logistic_classifier.create,params)\n",
    "ps_results = lparam_search.get_results()\n",
    "print ps_results"
   ]
  },
  {
   "cell_type": "code",
   "execution_count": 107,
   "metadata": {
    "collapsed": false
   },
   "outputs": [
    {
     "data": {
      "text/html": [
       "<pre>Logistic regression:</pre>"
      ],
      "text/plain": [
       "Logistic regression:"
      ]
     },
     "metadata": {},
     "output_type": "display_data"
    },
    {
     "data": {
      "text/html": [
       "<pre>--------------------------------------------------------</pre>"
      ],
      "text/plain": [
       "--------------------------------------------------------"
      ]
     },
     "metadata": {},
     "output_type": "display_data"
    },
    {
     "data": {
      "text/html": [
       "<pre>Number of examples          : 2562712</pre>"
      ],
      "text/plain": [
       "Number of examples          : 2562712"
      ]
     },
     "metadata": {},
     "output_type": "display_data"
    },
    {
     "data": {
      "text/html": [
       "<pre>Number of classes           : 2</pre>"
      ],
      "text/plain": [
       "Number of classes           : 2"
      ]
     },
     "metadata": {},
     "output_type": "display_data"
    },
    {
     "data": {
      "text/html": [
       "<pre>Number of feature columns   : 3</pre>"
      ],
      "text/plain": [
       "Number of feature columns   : 3"
      ]
     },
     "metadata": {},
     "output_type": "display_data"
    },
    {
     "data": {
      "text/html": [
       "<pre>Number of unpacked features : 512</pre>"
      ],
      "text/plain": [
       "Number of unpacked features : 512"
      ]
     },
     "metadata": {},
     "output_type": "display_data"
    },
    {
     "data": {
      "text/html": [
       "<pre>Number of coefficients    : 513</pre>"
      ],
      "text/plain": [
       "Number of coefficients    : 513"
      ]
     },
     "metadata": {},
     "output_type": "display_data"
    },
    {
     "data": {
      "text/html": [
       "<pre>Starting L-BFGS</pre>"
      ],
      "text/plain": [
       "Starting L-BFGS"
      ]
     },
     "metadata": {},
     "output_type": "display_data"
    },
    {
     "data": {
      "text/html": [
       "<pre>--------------------------------------------------------</pre>"
      ],
      "text/plain": [
       "--------------------------------------------------------"
      ]
     },
     "metadata": {},
     "output_type": "display_data"
    },
    {
     "data": {
      "text/html": [
       "<pre>+-----------+----------+-----------+--------------+-------------------+---------------------+</pre>"
      ],
      "text/plain": [
       "+-----------+----------+-----------+--------------+-------------------+---------------------+"
      ]
     },
     "metadata": {},
     "output_type": "display_data"
    },
    {
     "data": {
      "text/html": [
       "<pre>| Iteration | Passes   | Step size | Elapsed Time | Training-accuracy | Validation-accuracy |</pre>"
      ],
      "text/plain": [
       "| Iteration | Passes   | Step size | Elapsed Time | Training-accuracy | Validation-accuracy |"
      ]
     },
     "metadata": {},
     "output_type": "display_data"
    },
    {
     "data": {
      "text/html": [
       "<pre>+-----------+----------+-----------+--------------+-------------------+---------------------+</pre>"
      ],
      "text/plain": [
       "+-----------+----------+-----------+--------------+-------------------+---------------------+"
      ]
     },
     "metadata": {},
     "output_type": "display_data"
    },
    {
     "data": {
      "text/html": [
       "<pre>| 1         | 6        | 0.000033  | 9.834580     | 0.729775          | 0.728160            |</pre>"
      ],
      "text/plain": [
       "| 1         | 6        | 0.000033  | 9.834580     | 0.729775          | 0.728160            |"
      ]
     },
     "metadata": {},
     "output_type": "display_data"
    },
    {
     "data": {
      "text/html": [
       "<pre>| 2         | 8        | 1.000000  | 14.088670    | 0.858347          | 0.856624            |</pre>"
      ],
      "text/plain": [
       "| 2         | 8        | 1.000000  | 14.088670    | 0.858347          | 0.856624            |"
      ]
     },
     "metadata": {},
     "output_type": "display_data"
    },
    {
     "data": {
      "text/html": [
       "<pre>| 3         | 9        | 1.000000  | 16.424559    | 0.844589          | 0.843506            |</pre>"
      ],
      "text/plain": [
       "| 3         | 9        | 1.000000  | 16.424559    | 0.844589          | 0.843506            |"
      ]
     },
     "metadata": {},
     "output_type": "display_data"
    },
    {
     "data": {
      "text/html": [
       "<pre>| 4         | 10       | 1.000000  | 18.997047    | 0.637486          | 0.636848            |</pre>"
      ],
      "text/plain": [
       "| 4         | 10       | 1.000000  | 18.997047    | 0.637486          | 0.636848            |"
      ]
     },
     "metadata": {},
     "output_type": "display_data"
    },
    {
     "data": {
      "text/html": [
       "<pre>| 5         | 11       | 1.000000  | 21.359496    | 0.719402          | 0.718654            |</pre>"
      ],
      "text/plain": [
       "| 5         | 11       | 1.000000  | 21.359496    | 0.719402          | 0.718654            |"
      ]
     },
     "metadata": {},
     "output_type": "display_data"
    },
    {
     "data": {
      "text/html": [
       "<pre>| 6         | 12       | 1.000000  | 24.127876    | 0.723688          | 0.723165            |</pre>"
      ],
      "text/plain": [
       "| 6         | 12       | 1.000000  | 24.127876    | 0.723688          | 0.723165            |"
      ]
     },
     "metadata": {},
     "output_type": "display_data"
    },
    {
     "data": {
      "text/html": [
       "<pre>| 7         | 13       | 1.000000  | 26.728215    | 0.673010          | 0.672037            |</pre>"
      ],
      "text/plain": [
       "| 7         | 13       | 1.000000  | 26.728215    | 0.673010          | 0.672037            |"
      ]
     },
     "metadata": {},
     "output_type": "display_data"
    },
    {
     "data": {
      "text/html": [
       "<pre>| 8         | 14       | 1.000000  | 29.123340    | 0.698358          | 0.697369            |</pre>"
      ],
      "text/plain": [
       "| 8         | 14       | 1.000000  | 29.123340    | 0.698358          | 0.697369            |"
      ]
     },
     "metadata": {},
     "output_type": "display_data"
    },
    {
     "data": {
      "text/html": [
       "<pre>| 9         | 15       | 1.000000  | 31.448533    | 0.698083          | 0.696994            |</pre>"
      ],
      "text/plain": [
       "| 9         | 15       | 1.000000  | 31.448533    | 0.698083          | 0.696994            |"
      ]
     },
     "metadata": {},
     "output_type": "display_data"
    },
    {
     "data": {
      "text/html": [
       "<pre>| 10        | 16       | 1.000000  | 33.819049    | 0.668898          | 0.668438            |</pre>"
      ],
      "text/plain": [
       "| 10        | 16       | 1.000000  | 33.819049    | 0.668898          | 0.668438            |"
      ]
     },
     "metadata": {},
     "output_type": "display_data"
    },
    {
     "data": {
      "text/html": [
       "<pre>| 11        | 17       | 1.000000  | 36.158306    | 0.664770          | 0.664285            |</pre>"
      ],
      "text/plain": [
       "| 11        | 17       | 1.000000  | 36.158306    | 0.664770          | 0.664285            |"
      ]
     },
     "metadata": {},
     "output_type": "display_data"
    },
    {
     "data": {
      "text/html": [
       "<pre>| 12        | 18       | 1.000000  | 38.794407    | 0.672710          | 0.671995            |</pre>"
      ],
      "text/plain": [
       "| 12        | 18       | 1.000000  | 38.794407    | 0.672710          | 0.671995            |"
      ]
     },
     "metadata": {},
     "output_type": "display_data"
    },
    {
     "data": {
      "text/html": [
       "<pre>| 13        | 19       | 1.000000  | 41.168214    | 0.674079          | 0.673184            |</pre>"
      ],
      "text/plain": [
       "| 13        | 19       | 1.000000  | 41.168214    | 0.674079          | 0.673184            |"
      ]
     },
     "metadata": {},
     "output_type": "display_data"
    },
    {
     "data": {
      "text/html": [
       "<pre>| 14        | 20       | 1.000000  | 43.543640    | 0.674354          | 0.673472            |</pre>"
      ],
      "text/plain": [
       "| 14        | 20       | 1.000000  | 43.543640    | 0.674354          | 0.673472            |"
      ]
     },
     "metadata": {},
     "output_type": "display_data"
    },
    {
     "data": {
      "text/html": [
       "<pre>| 15        | 21       | 1.000000  | 46.014402    | 0.677302          | 0.676902            |</pre>"
      ],
      "text/plain": [
       "| 15        | 21       | 1.000000  | 46.014402    | 0.677302          | 0.676902            |"
      ]
     },
     "metadata": {},
     "output_type": "display_data"
    },
    {
     "data": {
      "text/html": [
       "<pre>| 16        | 22       | 1.000000  | 48.368484    | 0.676503          | 0.676151            |</pre>"
      ],
      "text/plain": [
       "| 16        | 22       | 1.000000  | 48.368484    | 0.676503          | 0.676151            |"
      ]
     },
     "metadata": {},
     "output_type": "display_data"
    },
    {
     "data": {
      "text/html": [
       "<pre>| 17        | 23       | 1.000000  | 50.962430    | 0.679808          | 0.679238            |</pre>"
      ],
      "text/plain": [
       "| 17        | 23       | 1.000000  | 50.962430    | 0.679808          | 0.679238            |"
      ]
     },
     "metadata": {},
     "output_type": "display_data"
    },
    {
     "data": {
      "text/html": [
       "<pre>| 18        | 24       | 1.000000  | 53.592580    | 0.682285          | 0.681634            |</pre>"
      ],
      "text/plain": [
       "| 18        | 24       | 1.000000  | 53.592580    | 0.682285          | 0.681634            |"
      ]
     },
     "metadata": {},
     "output_type": "display_data"
    },
    {
     "data": {
      "text/html": [
       "<pre>| 19        | 25       | 1.000000  | 56.015501    | 0.682055          | 0.681392            |</pre>"
      ],
      "text/plain": [
       "| 19        | 25       | 1.000000  | 56.015501    | 0.682055          | 0.681392            |"
      ]
     },
     "metadata": {},
     "output_type": "display_data"
    },
    {
     "data": {
      "text/html": [
       "<pre>| 20        | 26       | 1.000000  | 58.874685    | 0.678182          | 0.677719            |</pre>"
      ],
      "text/plain": [
       "| 20        | 26       | 1.000000  | 58.874685    | 0.678182          | 0.677719            |"
      ]
     },
     "metadata": {},
     "output_type": "display_data"
    },
    {
     "data": {
      "text/html": [
       "<pre>+-----------+----------+-----------+--------------+-------------------+---------------------+</pre>"
      ],
      "text/plain": [
       "+-----------+----------+-----------+--------------+-------------------+---------------------+"
      ]
     },
     "metadata": {},
     "output_type": "display_data"
    },
    {
     "data": {
      "text/html": [
       "<pre>TERMINATED: Iteration limit reached.</pre>"
      ],
      "text/plain": [
       "TERMINATED: Iteration limit reached."
      ]
     },
     "metadata": {},
     "output_type": "display_data"
    },
    {
     "data": {
      "text/html": [
       "<pre>This model may not be optimal. To improve it, consider increasing `max_iterations`.</pre>"
      ],
      "text/plain": [
       "This model may not be optimal. To improve it, consider increasing `max_iterations`."
      ]
     },
     "metadata": {},
     "output_type": "display_data"
    }
   ],
   "source": [
    "gbm_baseline = gl.logistic_classifier.create(trainset, target='click', features=features,# l2_penalty=0.01, \n",
    "                                             validation_set=validationset, max_iterations=20, class_weights='auto')\n"
   ]
  },
  {
   "cell_type": "markdown",
   "metadata": {},
   "source": [
    "## Boosted Tree Classifier (GBM)"
   ]
  },
  {
   "cell_type": "code",
   "execution_count": 117,
   "metadata": {
    "collapsed": false
   },
   "outputs": [
    {
     "name": "stderr",
     "output_type": "stream",
     "text": [
      "2016-04-21 00:39:11,306 [INFO] graphlab.deploy.job, 22: Validating job.\n",
      "2016-04-21 00:39:11,765 [INFO] graphlab.deploy.map_job, 186: Validation complete. Job: 'Model-Parameter-Search-Apr-21-2016-00-39-1100000' ready for execution\n",
      "2016-04-21 00:39:17,787 [INFO] graphlab.deploy.map_job, 192: Job: 'Model-Parameter-Search-Apr-21-2016-00-39-1100000' scheduled.\n",
      "2016-04-21 00:50:18,651 [INFO] graphlab.deploy.job, 22: Validating job.\n",
      "2016-04-21 00:50:18,821 [INFO] graphlab.deploy.map_job, 220: A job with name 'Model-Parameter-Search-Apr-21-2016-00-39-1100000' already exists. Renaming the job to 'Model-Parameter-Search-Apr-21-2016-00-39-1100000-ab55a'.\n",
      "2016-04-21 00:50:18,848 [INFO] graphlab.deploy.map_job, 186: Validation complete. Job: 'Model-Parameter-Search-Apr-21-2016-00-39-1100000-ab55a' ready for execution\n",
      "2016-04-21 00:50:25,410 [INFO] graphlab.deploy.map_job, 192: Job: 'Model-Parameter-Search-Apr-21-2016-00-39-1100000-ab55a' scheduled.\n"
     ]
    },
    {
     "name": "stdout",
     "output_type": "stream",
     "text": [
      "+----------+------------------+-----------+----------------+------------------+\n",
      "| model_id | column_subsample | max_depth | max_iterations | min_child_weight |\n",
      "+----------+------------------+-----------+----------------+------------------+\n",
      "|    9     |       1.0        |     8     |       10       |        1         |\n",
      "|    8     |       0.8        |     8     |       10       |        16        |\n",
      "|    1     |       1.0        |     6     |      100       |        16        |\n",
      "|    0     |       0.9        |     4     |      100       |        16        |\n",
      "|    3     |       1.0        |     6     |      100       |        8         |\n",
      "|    2     |       1.0        |     6     |       10       |        2         |\n",
      "|    5     |       0.9        |     6     |      100       |        2         |\n",
      "|    4     |       0.9        |     6     |       50       |        16        |\n",
      "|    7     |       0.9        |     6     |       10       |        16        |\n",
      "|    6     |       0.9        |     4     |       50       |        1         |\n",
      "+----------+------------------+-----------+----------------+------------------+\n",
      "+--------------------+---------------+-----------+--------+-------------------+\n",
      "| min_loss_reduction | row_subsample | step_size | target | training_accuracy |\n",
      "+--------------------+---------------+-----------+--------+-------------------+\n",
      "|         0          |      0.9      |    0.5    | click  |   0.999271392822  |\n",
      "|         10         |      1.0      |   0.0001  | click  |   0.999273359776  |\n",
      "|         0          |      1.0      |   0.0001  | click  |   0.999280750751  |\n",
      "|         1          |      1.0      |    0.25   | click  |   0.999274432659  |\n",
      "|         10         |      0.9      |   0.001   | click  |   0.999273777008  |\n",
      "|         0          |      0.9      |   0.001   | click  |   0.999274253845  |\n",
      "|         0          |      0.9      |    0.1    | click  |   0.999271631241  |\n",
      "|         1          |      0.9      |   0.001   | click  |   0.999269247055  |\n",
      "|         10         |      0.9      |    0.25   | click  |   0.99926763773   |\n",
      "|         10         |      1.0      |   1e-05   | click  |   0.999273359776  |\n",
      "+--------------------+---------------+-----------+--------+-------------------+\n",
      "+---------------------+\n",
      "| validation_accuracy |\n",
      "+---------------------+\n",
      "|    0.999273913501   |\n",
      "|    0.999273913501   |\n",
      "|    0.999273913501   |\n",
      "|    0.999273913501   |\n",
      "|    0.999273913501   |\n",
      "|    0.999273913501   |\n",
      "|    0.999273913501   |\n",
      "|    0.999273913501   |\n",
      "|    0.999273913501   |\n",
      "|    0.999273913501   |\n",
      "+---------------------+\n",
      "[10 rows x 11 columns]\n",
      "\n"
     ]
    }
   ],
   "source": [
    "params = {'target': 'click'}#, 'features':features, 'class_weights': 'auto'}\n",
    "bparam_search = gl.toolkits.model_parameter_search.create((trainset, validationset),\n",
    "                                    gl.boosted_trees_classifier.create,params)\n",
    "ps_results = bparam_search.get_results()\n",
    "print ps_results"
   ]
  },
  {
   "cell_type": "code",
   "execution_count": 113,
   "metadata": {
    "collapsed": false
   },
   "outputs": [
    {
     "data": {
      "text/html": [
       "<pre>Boosted trees classifier:</pre>"
      ],
      "text/plain": [
       "Boosted trees classifier:"
      ]
     },
     "metadata": {},
     "output_type": "display_data"
    },
    {
     "data": {
      "text/html": [
       "<pre>--------------------------------------------------------</pre>"
      ],
      "text/plain": [
       "--------------------------------------------------------"
      ]
     },
     "metadata": {},
     "output_type": "display_data"
    },
    {
     "data": {
      "text/html": [
       "<pre>Number of examples          : 2562712</pre>"
      ],
      "text/plain": [
       "Number of examples          : 2562712"
      ]
     },
     "metadata": {},
     "output_type": "display_data"
    },
    {
     "data": {
      "text/html": [
       "<pre>Number of classes           : 2</pre>"
      ],
      "text/plain": [
       "Number of classes           : 2"
      ]
     },
     "metadata": {},
     "output_type": "display_data"
    },
    {
     "data": {
      "text/html": [
       "<pre>Number of feature columns   : 3</pre>"
      ],
      "text/plain": [
       "Number of feature columns   : 3"
      ]
     },
     "metadata": {},
     "output_type": "display_data"
    },
    {
     "data": {
      "text/html": [
       "<pre>Number of unpacked features : 497</pre>"
      ],
      "text/plain": [
       "Number of unpacked features : 497"
      ]
     },
     "metadata": {},
     "output_type": "display_data"
    },
    {
     "data": {
      "text/html": [
       "<pre>+-----------+--------------+-------------------+-------------------+---------------------+---------------------+</pre>"
      ],
      "text/plain": [
       "+-----------+--------------+-------------------+-------------------+---------------------+---------------------+"
      ]
     },
     "metadata": {},
     "output_type": "display_data"
    },
    {
     "data": {
      "text/html": [
       "<pre>| Iteration | Elapsed Time | Training-accuracy | Training-log_loss | Validation-accuracy | Validation-log_loss |</pre>"
      ],
      "text/plain": [
       "| Iteration | Elapsed Time | Training-accuracy | Training-log_loss | Validation-accuracy | Validation-log_loss |"
      ]
     },
     "metadata": {},
     "output_type": "display_data"
    },
    {
     "data": {
      "text/html": [
       "<pre>+-----------+--------------+-------------------+-------------------+---------------------+---------------------+</pre>"
      ],
      "text/plain": [
       "+-----------+--------------+-------------------+-------------------+---------------------+---------------------+"
      ]
     },
     "metadata": {},
     "output_type": "display_data"
    },
    {
     "data": {
      "text/html": [
       "<pre>| 1         | 2.644825     | 0.662637          | 0.619509          | 0.668908            | 0.617545            |</pre>"
      ],
      "text/plain": [
       "| 1         | 2.644825     | 0.662637          | 0.619509          | 0.668908            | 0.617545            |"
      ]
     },
     "metadata": {},
     "output_type": "display_data"
    },
    {
     "data": {
      "text/html": [
       "<pre>| 2         | 5.031540     | 0.684310          | 0.586959          | 0.684475            | 0.591609            |</pre>"
      ],
      "text/plain": [
       "| 2         | 5.031540     | 0.684310          | 0.586959          | 0.684475            | 0.591609            |"
      ]
     },
     "metadata": {},
     "output_type": "display_data"
    },
    {
     "data": {
      "text/html": [
       "<pre>| 3         | 7.654503     | 0.684234          | 0.570899          | 0.688741            | 0.579177            |</pre>"
      ],
      "text/plain": [
       "| 3         | 7.654503     | 0.684234          | 0.570899          | 0.688741            | 0.579177            |"
      ]
     },
     "metadata": {},
     "output_type": "display_data"
    },
    {
     "data": {
      "text/html": [
       "<pre>| 4         | 9.992825     | 0.687915          | 0.559713          | 0.685967            | 0.568839            |</pre>"
      ],
      "text/plain": [
       "| 4         | 9.992825     | 0.687915          | 0.559713          | 0.685967            | 0.568839            |"
      ]
     },
     "metadata": {},
     "output_type": "display_data"
    },
    {
     "data": {
      "text/html": [
       "<pre>| 5         | 12.430565    | 0.695674          | 0.554241          | 0.686400            | 0.566679            |</pre>"
      ],
      "text/plain": [
       "| 5         | 12.430565    | 0.695674          | 0.554241          | 0.686400            | 0.566679            |"
      ]
     },
     "metadata": {},
     "output_type": "display_data"
    },
    {
     "data": {
      "text/html": [
       "<pre>| 6         | 14.853422    | 0.698381          | 0.547895          | 0.696012            | 0.560246            |</pre>"
      ],
      "text/plain": [
       "| 6         | 14.853422    | 0.698381          | 0.547895          | 0.696012            | 0.560246            |"
      ]
     },
     "metadata": {},
     "output_type": "display_data"
    },
    {
     "data": {
      "text/html": [
       "<pre>| 7         | 17.219613    | 0.699846          | 0.544454          | 0.697017            | 0.556616            |</pre>"
      ],
      "text/plain": [
       "| 7         | 17.219613    | 0.699846          | 0.544454          | 0.697017            | 0.556616            |"
      ]
     },
     "metadata": {},
     "output_type": "display_data"
    },
    {
     "data": {
      "text/html": [
       "<pre>| 8         | 19.607642    | 0.707827          | 0.539094          | 0.701191            | 0.555986            |</pre>"
      ],
      "text/plain": [
       "| 8         | 19.607642    | 0.707827          | 0.539094          | 0.701191            | 0.555986            |"
      ]
     },
     "metadata": {},
     "output_type": "display_data"
    },
    {
     "data": {
      "text/html": [
       "<pre>| 9         | 22.004563    | 0.709629          | 0.536522          | 0.697569            | 0.553654            |</pre>"
      ],
      "text/plain": [
       "| 9         | 22.004563    | 0.709629          | 0.536522          | 0.697569            | 0.553654            |"
      ]
     },
     "metadata": {},
     "output_type": "display_data"
    },
    {
     "data": {
      "text/html": [
       "<pre>| 10        | 24.453851    | 0.713065          | 0.533808          | 0.703213            | 0.550936            |</pre>"
      ],
      "text/plain": [
       "| 10        | 24.453851    | 0.713065          | 0.533808          | 0.703213            | 0.550936            |"
      ]
     },
     "metadata": {},
     "output_type": "display_data"
    },
    {
     "data": {
      "text/html": [
       "<pre>+-----------+--------------+-------------------+-------------------+---------------------+---------------------+</pre>"
      ],
      "text/plain": [
       "+-----------+--------------+-------------------+-------------------+---------------------+---------------------+"
      ]
     },
     "metadata": {},
     "output_type": "display_data"
    }
   ],
   "source": [
    "gbm_baseline = gl.boosted_trees_classifier.create(trainset, target='click', features=features,\n",
    "                                                  validation_set=validationset, max_depth=8, step_size=0.5,\n",
    "                                                  max_iterations=10, min_child_weight=1, column_subsample=1,\n",
    "                                                  row_subsample=0.9,\n",
    "                                                  #early_stopping_rounds=5)#, \n",
    "                                                   class_weights='auto')"
   ]
  },
  {
   "cell_type": "markdown",
   "metadata": {},
   "source": [
    "## SVM"
   ]
  },
  {
   "cell_type": "code",
   "execution_count": 34,
   "metadata": {
    "collapsed": false
   },
   "outputs": [
    {
     "name": "stderr",
     "output_type": "stream",
     "text": [
      "2016-04-21 12:21:24,298 [INFO] graphlab.deploy.job, 22: Validating job.\n",
      "2016-04-21 12:21:24,774 [INFO] graphlab.deploy.map_job, 186: Validation complete. Job: 'Model-Parameter-Search-Apr-21-2016-12-21-2400000' ready for execution\n",
      "2016-04-21 12:21:32,324 [INFO] graphlab.deploy.map_job, 192: Job: 'Model-Parameter-Search-Apr-21-2016-12-21-2400000' scheduled.\n",
      "2016-04-21 12:24:08,500 [INFO] graphlab.deploy.job, 22: Validating job.\n",
      "2016-04-21 12:24:08,724 [INFO] graphlab.deploy.map_job, 220: A job with name 'Model-Parameter-Search-Apr-21-2016-12-21-2400000' already exists. Renaming the job to 'Model-Parameter-Search-Apr-21-2016-12-21-2400000-58e9e'.\n",
      "2016-04-21 12:24:08,732 [INFO] graphlab.deploy.map_job, 186: Validation complete. Job: 'Model-Parameter-Search-Apr-21-2016-12-21-2400000-58e9e' ready for execution\n",
      "2016-04-21 12:24:16,156 [INFO] graphlab.deploy.map_job, 192: Job: 'Model-Parameter-Search-Apr-21-2016-12-21-2400000-58e9e' scheduled.\n"
     ]
    },
    {
     "name": "stdout",
     "output_type": "stream",
     "text": [
      "+----------+---------+--------+-------------------+---------------------+\n",
      "| model_id | penalty | target | training_accuracy | validation_accuracy |\n",
      "+----------+---------+--------+-------------------+---------------------+\n",
      "|    9     |   1.0   | click  |   0.999416633629  |    0.99883545547    |\n",
      "|    8     |   10.0  | click  |   0.999401805587  |    0.998817917149   |\n",
      "|    1     |  0.001  | click  |   0.999490383625  |    0.999003823354   |\n",
      "|    0     |   0.01  | click  |   0.999410000031  |    0.998856501456   |\n",
      "|    3     |  0.001  | click  |   0.999480628334  |    0.998961731383   |\n",
      "|    2     |   1.0   | click  |   0.999423657438  |    0.99888456277    |\n",
      "|    5     |   1.0   | click  |   0.999397123048  |    0.998789855835   |\n",
      "|    4     |   0.1   | click  |   0.999416243417  |    0.998842470799   |\n",
      "|    7     |   0.1   | click  |   0.999425218284  |    0.998898593427   |\n",
      "|    6     |   10.0  | click  |   0.999415853206  |    0.99886000912    |\n",
      "+----------+---------+--------+-------------------+---------------------+\n",
      "[10 rows x 5 columns]\n",
      "\n"
     ]
    }
   ],
   "source": [
    "params = {'target': 'click'}#, 'features':features, 'class_weights': 'auto'}\n",
    "param_search = gl.toolkits.model_parameter_search.create((trainset, validationset),\n",
    "                                    gl.svm_classifier.create,params)\n",
    "ps_results = param_search.get_results()\n",
    "print ps_results"
   ]
  },
  {
   "cell_type": "code",
   "execution_count": 62,
   "metadata": {
    "collapsed": false
   },
   "outputs": [
    {
     "data": {
      "text/html": [
       "<pre>SVM:</pre>"
      ],
      "text/plain": [
       "SVM:"
      ]
     },
     "metadata": {},
     "output_type": "display_data"
    },
    {
     "data": {
      "text/html": [
       "<pre>--------------------------------------------------------</pre>"
      ],
      "text/plain": [
       "--------------------------------------------------------"
      ]
     },
     "metadata": {},
     "output_type": "display_data"
    },
    {
     "data": {
      "text/html": [
       "<pre>Number of examples          : 2562712</pre>"
      ],
      "text/plain": [
       "Number of examples          : 2562712"
      ]
     },
     "metadata": {},
     "output_type": "display_data"
    },
    {
     "data": {
      "text/html": [
       "<pre>Number of classes           : 2</pre>"
      ],
      "text/plain": [
       "Number of classes           : 2"
      ]
     },
     "metadata": {},
     "output_type": "display_data"
    },
    {
     "data": {
      "text/html": [
       "<pre>Number of feature columns   : 3</pre>"
      ],
      "text/plain": [
       "Number of feature columns   : 3"
      ]
     },
     "metadata": {},
     "output_type": "display_data"
    },
    {
     "data": {
      "text/html": [
       "<pre>Number of unpacked features : 497</pre>"
      ],
      "text/plain": [
       "Number of unpacked features : 497"
      ]
     },
     "metadata": {},
     "output_type": "display_data"
    },
    {
     "data": {
      "text/html": [
       "<pre>Number of coefficients    : 498</pre>"
      ],
      "text/plain": [
       "Number of coefficients    : 498"
      ]
     },
     "metadata": {},
     "output_type": "display_data"
    },
    {
     "data": {
      "text/html": [
       "<pre>Starting L-BFGS</pre>"
      ],
      "text/plain": [
       "Starting L-BFGS"
      ]
     },
     "metadata": {},
     "output_type": "display_data"
    },
    {
     "data": {
      "text/html": [
       "<pre>--------------------------------------------------------</pre>"
      ],
      "text/plain": [
       "--------------------------------------------------------"
      ]
     },
     "metadata": {},
     "output_type": "display_data"
    },
    {
     "data": {
      "text/html": [
       "<pre>+-----------+----------+-----------+--------------+-------------------+---------------------+</pre>"
      ],
      "text/plain": [
       "+-----------+----------+-----------+--------------+-------------------+---------------------+"
      ]
     },
     "metadata": {},
     "output_type": "display_data"
    },
    {
     "data": {
      "text/html": [
       "<pre>| Iteration | Passes   | Step size | Elapsed Time | Training-accuracy | Validation-accuracy |</pre>"
      ],
      "text/plain": [
       "| Iteration | Passes   | Step size | Elapsed Time | Training-accuracy | Validation-accuracy |"
      ]
     },
     "metadata": {},
     "output_type": "display_data"
    },
    {
     "data": {
      "text/html": [
       "<pre>+-----------+----------+-----------+--------------+-------------------+---------------------+</pre>"
      ],
      "text/plain": [
       "+-----------+----------+-----------+--------------+-------------------+---------------------+"
      ]
     },
     "metadata": {},
     "output_type": "display_data"
    },
    {
     "data": {
      "text/html": [
       "<pre>| 1         | 6        | 0.000033  | 10.510959    | 0.651854          | 0.650089            |</pre>"
      ],
      "text/plain": [
       "| 1         | 6        | 0.000033  | 10.510959    | 0.651854          | 0.650089            |"
      ]
     },
     "metadata": {},
     "output_type": "display_data"
    },
    {
     "data": {
      "text/html": [
       "<pre>| 2         | 9        | 5.000000  | 16.456395    | 0.866223          | 0.864674            |</pre>"
      ],
      "text/plain": [
       "| 2         | 9        | 5.000000  | 16.456395    | 0.866223          | 0.864674            |"
      ]
     },
     "metadata": {},
     "output_type": "display_data"
    },
    {
     "data": {
      "text/html": [
       "<pre>| 3         | 10       | 5.000000  | 18.900772    | 0.398174          | 0.398548            |</pre>"
      ],
      "text/plain": [
       "| 3         | 10       | 5.000000  | 18.900772    | 0.398174          | 0.398548            |"
      ]
     },
     "metadata": {},
     "output_type": "display_data"
    },
    {
     "data": {
      "text/html": [
       "<pre>| 4         | 12       | 1.000000  | 23.054291    | 0.661195          | 0.659988            |</pre>"
      ],
      "text/plain": [
       "| 4         | 12       | 1.000000  | 23.054291    | 0.661195          | 0.659988            |"
      ]
     },
     "metadata": {},
     "output_type": "display_data"
    },
    {
     "data": {
      "text/html": [
       "<pre>| 5         | 13       | 1.000000  | 25.524616    | 0.786664          | 0.785506            |</pre>"
      ],
      "text/plain": [
       "| 5         | 13       | 1.000000  | 25.524616    | 0.786664          | 0.785506            |"
      ]
     },
     "metadata": {},
     "output_type": "display_data"
    },
    {
     "data": {
      "text/html": [
       "<pre>| 6         | 14       | 1.000000  | 28.124756    | 0.742959          | 0.742530            |</pre>"
      ],
      "text/plain": [
       "| 6         | 14       | 1.000000  | 28.124756    | 0.742959          | 0.742530            |"
      ]
     },
     "metadata": {},
     "output_type": "display_data"
    },
    {
     "data": {
      "text/html": [
       "<pre>| 7         | 15       | 1.000000  | 31.004443    | 0.651778          | 0.651342            |</pre>"
      ],
      "text/plain": [
       "| 7         | 15       | 1.000000  | 31.004443    | 0.651778          | 0.651342            |"
      ]
     },
     "metadata": {},
     "output_type": "display_data"
    },
    {
     "data": {
      "text/html": [
       "<pre>| 8         | 17       | 1.000000  | 35.195455    | 0.707173          | 0.706587            |</pre>"
      ],
      "text/plain": [
       "| 8         | 17       | 1.000000  | 35.195455    | 0.707173          | 0.706587            |"
      ]
     },
     "metadata": {},
     "output_type": "display_data"
    },
    {
     "data": {
      "text/html": [
       "<pre>| 9         | 18       | 1.000000  | 37.726014    | 0.715546          | 0.714539            |</pre>"
      ],
      "text/plain": [
       "| 9         | 18       | 1.000000  | 37.726014    | 0.715546          | 0.714539            |"
      ]
     },
     "metadata": {},
     "output_type": "display_data"
    },
    {
     "data": {
      "text/html": [
       "<pre>| 10        | 19       | 1.000000  | 40.258214    | 0.710075          | 0.709390            |</pre>"
      ],
      "text/plain": [
       "| 10        | 19       | 1.000000  | 40.258214    | 0.710075          | 0.709390            |"
      ]
     },
     "metadata": {},
     "output_type": "display_data"
    },
    {
     "data": {
      "text/html": [
       "<pre>+-----------+----------+-----------+--------------+-------------------+---------------------+</pre>"
      ],
      "text/plain": [
       "+-----------+----------+-----------+--------------+-------------------+---------------------+"
      ]
     },
     "metadata": {},
     "output_type": "display_data"
    },
    {
     "data": {
      "text/html": [
       "<pre>TERMINATED: Iteration limit reached.</pre>"
      ],
      "text/plain": [
       "TERMINATED: Iteration limit reached."
      ]
     },
     "metadata": {},
     "output_type": "display_data"
    },
    {
     "data": {
      "text/html": [
       "<pre>This model may not be optimal. To improve it, consider increasing `max_iterations`.</pre>"
      ],
      "text/plain": [
       "This model may not be optimal. To improve it, consider increasing `max_iterations`."
      ]
     },
     "metadata": {},
     "output_type": "display_data"
    }
   ],
   "source": [
    "gbm_baseline = gl.svm_classifier.create(trainset, target='click', features=features, \n",
    "                                         penalty=1,\n",
    "                                            validation_set=validationset, class_weights='auto',\n",
    "                                            max_iterations=10)"
   ]
  },
  {
   "cell_type": "markdown",
   "metadata": {},
   "source": [
    "# Evaluation"
   ]
  },
  {
   "cell_type": "code",
   "execution_count": 114,
   "metadata": {
    "collapsed": false
   },
   "outputs": [
    {
     "name": "stdout",
     "output_type": "stream",
     "text": [
      "{'f1_score': 0.003549378858699728, 'auc': 0.7828071837814041, 'recall': 0.6859903381642513, 'precision': 0.0017792925432606162, 'log_loss': 0.5360333657749382, 'roc_curve': Columns:\n",
      "\tthreshold\tfloat\n",
      "\tfpr\tfloat\n",
      "\ttpr\tfloat\n",
      "\tp\tint\n",
      "\tn\tint\n",
      "\n",
      "Rows: 100001\n",
      "\n",
      "Data:\n",
      "+-----------+-----+-----+-----+--------+\n",
      "| threshold | fpr | tpr |  p  |   n    |\n",
      "+-----------+-----+-----+-----+--------+\n",
      "|    0.0    | 1.0 | 1.0 | 207 | 284883 |\n",
      "|   1e-05   | 1.0 | 1.0 | 207 | 284883 |\n",
      "|   2e-05   | 1.0 | 1.0 | 207 | 284883 |\n",
      "|   3e-05   | 1.0 | 1.0 | 207 | 284883 |\n",
      "|   4e-05   | 1.0 | 1.0 | 207 | 284883 |\n",
      "|   5e-05   | 1.0 | 1.0 | 207 | 284883 |\n",
      "|   6e-05   | 1.0 | 1.0 | 207 | 284883 |\n",
      "|   7e-05   | 1.0 | 1.0 | 207 | 284883 |\n",
      "|   8e-05   | 1.0 | 1.0 | 207 | 284883 |\n",
      "|   9e-05   | 1.0 | 1.0 | 207 | 284883 |\n",
      "+-----------+-----+-----+-----+--------+\n",
      "[100001 rows x 5 columns]\n",
      "Note: Only the head of the SFrame is printed.\n",
      "You can use print_rows(num_rows=m, num_columns=n) to print more rows and columns., 'confusion_matrix': Columns:\n",
      "\ttarget_label\tint\n",
      "\tpredicted_label\tint\n",
      "\tcount\tint\n",
      "\n",
      "Rows: 4\n",
      "\n",
      "Data:\n",
      "+--------------+-----------------+--------+\n",
      "| target_label | predicted_label | count  |\n",
      "+--------------+-----------------+--------+\n",
      "|      1       |        0        |   65   |\n",
      "|      1       |        1        |  142   |\n",
      "|      0       |        1        | 79665  |\n",
      "|      0       |        0        | 205218 |\n",
      "+--------------+-----------------+--------+\n",
      "[4 rows x 3 columns]\n",
      ", 'accuracy': 0.7203339296362552}\n"
     ]
    }
   ],
   "source": [
    "results = gbm_baseline.evaluate(validationset)\n",
    "print results"
   ]
  },
  {
   "cell_type": "code",
   "execution_count": 61,
   "metadata": {
    "collapsed": false
   },
   "outputs": [],
   "source": [
    "results['roc_curve'].select_columns(['fpr', 'tpr']).save('./output/gbm_roc_curve.csv')"
   ]
  },
  {
   "cell_type": "markdown",
   "metadata": {},
   "source": [
    "## Output"
   ]
  },
  {
   "cell_type": "code",
   "execution_count": null,
   "metadata": {
    "collapsed": false
   },
   "outputs": [],
   "source": [
    "gbm_predictions = gbm_baseline.predict(test_set, output_type='probability')\n",
    "\n",
    "with open('./output/gbm_predictions.csv', mode='w') as prediction_file:\n",
    "    # write headers to file\n",
    "    prediction_file.write('Id,Prediction\\n')\n",
    "    prediction_id = 1\n",
    "    for prediction in gbm_predictions:\n",
    "        prediction_file.write('{},{:.5f}\\n'.format(prediction_id, prediction))\n",
    "        prediction_id += 1\n",
    "\n",
    "prediction_file.close()"
   ]
  },
  {
   "cell_type": "markdown",
   "metadata": {},
   "source": [
    "## SVM Output (Using Platt scaling)"
   ]
  },
  {
   "cell_type": "code",
   "execution_count": 53,
   "metadata": {
    "collapsed": true
   },
   "outputs": [],
   "source": [
    "import math"
   ]
  },
  {
   "cell_type": "code",
   "execution_count": 63,
   "metadata": {
    "collapsed": false
   },
   "outputs": [],
   "source": [
    "svm_predictions = gbm_baseline.predict(test_set, output_type='class')\n",
    "svm_values = gbm_baseline.predict(test_set, output_type='margin')\n",
    "\n",
    "n_1 = svm_predictions.filter(lambda x: x == 1).size()\n",
    "n_0 = svm_predictions.filter(lambda x: x == 0).size()\n",
    "\n",
    "_a, _b = platt_scaling(svm_values, svm_predictions, n_1, n_0)\n",
    "print _a\n",
    "print _b\n",
    "svm_predictions = svm_predictions.apply(lambda x: apply_platt(x, _a, _b))\n",
    "\n",
    "# open support vector machines model predictions file\n",
    "with open('./output/svm_predictions.csv', mode='w') as svm_prediction_file:\n",
    "    # write headers to file\n",
    "    svm_prediction_file.write('Id,Prediction\\n')\n",
    "    # set support vector machines model prediction id to 1\n",
    "    svm_prediction_id = 1\n",
    "    # for every support vector machines model prediction\n",
    "    for svm_prediction in svm_predictions:\n",
    "        # write support vector machines model prediction to file in requested format\n",
    "        svm_prediction_file.write('{},{:.5f}\\n'.format(svm_prediction_id, svm_prediction))\n",
    "        # increment support vector machines model prediction id\n",
    "        svm_prediction_id += 1\n",
    "\n",
    "# close support vector machines model predictions file\n",
    "svm_prediction_file.close()"
   ]
  },
  {
   "cell_type": "markdown",
   "metadata": {},
   "source": [
    "### AUC for SVM"
   ]
  },
  {
   "cell_type": "code",
   "execution_count": 51,
   "metadata": {
    "collapsed": false
   },
   "outputs": [
    {
     "name": "stdout",
     "output_type": "stream",
     "text": [
      "0.610000366114\n"
     ]
    }
   ],
   "source": [
    "targets = validationset['click']\n",
    "val_predictions = gbm_baseline.predict(validationset, output_type='class')\n",
    "svm_auc = gl.evaluation.auc(targets, val_predictions)\n",
    "print svm_auc"
   ]
  },
  {
   "cell_type": "code",
   "execution_count": null,
   "metadata": {
    "collapsed": true
   },
   "outputs": [],
   "source": []
  }
 ],
 "metadata": {
  "kernelspec": {
   "display_name": "Python 2",
   "language": "python",
   "name": "python2"
  },
  "language_info": {
   "codemirror_mode": {
    "name": "ipython",
    "version": 2
   },
   "file_extension": ".py",
   "mimetype": "text/x-python",
   "name": "python",
   "nbconvert_exporter": "python",
   "pygments_lexer": "ipython2",
   "version": "2.7.11"
  }
 },
 "nbformat": 4,
 "nbformat_minor": 0
}
