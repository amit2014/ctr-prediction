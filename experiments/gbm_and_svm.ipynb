{
 "cells": [
  {
   "cell_type": "markdown",
   "metadata": {},
   "source": [
    "# Experiments with Support Vector Machine and Gradient Boosted Machine models"
   ]
  },
  {
   "cell_type": "code",
   "execution_count": 1,
   "metadata": {
    "collapsed": true
   },
   "outputs": [],
   "source": [
    "import graphlab as gl\n",
    "import os\n",
    "gl.canvas.set_target('ipynb')"
   ]
  },
  {
   "cell_type": "code",
   "execution_count": 2,
   "metadata": {
    "collapsed": false
   },
   "outputs": [
    {
     "name": "stdout",
     "output_type": "stream",
     "text": [
      "This non-commercial license of GraphLab Create is assigned to hernan.toral.15@ucl.ac.uk and will expire on December 01, 2016. For commercial licensing options, visit https://dato.com/buy/.\n"
     ]
    },
    {
     "name": "stderr",
     "output_type": "stream",
     "text": [
      "2016-04-21 10:43:39,334 [INFO] graphlab.cython.cy_server, 176: GraphLab Create v1.8.5 started. Logging: /tmp/graphlab_server_1461231814.log\n"
     ]
    }
   ],
   "source": [
    "# load train data\n",
    "train_set = gl.SFrame.read_csv('../data/train_data.txt', delimiter='\\t', verbose=False)\n",
    "# load test data\n",
    "test_set = gl.SFrame.read_csv('../data/test_data.txt', delimiter='\\t', verbose=False)\n",
    "# split train data to train set and validation set\n",
    "#train_set, validation_set = train_set.random_split(0.8, seed=1337)"
   ]
  },
  {
   "cell_type": "markdown",
   "metadata": {},
   "source": [
    "## Feature engineering functions"
   ]
  },
  {
   "cell_type": "code",
   "execution_count": 3,
   "metadata": {
    "collapsed": true
   },
   "outputs": [],
   "source": [
    "from graphlab import feature_engineering as fe\n",
    "\n",
    "\n",
    "def site_feat(data):\n",
    "    label = 'site_map'\n",
    "    if label in data.column_names():\n",
    "        return data\n",
    "\n",
    "    data[label] = data['domain'] + data['user_agent']\n",
    "    return data, label\n",
    "\n",
    "\n",
    "def slot_feat(data):\n",
    "    label = 'slot_features'\n",
    "    if label in data.column_names():\n",
    "        return data\n",
    "\n",
    "    data[label] = data['ad_slot_width'] + data['ad_slot_height']\n",
    "    return data, label\n",
    "\n",
    "\n",
    "def location_feat(data):\n",
    "    label = 'location_feat'\n",
    "    if label in data.column_names():\n",
    "        return data\n",
    "\n",
    "#     data.add_column(data.select_column('region').apply(lambda x: str(x)) + \\\n",
    "#                     data.select_column('city').apply(lambda x: str(x)), label)\n",
    "    data[label] = data['region'] + data['city']\n",
    "    return data, label\n",
    "\n",
    "def ad_size_feat(data):\n",
    "    label = 'ad_size_feat'\n",
    "    if label in data.column_names():\n",
    "        return data\n",
    "#     data.add_column(data.select_column('ad_slot_width').apply(lambda x: str(x)) + \\\n",
    "#                     data.select_column('ad_slot_height').apply(lambda x: str(x)), label)\n",
    "    data[label] = data['ad_slot_width'] + data['ad_slot_height']\n",
    "    return data, label\n",
    "\n",
    "\n",
    "def create_quad_features(train, interaction_columns, label='quadratic_features'):\n",
    "    return fe.create(train, fe.QuadraticFeatures(features=interaction_columns, output_column_name=label)), label\n",
    "\n",
    "\n",
    "def apply_quadratic(data, quad, label):\n",
    "\n",
    "    if label in data.column_names():\n",
    "        # operation already performed, do nothing\n",
    "        return data\n",
    "    # for feature in interaction_columns:\n",
    "    #     dataset[feature] = data[feature].astype(int)\n",
    "    return quad.transform(data)\n",
    "\n",
    "\n",
    "def create_onehot_features(train, interaction_columns, categories=300, label='encoded_features'):\n",
    "    return fe.create(train, fe.OneHotEncoder(features=interaction_columns,\n",
    "                                             max_categories=categories, output_column_name=label)), label\n",
    "\n",
    "\n",
    "def apply_feature_eng(data, impl, label):\n",
    "    if label in data.column_names():\n",
    "        return data\n",
    "    return impl.transform(data)\n",
    "\n",
    "\n",
    "def apply_dictionary(tags_l):\n",
    "    if len(tags_l) > 0:\n",
    "        tags = tags_l.split(',')\n",
    "        return dict(zip(tags, [1 for tag in tags]))\n",
    "    else:\n",
    "        return {}\n",
    "#     tags_to_dict = lambda tags: dict(zip(tags, [1 for tag in tags]))\n",
    "    \n",
    "#     data[label] = data.apply(lambda row: tags_to_dict(col.split(',')))\n",
    "#     print data[label].head(5)\n",
    "#     return data\n",
    "\n",
    "\n",
    "def tags_to_dict(row):\n",
    "    tags = row.split(',')\n",
    "    return dict(zip(tags, [1 for _ in tags]))\n",
    "\n",
    "\n",
    "def apply_separate_uagent(data, regexp, label):\n",
    "    if label in data.column_names():\n",
    "        return data\n",
    "    data[label] = data.apply(lambda row: filter_uagent(row['user_agent'], regexp))\n",
    "    return data\n",
    "\n",
    "\n",
    "def filter_uagent(value, regexp):\n",
    "    return 1 if regexp.search(value) is not None else 0\n",
    "\n",
    "def floor_price_category(col):\n",
    "    price = int(col)\n",
    "    if price > 80:\n",
    "        return \"81+\"\n",
    "    elif price > 10:\n",
    "        return \"11-80\"\n",
    "    elif price > 0:\n",
    "        return \"1-10\"\n",
    "    else:\n",
    "        return \"0\"\n"
   ]
  },
  {
   "cell_type": "markdown",
   "metadata": {},
   "source": [
    "## Platt Scaling for SVM"
   ]
  },
  {
   "cell_type": "code",
   "execution_count": 4,
   "metadata": {
    "collapsed": true
   },
   "outputs": [],
   "source": [
    "def platt_scaling(svm_output, svm_prediction, n_1, n_0):\n",
    "    _a = 0.\n",
    "    _b = math.log((n_0+1) / (n_1+1))\n",
    "    hi_target = (n_1+1) / (n_1+2)\n",
    "    lo_target = 1 / (n_0+2)\n",
    "    lambda_v = 1e-3\n",
    "    old_err = 1e300\n",
    "    pp = gl.SArray(data=[((n_1+1)/(n_0+n_1+2)) for _ in xrange(svm_output.size())], dtype=float)\n",
    "    count = 0\n",
    "    for it in xrange(100):\n",
    "        a = b = c = d = e = 0.\n",
    "        # compute the Hessian & gradient error function w.r.t. A & B\n",
    "        for i in xrange(pp.size()):\n",
    "            t = hi_target if svm_prediction[i] else lo_target\n",
    "            d1 = pp[i] - t\n",
    "            d2 = pp[i] * (1 - pp[i])\n",
    "            a += svm_output[i] * svm_output[i] * d2\n",
    "            b += d2\n",
    "            c += svm_output[i] * d2\n",
    "            d += svm_output[i] * d1\n",
    "            e += d1\n",
    "\n",
    "        # if gradient is really tiny, then stop\n",
    "        if abs(d) < 1e-9 and abs(e) < 1e-9:\n",
    "            break\n",
    "        old_a = _a\n",
    "        old_b = _b\n",
    "        err = 0.\n",
    "        while True:\n",
    "            det = (a + lambda_v) * (b + lambda_v) - c*c\n",
    "            if det == 0.: # if determinant of Hessian is zero\n",
    "                # increases stabilizer\n",
    "                lambda_v *= 10\n",
    "                continue\n",
    "            _a = old_a + ((b + lambda_v) * d - c*e) / det\n",
    "            _b = old_b + ((a + lambda_v) * e - c*d) / det\n",
    "\n",
    "            # now perform the goodness of fit\n",
    "            err = 0.\n",
    "            for j in xrange(pp.size()):\n",
    "                p = 1 / (1 + math.exp(svm_output[j]*_a + _b))\n",
    "                pp[j] = p\n",
    "                ## At this step, make sure log(0) returns -200\n",
    "                if p <= 1.383897e-87:\n",
    "                    err -= t * (-200) + (1 - t) * math.log(1 - p)\n",
    "                elif p == 1:\n",
    "                    err -= t * math.log(p) + (1 - t) * (-200)\n",
    "                else:\n",
    "                    err -= t*math.log(p) + (1-t)*math.log(1-p)\n",
    "\n",
    "                if err == -float(\"inf\"):\n",
    "                    print '==Something is wrong=='\n",
    "\n",
    "            if err < old_err*(1 + 1e-7):\n",
    "                lambda_v *= 0.1\n",
    "                break\n",
    "\n",
    "            # error did not decrease: increase stabilizer by factor of 10 & try again\n",
    "            lambda_v *= 10\n",
    "            if lambda_v >= 1e6: # something is broken: give up\n",
    "                print '==Somethig is broken... giving up=='\n",
    "                break\n",
    "\n",
    "        diff = err - old_err\n",
    "        scale = 0.5 * (err + old_err + 1)\n",
    "        if diff > -1e-3*scale and diff < 1e-7*scale:\n",
    "            count += 1\n",
    "        else:\n",
    "            count = 0\n",
    "        print count\n",
    "        old_err = err\n",
    "        if count == 3:\n",
    "            break\n",
    "\n",
    "    return _a, _b\n",
    "\n",
    "\n",
    "########################################################################################################################\n",
    "\n",
    "def apply_platt(x, _a, _b):\n",
    "    print math.exp(x*_a + _b)\n",
    "    return 1. / (1. + math.exp(x*_a + _b))\n",
    "\n",
    "\n",
    "########################################################################################################################\n"
   ]
  },
  {
   "cell_type": "markdown",
   "metadata": {},
   "source": [
    "## Feature Engineering"
   ]
  },
  {
   "cell_type": "code",
   "execution_count": 42,
   "metadata": {
    "collapsed": true
   },
   "outputs": [],
   "source": [
    "trainset, validationset = train_set.random_split(0.9, seed=1337)"
   ]
  },
  {
   "cell_type": "markdown",
   "metadata": {},
   "source": [
    "# /*"
   ]
  },
  {
   "cell_type": "code",
   "execution_count": null,
   "metadata": {
    "collapsed": true
   },
   "outputs": [],
   "source": [
    "# features = ['weekday', 'hour']#,\n",
    "#                 #'ad_slot_id',\n",
    "    \n",
    "# features_onehot = [\n",
    "#                 'user_agent',\n",
    "#                 'ad_slot_floor_price', 'ad_slot_width', 'ad_slot_height',\n",
    "#                 'ad_slot_format'\n",
    "#                 #'domain'\n",
    "#                 #'ad_exchange'\n",
    "#                 ]"
   ]
  },
  {
   "cell_type": "markdown",
   "metadata": {},
   "source": [
    "# */"
   ]
  },
  {
   "cell_type": "code",
   "execution_count": null,
   "metadata": {
    "collapsed": false
   },
   "outputs": [],
   "source": [
    "# trainset, _ = site_feat(trainset)\n",
    "# validationset, site_featl = site_feat(validationset)\n",
    "# #test_set, site_featl = site_feat(test_set)\n",
    "# features.append(site_featl)"
   ]
  },
  {
   "cell_type": "code",
   "execution_count": null,
   "metadata": {
    "collapsed": true
   },
   "outputs": [],
   "source": [
    "# trainset, _ = location_feat(trainset)\n",
    "# validationset, location_featl = location_feat(validationset)\n",
    "# #test_set, location_feat = location_feat(test_set)\n",
    "# features.append(location_featl)"
   ]
  },
  {
   "cell_type": "code",
   "execution_count": null,
   "metadata": {
    "collapsed": true
   },
   "outputs": [],
   "source": [
    "# trainset, _ = ad_size_feat(trainset)\n",
    "# validationset, size_label = ad_size_feat(validationset)\n",
    "# features.append(size_label)"
   ]
  },
  {
   "cell_type": "code",
   "execution_count": null,
   "metadata": {
    "collapsed": true
   },
   "outputs": [],
   "source": [
    "import re"
   ]
  },
  {
   "cell_type": "code",
   "execution_count": null,
   "metadata": {
    "collapsed": false
   },
   "outputs": [],
   "source": [
    "# uagent_desktop_label = 'uagent_desktop'\n",
    "# regexp = re.compile(r'windows|linux|mac')\n",
    "# trainset = apply_separate_uagent(trainset, regexp, uagent_desktop_label)\n",
    "# validationset = apply_separate_uagent(validationset, regexp, uagent_desktop_label)\n",
    "# features.append(uagent_desktop_label)"
   ]
  },
  {
   "cell_type": "code",
   "execution_count": null,
   "metadata": {
    "collapsed": true
   },
   "outputs": [],
   "source": [
    "# uagent_mobile_label = 'uagent_mobile'\n",
    "# regexp = re.compile(r'android|ios|other')\n",
    "# trainset = apply_separate_uagent(trainset, regexp, uagent_mobile_label)\n",
    "# validationset = apply_separate_uagent(validationset, regexp, uagent_mobile_label)\n",
    "# features.append(uagent_mobile_label)"
   ]
  },
  {
   "cell_type": "code",
   "execution_count": null,
   "metadata": {
    "collapsed": false
   },
   "outputs": [],
   "source": [
    "# interaction_columns = ['ad_slot_width', 'ad_slot_height']\n",
    "# quad, quad_site_label = create_quad_features(trainset, interaction_columns, quad_site_label)\n",
    "# trainset = apply_quadratic(trainset, quad, quad_site_label)\n",
    "# validationset = apply_quadratic(validationset, quad, quad_site_label)\n",
    "# features.append(quad_site_label)"
   ]
  },
  {
   "cell_type": "markdown",
   "metadata": {},
   "source": [
    "# /*"
   ]
  },
  {
   "cell_type": "code",
   "execution_count": null,
   "metadata": {
    "collapsed": false
   },
   "outputs": [],
   "source": [
    "ip_fixed_label = 'ip_fixed'\n",
    "trainset.add_column(trainset.select_column('ip').apply(lambda x: x.index('.', x.index('.')+1)), ip_fixed_label)\n",
    "validationset.add_column(validationset.select_column('ip').apply(lambda x: x.index('.', x.index('.')+1)), ip_fixed_label)\n",
    "test_set.add_column(test_set.select_column('ip').apply(lambda x: x.index('.', x.index('.')+1)), ip_fixed_label)\n",
    "# features.append(ip_fixed_label)\n",
    "features_onehot.append(ip_fixed_label)"
   ]
  },
  {
   "cell_type": "markdown",
   "metadata": {},
   "source": [
    "# */"
   ]
  },
  {
   "cell_type": "code",
   "execution_count": null,
   "metadata": {
    "collapsed": false
   },
   "outputs": [],
   "source": [
    "# price_cat_label = 'price_cat_label'\n",
    "# trainset.add_column(trainset.select_column('ad_slot_floor_price').apply(lambda x: floor_price_category(x)), \n",
    "#                    price_cat_label)\n",
    "# validationset.add_column(validationset.select_column('ad_slot_floor_price').apply(lambda x: floor_price_category(x)), \n",
    "#                    price_cat_label)\n",
    "# features.append(price_cat_label)"
   ]
  },
  {
   "cell_type": "markdown",
   "metadata": {},
   "source": [
    "# /*"
   ]
  },
  {
   "cell_type": "code",
   "execution_count": 65,
   "metadata": {
    "collapsed": false
   },
   "outputs": [],
   "source": [
    "# tags_label = 'tags'\n",
    "# trainset.add_column(trainset.select_column('user_tags').apply(lambda x: apply_dictionary(x)), tags_label)\n",
    "# validationset.add_column(validationset.select_column('user_tags').apply(lambda x: apply_dictionary(x)), tags_label)\n",
    "# test_set.add_column(test_set.select_column('user_tags').apply(lambda x: apply_dictionary(x)), tags_label)\n",
    "# # features.append(tags_label)\n",
    "# features_onehot.append(tags_label)"
   ]
  },
  {
   "cell_type": "code",
   "execution_count": 66,
   "metadata": {
    "collapsed": true
   },
   "outputs": [],
   "source": [
    "# domain_enc_label = 'encoded_domain'\n",
    "# encoded_columns = ['domain', 'url']\n",
    "# onehot, _ = create_onehot_features(trainset, encoded_columns, 100, domain_enc_label)\n",
    "# trainset = apply_feature_eng(trainset, onehot, domain_enc_label)\n",
    "# validationset = apply_feature_eng(validationset, onehot, domain_enc_label)\n",
    "# test_set = apply_feature_eng(test_set, onehot, domain_enc_label)\n",
    "# #features.append(domain_enc_label)\n",
    "# features_onehot.append(domain_enc_label)"
   ]
  },
  {
   "cell_type": "code",
   "execution_count": 67,
   "metadata": {
    "collapsed": false
   },
   "outputs": [],
   "source": [
    "# timestamp_fixed_label = 'timestamp_fixed'\n",
    "# trainset.add_column(trainset.select_column('timestamp').apply(lambda x: int(str(x)[:8])), timestamp_fixed_label)\n",
    "# validationset.add_column(validationset.select_column('timestamp').apply(lambda x: int(str(x)[:8])), timestamp_fixed_label)\n",
    "# test_set.add_column(test_set.select_column('timestamp').apply(lambda x: int(str(x)[:8])), timestamp_fixed_label)\n",
    "# #features.append(timestamp_fixed_label)\n",
    "# features_onehot.append(timestamp_fixed_label)"
   ]
  },
  {
   "cell_type": "code",
   "execution_count": 68,
   "metadata": {
    "collapsed": false
   },
   "outputs": [],
   "source": [
    "# features_onehot"
   ]
  },
  {
   "cell_type": "code",
   "execution_count": 69,
   "metadata": {
    "collapsed": true
   },
   "outputs": [],
   "source": [
    "# encoded_feat_label = 'encoded_features'\n",
    "# onehot, _ = create_onehot_features(trainset, features_onehot, 100, encoded_feat_label)\n",
    "# trainset = apply_feature_eng(trainset, onehot, encoded_feat_label)\n",
    "# validationset = apply_feature_eng(validationset, onehot, encoded_feat_label)\n",
    "# test_set = apply_feature_eng(test_set, onehot, encoded_feat_label)\n",
    "# features.append(encoded_feat_label)"
   ]
  },
  {
   "cell_type": "markdown",
   "metadata": {},
   "source": [
    "# */"
   ]
  },
  {
   "cell_type": "markdown",
   "metadata": {},
   "source": [
    "### Feature Engineering used in all experiments"
   ]
  },
  {
   "cell_type": "code",
   "execution_count": 43,
   "metadata": {
    "collapsed": false
   },
   "outputs": [],
   "source": [
    "features_to_remove = ['city',\n",
    "                              'region',\n",
    "                              'user_id',\n",
    "                              'log_type',\n",
    "                              'timestamp',\n",
    "#                               'user_tags',\n",
    "                              'creative_id',\n",
    "                              'key_page_url',\n",
    "                              'advertiser_id',\n",
    "                              'anonymous_url_id']\n",
    "trainset.remove_columns(features_to_remove)\n",
    "validationset.remove_columns(features_to_remove)\n",
    "# test_set.remove_columns(features_to_remove)\n",
    "\n",
    "def feature_merger(data_set):\n",
    "    # merge features\n",
    "    data_set['url_domain'] = data_set['url'] + data_set['domain']\n",
    "    # merge features\n",
    "    data_set['city_region'] = data_set['city'] + data_set['region']\n",
    "    # merge features\n",
    "    data_set['ad_slot_width_height'] = data_set['ad_slot_width'] + data_set['ad_slot_height']\n",
    "    # return data set\n",
    "    return data_set\n",
    "\n",
    "log_enc_features = ['url',\n",
    "                'domain',\n",
    "                'user_agent',\n",
    "                'ad_slot_id',\n",
    "                'ad_exchange',\n",
    "                'ad_slot_width',\n",
    "                'ad_slot_height',\n",
    "                'ad_slot_format',\n",
    "                'ad_slot_visibility',\n",
    "                'ad_slot_floor_price']\n",
    "\n",
    "onehot, _ = create_onehot_features(trainset, log_enc_features, 108, 'log_encoded_features')\n",
    "trainset = apply_feature_eng(trainset, onehot, 'log_encoded_features')\n",
    "validationset = apply_feature_eng(validationset, onehot, 'log_encoded_features')\n",
    "test_set = apply_feature_eng(test_set, onehot, 'log_encoded_features')\n",
    "\n",
    "\n",
    "features = ['hour', 'weekday', 'log_encoded_features']\n",
    "\n",
    "\n"
   ]
  },
  {
   "cell_type": "code",
   "execution_count": 18,
   "metadata": {
    "collapsed": true
   },
   "outputs": [],
   "source": [
    "# To apply this feature, enable and run the related code in previous sections\n",
    "features.append('tags')"
   ]
  },
  {
   "cell_type": "markdown",
   "metadata": {},
   "source": [
    "### Just for SVM"
   ]
  },
  {
   "cell_type": "code",
   "execution_count": 110,
   "metadata": {
    "collapsed": false
   },
   "outputs": [],
   "source": [
    "features = ['hour', 'weekday', 'svm_encoded_features',#]\n",
    "#svm_enc_features = [\n",
    "#                 'url',\n",
    "#                 'domain',\n",
    "                'user_agent',\n",
    "                'ad_slot_id',\n",
    "                'ad_exchange',\n",
    "                'ad_slot_width',\n",
    "                'ad_slot_height',\n",
    "                'ad_slot_format',\n",
    "                'ad_slot_visibility',\n",
    "                'ad_slot_floor_price']\n",
    "svm_enc_features = [\n",
    "                'url',\n",
    "                'domain']\n",
    "onehot, _ = create_onehot_features(trainset, svm_enc_features, 100, 'svm_encoded_features')\n",
    "trainset = apply_feature_eng(trainset, onehot, 'svm_encoded_features')\n",
    "validationset = apply_feature_eng(validationset, onehot, 'svm_encoded_features')\n",
    "test_set = apply_feature_eng(test_set, onehot, 'svm_encoded_features')\n"
   ]
  },
  {
   "cell_type": "markdown",
   "metadata": {},
   "source": [
    "### Some output"
   ]
  },
  {
   "cell_type": "code",
   "execution_count": 44,
   "metadata": {
    "collapsed": false
   },
   "outputs": [
    {
     "data": {
      "text/plain": [
       "['hour', 'weekday', 'log_encoded_features']"
      ]
     },
     "execution_count": 44,
     "metadata": {},
     "output_type": "execute_result"
    }
   ],
   "source": [
    "features"
   ]
  },
  {
   "cell_type": "code",
   "execution_count": 20,
   "metadata": {
    "collapsed": false,
    "scrolled": true
   },
   "outputs": [
    {
     "data": {
      "text/html": [
       "<div style=\"max-height:1000px;max-width:1500px;overflow:auto;\"><table frame=\"box\" rules=\"cols\">\n",
       "    <tr>\n",
       "        <th style=\"padding-left: 1em; padding-right: 1em; text-align: center\">hour</th>\n",
       "        <th style=\"padding-left: 1em; padding-right: 1em; text-align: center\">weekday</th>\n",
       "        <th style=\"padding-left: 1em; padding-right: 1em; text-align: center\">log_encoded_features</th>\n",
       "        <th style=\"padding-left: 1em; padding-right: 1em; text-align: center\">tags</th>\n",
       "    </tr>\n",
       "    <tr>\n",
       "        <td style=\"padding-left: 1em; padding-right: 1em; text-align: center; vertical-align: top\">0</td>\n",
       "        <td style=\"padding-left: 1em; padding-right: 1em; text-align: center; vertical-align: top\">6</td>\n",
       "        <td style=\"padding-left: 1em; padding-right: 1em; text-align: center; vertical-align: top\">{385: 1, 360: 1, 204: 1,<br>493: 1, 373: 1, 250: 1, ...</td>\n",
       "        <td style=\"padding-left: 1em; padding-right: 1em; text-align: center; vertical-align: top\">{'10063': 1, '10057': 1,<br>'13866': 1, '10024': 1, ...</td>\n",
       "    </tr>\n",
       "    <tr>\n",
       "        <td style=\"padding-left: 1em; padding-right: 1em; text-align: center; vertical-align: top\">0</td>\n",
       "        <td style=\"padding-left: 1em; padding-right: 1em; text-align: center; vertical-align: top\">6</td>\n",
       "        <td style=\"padding-left: 1em; padding-right: 1em; text-align: center; vertical-align: top\">{385: 1, 295: 1, 361: 1,<br>494: 1, 370: 1, 377: 1, ...</td>\n",
       "        <td style=\"padding-left: 1em; padding-right: 1em; text-align: center; vertical-align: top\">{'10063': 1, '13776': 1,<br>'10059': 1, '10111': 1} ...</td>\n",
       "    </tr>\n",
       "    <tr>\n",
       "        <td style=\"padding-left: 1em; padding-right: 1em; text-align: center; vertical-align: top\">0</td>\n",
       "        <td style=\"padding-left: 1em; padding-right: 1em; text-align: center; vertical-align: top\">6</td>\n",
       "        <td style=\"padding-left: 1em; padding-right: 1em; text-align: center; vertical-align: top\">{385: 1, 289: 1, 168: 1,<br>361: 1, 494: 1, 369: 1, ...</td>\n",
       "        <td style=\"padding-left: 1em; padding-right: 1em; text-align: center; vertical-align: top\">{'10063': 1, '10111': 1}</td>\n",
       "    </tr>\n",
       "    <tr>\n",
       "        <td style=\"padding-left: 1em; padding-right: 1em; text-align: center; vertical-align: top\">0</td>\n",
       "        <td style=\"padding-left: 1em; padding-right: 1em; text-align: center; vertical-align: top\">6</td>\n",
       "        <td style=\"padding-left: 1em; padding-right: 1em; text-align: center; vertical-align: top\">{385: 1, 168: 1, 361: 1,<br>494: 1, 369: 1, 378: 1, ...</td>\n",
       "        <td style=\"padding-left: 1em; padding-right: 1em; text-align: center; vertical-align: top\">{'10057': 1, '14273': 1,<br>'10006': 1} ...</td>\n",
       "    </tr>\n",
       "    <tr>\n",
       "        <td style=\"padding-left: 1em; padding-right: 1em; text-align: center; vertical-align: top\">0</td>\n",
       "        <td style=\"padding-left: 1em; padding-right: 1em; text-align: center; vertical-align: top\">6</td>\n",
       "        <td style=\"padding-left: 1em; padding-right: 1em; text-align: center; vertical-align: top\">{385: 1, 327: 1, 360: 1,<br>199: 1, 493: 1, 368: 1, ...</td>\n",
       "        <td style=\"padding-left: 1em; padding-right: 1em; text-align: center; vertical-align: top\">{'13866': 1, '10006': 1,<br>'10063': 1, '10111': 1} ...</td>\n",
       "    </tr>\n",
       "</table>\n",
       "[5 rows x 4 columns]<br/>\n",
       "</div>"
      ],
      "text/plain": [
       "Columns:\n",
       "\thour\tint\n",
       "\tweekday\tint\n",
       "\tlog_encoded_features\tdict\n",
       "\ttags\tdict\n",
       "\n",
       "Rows: 5\n",
       "\n",
       "Data:\n",
       "+------+---------+-------------------------------+\n",
       "| hour | weekday |      log_encoded_features     |\n",
       "+------+---------+-------------------------------+\n",
       "|  0   |    6    | {385: 1, 360: 1, 204: 1, 4... |\n",
       "|  0   |    6    | {385: 1, 295: 1, 361: 1, 4... |\n",
       "|  0   |    6    | {385: 1, 289: 1, 168: 1, 3... |\n",
       "|  0   |    6    | {385: 1, 168: 1, 361: 1, 4... |\n",
       "|  0   |    6    | {385: 1, 327: 1, 360: 1, 1... |\n",
       "+------+---------+-------------------------------+\n",
       "+-------------------------------+\n",
       "|              tags             |\n",
       "+-------------------------------+\n",
       "| {'10063': 1, '10057': 1, '... |\n",
       "| {'10063': 1, '13776': 1, '... |\n",
       "|    {'10063': 1, '10111': 1}   |\n",
       "| {'10057': 1, '14273': 1, '... |\n",
       "| {'13866': 1, '10006': 1, '... |\n",
       "+-------------------------------+\n",
       "[5 rows x 4 columns]"
      ]
     },
     "execution_count": 20,
     "metadata": {},
     "output_type": "execute_result"
    }
   ],
   "source": [
    "trainset[features].head(5)"
   ]
  },
  {
   "cell_type": "markdown",
   "metadata": {},
   "source": [
    "# Models (Run one model)"
   ]
  },
  {
   "cell_type": "markdown",
   "metadata": {},
   "source": [
    "## Logistic Regression"
   ]
  },
  {
   "cell_type": "code",
   "execution_count": 27,
   "metadata": {
    "collapsed": false
   },
   "outputs": [
    {
     "name": "stderr",
     "output_type": "stream",
     "text": [
      "2016-04-21 11:22:53,261 [INFO] graphlab.deploy.job, 22: Validating job.\n",
      "2016-04-21 11:22:54,717 [INFO] graphlab.deploy.job, 36: Creating a LocalAsync environment called 'async'.\n",
      "2016-04-21 11:22:54,786 [INFO] graphlab.deploy.map_job, 186: Validation complete. Job: 'Model-Parameter-Search-Apr-21-2016-11-22-5300000' ready for execution\n",
      "2016-04-21 11:23:20,677 [INFO] graphlab.deploy.map_job, 192: Job: 'Model-Parameter-Search-Apr-21-2016-11-22-5300000' scheduled.\n",
      "2016-04-21 11:27:21,422 [INFO] graphlab.deploy.job, 22: Validating job.\n",
      "2016-04-21 11:27:21,611 [INFO] graphlab.deploy.map_job, 220: A job with name 'Model-Parameter-Search-Apr-21-2016-11-22-5300000' already exists. Renaming the job to 'Model-Parameter-Search-Apr-21-2016-11-22-5300000-aae36'.\n",
      "2016-04-21 11:27:21,620 [INFO] graphlab.deploy.map_job, 186: Validation complete. Job: 'Model-Parameter-Search-Apr-21-2016-11-22-5300000-aae36' ready for execution\n",
      "2016-04-21 11:27:32,225 [INFO] graphlab.deploy.map_job, 192: Job: 'Model-Parameter-Search-Apr-21-2016-11-22-5300000-aae36' scheduled.\n"
     ]
    },
    {
     "name": "stdout",
     "output_type": "stream",
     "text": [
      "+----------+------------+------------+--------+-------------------+\n",
      "| model_id | l1_penalty | l2_penalty | target | training_accuracy |\n",
      "+----------+------------+------------+--------+-------------------+\n",
      "|    9     |    1.0     |    1.0     | click  |   0.999288254006  |\n",
      "|    8     |    0.01    |    0.0     | click  |   0.999289814852  |\n",
      "|    1     |    1.0     |    10.0    | click  |   0.999289814852  |\n",
      "|    0     |    1.0     |   100.0    | click  |   0.999287863794  |\n",
      "|    3     |    1.0     |   0.0001   | click  |   0.999288254006  |\n",
      "|    2     |    0.1     |    0.1     | click  |   0.999286693159  |\n",
      "|    5     |    0.0     |    0.0     | click  |   0.998943306934  |\n",
      "|    4     |    10.0    |    0.1     | click  |   0.999287863794  |\n",
      "|    7     |   0.0001   |    0.01    | click  |   0.999287863794  |\n",
      "|    6     |    1.0     |   0.0001   | click  |   0.999285522525  |\n",
      "+----------+------------+------------+--------+-------------------+\n",
      "+---------------------+\n",
      "| validation_accuracy |\n",
      "+---------------------+\n",
      "|    0.999263390508   |\n",
      "|    0.999263390508   |\n",
      "|    0.999263390508   |\n",
      "|    0.999263390508   |\n",
      "|    0.999263390508   |\n",
      "|    0.999266898173   |\n",
      "|    0.998011154372   |\n",
      "|    0.999263390508   |\n",
      "|    0.999263390508   |\n",
      "|    0.999263390508   |\n",
      "+---------------------+\n",
      "[10 rows x 6 columns]\n",
      "\n"
     ]
    }
   ],
   "source": [
    "params = {'target': 'click'}#, 'features':features, 'class_weights': 'auto'}\n",
    "lparam_search = gl.toolkits.model_parameter_search.create((trainset, validationset),\n",
    "                                    gl.logistic_classifier.create,params)\n",
    "ps_results = lparam_search.get_results()\n",
    "print ps_results"
   ]
  },
  {
   "cell_type": "code",
   "execution_count": 28,
   "metadata": {
    "collapsed": false
   },
   "outputs": [
    {
     "data": {
      "text/html": [
       "<pre>Logistic regression:</pre>"
      ],
      "text/plain": [
       "Logistic regression:"
      ]
     },
     "metadata": {},
     "output_type": "display_data"
    },
    {
     "data": {
      "text/html": [
       "<pre>--------------------------------------------------------</pre>"
      ],
      "text/plain": [
       "--------------------------------------------------------"
      ]
     },
     "metadata": {},
     "output_type": "display_data"
    },
    {
     "data": {
      "text/html": [
       "<pre>Number of examples          : 2562712</pre>"
      ],
      "text/plain": [
       "Number of examples          : 2562712"
      ]
     },
     "metadata": {},
     "output_type": "display_data"
    },
    {
     "data": {
      "text/html": [
       "<pre>Number of classes           : 2</pre>"
      ],
      "text/plain": [
       "Number of classes           : 2"
      ]
     },
     "metadata": {},
     "output_type": "display_data"
    },
    {
     "data": {
      "text/html": [
       "<pre>Number of feature columns   : 4</pre>"
      ],
      "text/plain": [
       "Number of feature columns   : 4"
      ]
     },
     "metadata": {},
     "output_type": "display_data"
    },
    {
     "data": {
      "text/html": [
       "<pre>Number of unpacked features : 541</pre>"
      ],
      "text/plain": [
       "Number of unpacked features : 541"
      ]
     },
     "metadata": {},
     "output_type": "display_data"
    },
    {
     "data": {
      "text/html": [
       "<pre>Number of coefficients    : 542</pre>"
      ],
      "text/plain": [
       "Number of coefficients    : 542"
      ]
     },
     "metadata": {},
     "output_type": "display_data"
    },
    {
     "data": {
      "text/html": [
       "<pre>Starting L-BFGS</pre>"
      ],
      "text/plain": [
       "Starting L-BFGS"
      ]
     },
     "metadata": {},
     "output_type": "display_data"
    },
    {
     "data": {
      "text/html": [
       "<pre>--------------------------------------------------------</pre>"
      ],
      "text/plain": [
       "--------------------------------------------------------"
      ]
     },
     "metadata": {},
     "output_type": "display_data"
    },
    {
     "data": {
      "text/html": [
       "<pre>+-----------+----------+-----------+--------------+-------------------+---------------------+</pre>"
      ],
      "text/plain": [
       "+-----------+----------+-----------+--------------+-------------------+---------------------+"
      ]
     },
     "metadata": {},
     "output_type": "display_data"
    },
    {
     "data": {
      "text/html": [
       "<pre>| Iteration | Passes   | Step size | Elapsed Time | Training-accuracy | Validation-accuracy |</pre>"
      ],
      "text/plain": [
       "| Iteration | Passes   | Step size | Elapsed Time | Training-accuracy | Validation-accuracy |"
      ]
     },
     "metadata": {},
     "output_type": "display_data"
    },
    {
     "data": {
      "text/html": [
       "<pre>+-----------+----------+-----------+--------------+-------------------+---------------------+</pre>"
      ],
      "text/plain": [
       "+-----------+----------+-----------+--------------+-------------------+---------------------+"
      ]
     },
     "metadata": {},
     "output_type": "display_data"
    },
    {
     "data": {
      "text/html": [
       "<pre>| 1         | 6        | 0.000033  | 11.726277    | 0.751370          | 0.749234            |</pre>"
      ],
      "text/plain": [
       "| 1         | 6        | 0.000033  | 11.726277    | 0.751370          | 0.749234            |"
      ]
     },
     "metadata": {},
     "output_type": "display_data"
    },
    {
     "data": {
      "text/html": [
       "<pre>| 2         | 8        | 1.000000  | 16.288758    | 0.854399          | 0.852703            |</pre>"
      ],
      "text/plain": [
       "| 2         | 8        | 1.000000  | 16.288758    | 0.854399          | 0.852703            |"
      ]
     },
     "metadata": {},
     "output_type": "display_data"
    },
    {
     "data": {
      "text/html": [
       "<pre>| 3         | 9        | 1.000000  | 19.103564    | 0.778587          | 0.778351            |</pre>"
      ],
      "text/plain": [
       "| 3         | 9        | 1.000000  | 19.103564    | 0.778587          | 0.778351            |"
      ]
     },
     "metadata": {},
     "output_type": "display_data"
    },
    {
     "data": {
      "text/html": [
       "<pre>| 4         | 10       | 1.000000  | 21.886568    | 0.718274          | 0.717679            |</pre>"
      ],
      "text/plain": [
       "| 4         | 10       | 1.000000  | 21.886568    | 0.718274          | 0.717679            |"
      ]
     },
     "metadata": {},
     "output_type": "display_data"
    },
    {
     "data": {
      "text/html": [
       "<pre>| 5         | 11       | 1.000000  | 25.003900    | 0.729454          | 0.727742            |</pre>"
      ],
      "text/plain": [
       "| 5         | 11       | 1.000000  | 25.003900    | 0.729454          | 0.727742            |"
      ]
     },
     "metadata": {},
     "output_type": "display_data"
    },
    {
     "data": {
      "text/html": [
       "<pre>| 6         | 12       | 1.000000  | 27.776532    | 0.688722          | 0.687902            |</pre>"
      ],
      "text/plain": [
       "| 6         | 12       | 1.000000  | 27.776532    | 0.688722          | 0.687902            |"
      ]
     },
     "metadata": {},
     "output_type": "display_data"
    },
    {
     "data": {
      "text/html": [
       "<pre>| 7         | 13       | 1.000000  | 30.619927    | 0.714774          | 0.713750            |</pre>"
      ],
      "text/plain": [
       "| 7         | 13       | 1.000000  | 30.619927    | 0.714774          | 0.713750            |"
      ]
     },
     "metadata": {},
     "output_type": "display_data"
    },
    {
     "data": {
      "text/html": [
       "<pre>| 8         | 14       | 1.000000  | 33.512941    | 0.724030          | 0.722828            |</pre>"
      ],
      "text/plain": [
       "| 8         | 14       | 1.000000  | 33.512941    | 0.724030          | 0.722828            |"
      ]
     },
     "metadata": {},
     "output_type": "display_data"
    },
    {
     "data": {
      "text/html": [
       "<pre>| 9         | 15       | 1.000000  | 36.311600    | 0.660274          | 0.659841            |</pre>"
      ],
      "text/plain": [
       "| 9         | 15       | 1.000000  | 36.311600    | 0.660274          | 0.659841            |"
      ]
     },
     "metadata": {},
     "output_type": "display_data"
    },
    {
     "data": {
      "text/html": [
       "<pre>| 10        | 16       | 1.000000  | 39.040503    | 0.692066          | 0.691403            |</pre>"
      ],
      "text/plain": [
       "| 10        | 16       | 1.000000  | 39.040503    | 0.692066          | 0.691403            |"
      ]
     },
     "metadata": {},
     "output_type": "display_data"
    },
    {
     "data": {
      "text/html": [
       "<pre>| 11        | 17       | 1.000000  | 41.828452    | 0.702027          | 0.701512            |</pre>"
      ],
      "text/plain": [
       "| 11        | 17       | 1.000000  | 41.828452    | 0.702027          | 0.701512            |"
      ]
     },
     "metadata": {},
     "output_type": "display_data"
    },
    {
     "data": {
      "text/html": [
       "<pre>| 12        | 18       | 1.000000  | 44.699722    | 0.702306          | 0.702483            |</pre>"
      ],
      "text/plain": [
       "| 12        | 18       | 1.000000  | 44.699722    | 0.702306          | 0.702483            |"
      ]
     },
     "metadata": {},
     "output_type": "display_data"
    },
    {
     "data": {
      "text/html": [
       "<pre>| 13        | 19       | 1.000000  | 48.133680    | 0.681936          | 0.682220            |</pre>"
      ],
      "text/plain": [
       "| 13        | 19       | 1.000000  | 48.133680    | 0.681936          | 0.682220            |"
      ]
     },
     "metadata": {},
     "output_type": "display_data"
    },
    {
     "data": {
      "text/html": [
       "<pre>| 14        | 20       | 1.000000  | 50.897062    | 0.691787          | 0.691683            |</pre>"
      ],
      "text/plain": [
       "| 14        | 20       | 1.000000  | 50.897062    | 0.691787          | 0.691683            |"
      ]
     },
     "metadata": {},
     "output_type": "display_data"
    },
    {
     "data": {
      "text/html": [
       "<pre>| 15        | 21       | 1.000000  | 53.751233    | 0.697208          | 0.696987            |</pre>"
      ],
      "text/plain": [
       "| 15        | 21       | 1.000000  | 53.751233    | 0.697208          | 0.696987            |"
      ]
     },
     "metadata": {},
     "output_type": "display_data"
    },
    {
     "data": {
      "text/html": [
       "<pre>| 16        | 22       | 1.000000  | 56.558305    | 0.699084          | 0.698730            |</pre>"
      ],
      "text/plain": [
       "| 16        | 22       | 1.000000  | 56.558305    | 0.699084          | 0.698730            |"
      ]
     },
     "metadata": {},
     "output_type": "display_data"
    },
    {
     "data": {
      "text/html": [
       "<pre>| 17        | 23       | 1.000000  | 59.362365    | 0.698813          | 0.698467            |</pre>"
      ],
      "text/plain": [
       "| 17        | 23       | 1.000000  | 59.362365    | 0.698813          | 0.698467            |"
      ]
     },
     "metadata": {},
     "output_type": "display_data"
    },
    {
     "data": {
      "text/html": [
       "<pre>| 18        | 24       | 1.000000  | 62.190116    | 0.699085          | 0.698874            |</pre>"
      ],
      "text/plain": [
       "| 18        | 24       | 1.000000  | 62.190116    | 0.699085          | 0.698874            |"
      ]
     },
     "metadata": {},
     "output_type": "display_data"
    },
    {
     "data": {
      "text/html": [
       "<pre>| 19        | 25       | 1.000000  | 64.935146    | 0.696696          | 0.696496            |</pre>"
      ],
      "text/plain": [
       "| 19        | 25       | 1.000000  | 64.935146    | 0.696696          | 0.696496            |"
      ]
     },
     "metadata": {},
     "output_type": "display_data"
    },
    {
     "data": {
      "text/html": [
       "<pre>| 20        | 26       | 1.000000  | 67.686547    | 0.695652          | 0.695465            |</pre>"
      ],
      "text/plain": [
       "| 20        | 26       | 1.000000  | 67.686547    | 0.695652          | 0.695465            |"
      ]
     },
     "metadata": {},
     "output_type": "display_data"
    },
    {
     "data": {
      "text/html": [
       "<pre>| 21        | 27       | 1.000000  | 70.513015    | 0.691867          | 0.691571            |</pre>"
      ],
      "text/plain": [
       "| 21        | 27       | 1.000000  | 70.513015    | 0.691867          | 0.691571            |"
      ]
     },
     "metadata": {},
     "output_type": "display_data"
    },
    {
     "data": {
      "text/html": [
       "<pre>| 22        | 28       | 1.000000  | 73.340372    | 0.703348          | 0.702778            |</pre>"
      ],
      "text/plain": [
       "| 22        | 28       | 1.000000  | 73.340372    | 0.703348          | 0.702778            |"
      ]
     },
     "metadata": {},
     "output_type": "display_data"
    },
    {
     "data": {
      "text/html": [
       "<pre>| 23        | 29       | 1.000000  | 76.166723    | 0.695745          | 0.695444            |</pre>"
      ],
      "text/plain": [
       "| 23        | 29       | 1.000000  | 76.166723    | 0.695745          | 0.695444            |"
      ]
     },
     "metadata": {},
     "output_type": "display_data"
    },
    {
     "data": {
      "text/html": [
       "<pre>| 24        | 30       | 1.000000  | 78.925569    | 0.694499          | 0.694083            |</pre>"
      ],
      "text/plain": [
       "| 24        | 30       | 1.000000  | 78.925569    | 0.694499          | 0.694083            |"
      ]
     },
     "metadata": {},
     "output_type": "display_data"
    },
    {
     "data": {
      "text/html": [
       "<pre>| 25        | 31       | 1.000000  | 81.754835    | 0.697321          | 0.697040            |</pre>"
      ],
      "text/plain": [
       "| 25        | 31       | 1.000000  | 81.754835    | 0.697321          | 0.697040            |"
      ]
     },
     "metadata": {},
     "output_type": "display_data"
    },
    {
     "data": {
      "text/html": [
       "<pre>| 26        | 32       | 1.000000  | 84.638420    | 0.692668          | 0.692490            |</pre>"
      ],
      "text/plain": [
       "| 26        | 32       | 1.000000  | 84.638420    | 0.692668          | 0.692490            |"
      ]
     },
     "metadata": {},
     "output_type": "display_data"
    },
    {
     "data": {
      "text/html": [
       "<pre>| 27        | 33       | 1.000000  | 87.426804    | 0.697900          | 0.697692            |</pre>"
      ],
      "text/plain": [
       "| 27        | 33       | 1.000000  | 87.426804    | 0.697900          | 0.697692            |"
      ]
     },
     "metadata": {},
     "output_type": "display_data"
    },
    {
     "data": {
      "text/html": [
       "<pre>| 28        | 34       | 1.000000  | 90.415361    | 0.696622          | 0.696240            |</pre>"
      ],
      "text/plain": [
       "| 28        | 34       | 1.000000  | 90.415361    | 0.696622          | 0.696240            |"
      ]
     },
     "metadata": {},
     "output_type": "display_data"
    },
    {
     "data": {
      "text/html": [
       "<pre>| 29        | 35       | 1.000000  | 94.685546    | 0.696245          | 0.695756            |</pre>"
      ],
      "text/plain": [
       "| 29        | 35       | 1.000000  | 94.685546    | 0.696245          | 0.695756            |"
      ]
     },
     "metadata": {},
     "output_type": "display_data"
    },
    {
     "data": {
      "text/html": [
       "<pre>| 30        | 36       | 1.000000  | 98.358445    | 0.695462          | 0.694924            |</pre>"
      ],
      "text/plain": [
       "| 30        | 36       | 1.000000  | 98.358445    | 0.695462          | 0.694924            |"
      ]
     },
     "metadata": {},
     "output_type": "display_data"
    },
    {
     "data": {
      "text/html": [
       "<pre>| 31        | 37       | 1.000000  | 101.387321   | 0.694588          | 0.694188            |</pre>"
      ],
      "text/plain": [
       "| 31        | 37       | 1.000000  | 101.387321   | 0.694588          | 0.694188            |"
      ]
     },
     "metadata": {},
     "output_type": "display_data"
    },
    {
     "data": {
      "text/html": [
       "<pre>| 32        | 38       | 1.000000  | 104.611046   | 0.694593          | 0.694016            |</pre>"
      ],
      "text/plain": [
       "| 32        | 38       | 1.000000  | 104.611046   | 0.694593          | 0.694016            |"
      ]
     },
     "metadata": {},
     "output_type": "display_data"
    },
    {
     "data": {
      "text/html": [
       "<pre>| 33        | 39       | 1.000000  | 107.928264   | 0.696602          | 0.696226            |</pre>"
      ],
      "text/plain": [
       "| 33        | 39       | 1.000000  | 107.928264   | 0.696602          | 0.696226            |"
      ]
     },
     "metadata": {},
     "output_type": "display_data"
    },
    {
     "data": {
      "text/html": [
       "<pre>| 34        | 40       | 1.000000  | 111.344174   | 0.694423          | 0.694026            |</pre>"
      ],
      "text/plain": [
       "| 34        | 40       | 1.000000  | 111.344174   | 0.694423          | 0.694026            |"
      ]
     },
     "metadata": {},
     "output_type": "display_data"
    },
    {
     "data": {
      "text/html": [
       "<pre>| 35        | 41       | 1.000000  | 115.022337   | 0.699803          | 0.699214            |</pre>"
      ],
      "text/plain": [
       "| 35        | 41       | 1.000000  | 115.022337   | 0.699803          | 0.699214            |"
      ]
     },
     "metadata": {},
     "output_type": "display_data"
    },
    {
     "data": {
      "text/html": [
       "<pre>| 36        | 43       | 1.000000  | 120.973024   | 0.698573          | 0.698165            |</pre>"
      ],
      "text/plain": [
       "| 36        | 43       | 1.000000  | 120.973024   | 0.698573          | 0.698165            |"
      ]
     },
     "metadata": {},
     "output_type": "display_data"
    },
    {
     "data": {
      "text/html": [
       "<pre>| 37        | 44       | 1.000000  | 123.831940   | 0.696230          | 0.695935            |</pre>"
      ],
      "text/plain": [
       "| 37        | 44       | 1.000000  | 123.831940   | 0.696230          | 0.695935            |"
      ]
     },
     "metadata": {},
     "output_type": "display_data"
    },
    {
     "data": {
      "text/html": [
       "<pre>| 38        | 45       | 1.000000  | 126.677000   | 0.695178          | 0.694928            |</pre>"
      ],
      "text/plain": [
       "| 38        | 45       | 1.000000  | 126.677000   | 0.695178          | 0.694928            |"
      ]
     },
     "metadata": {},
     "output_type": "display_data"
    },
    {
     "data": {
      "text/html": [
       "<pre>| 39        | 47       | 1.000000  | 131.242704   | 0.695251          | 0.695054            |</pre>"
      ],
      "text/plain": [
       "| 39        | 47       | 1.000000  | 131.242704   | 0.695251          | 0.695054            |"
      ]
     },
     "metadata": {},
     "output_type": "display_data"
    },
    {
     "data": {
      "text/html": [
       "<pre>| 40        | 48       | 1.000000  | 134.032983   | 0.695100          | 0.694830            |</pre>"
      ],
      "text/plain": [
       "| 40        | 48       | 1.000000  | 134.032983   | 0.695100          | 0.694830            |"
      ]
     },
     "metadata": {},
     "output_type": "display_data"
    },
    {
     "data": {
      "text/html": [
       "<pre>| 41        | 49       | 1.000000  | 136.788669   | 0.695375          | 0.695023            |</pre>"
      ],
      "text/plain": [
       "| 41        | 49       | 1.000000  | 136.788669   | 0.695375          | 0.695023            |"
      ]
     },
     "metadata": {},
     "output_type": "display_data"
    },
    {
     "data": {
      "text/html": [
       "<pre>| 42        | 53       | 0.250000  | 144.716560   | 0.696120          | 0.695840            |</pre>"
      ],
      "text/plain": [
       "| 42        | 53       | 0.250000  | 144.716560   | 0.696120          | 0.695840            |"
      ]
     },
     "metadata": {},
     "output_type": "display_data"
    },
    {
     "data": {
      "text/html": [
       "<pre>| 43        | 54       | 0.250000  | 147.523381   | 0.691194          | 0.690568            |</pre>"
      ],
      "text/plain": [
       "| 43        | 54       | 0.250000  | 147.523381   | 0.691194          | 0.690568            |"
      ]
     },
     "metadata": {},
     "output_type": "display_data"
    },
    {
     "data": {
      "text/html": [
       "<pre>| 44        | 56       | 1.000000  | 152.086515   | 0.710177          | 0.709744            |</pre>"
      ],
      "text/plain": [
       "| 44        | 56       | 1.000000  | 152.086515   | 0.710177          | 0.709744            |"
      ]
     },
     "metadata": {},
     "output_type": "display_data"
    },
    {
     "data": {
      "text/html": [
       "<pre>| 45        | 57       | 1.000000  | 154.941377   | 0.689429          | 0.688863            |</pre>"
      ],
      "text/plain": [
       "| 45        | 57       | 1.000000  | 154.941377   | 0.689429          | 0.688863            |"
      ]
     },
     "metadata": {},
     "output_type": "display_data"
    },
    {
     "data": {
      "text/html": [
       "<pre>| 46        | 58       | 1.000000  | 157.741800   | 0.695250          | 0.694893            |</pre>"
      ],
      "text/plain": [
       "| 46        | 58       | 1.000000  | 157.741800   | 0.695250          | 0.694893            |"
      ]
     },
     "metadata": {},
     "output_type": "display_data"
    },
    {
     "data": {
      "text/html": [
       "<pre>| 47        | 59       | 1.000000  | 160.520803   | 0.696143          | 0.695598            |</pre>"
      ],
      "text/plain": [
       "| 47        | 59       | 1.000000  | 160.520803   | 0.696143          | 0.695598            |"
      ]
     },
     "metadata": {},
     "output_type": "display_data"
    },
    {
     "data": {
      "text/html": [
       "<pre>| 48        | 60       | 1.000000  | 163.353283   | 0.695760          | 0.695286            |</pre>"
      ],
      "text/plain": [
       "| 48        | 60       | 1.000000  | 163.353283   | 0.695760          | 0.695286            |"
      ]
     },
     "metadata": {},
     "output_type": "display_data"
    },
    {
     "data": {
      "text/html": [
       "<pre>| 49        | 61       | 1.000000  | 166.169994   | 0.700062          | 0.699446            |</pre>"
      ],
      "text/plain": [
       "| 49        | 61       | 1.000000  | 166.169994   | 0.700062          | 0.699446            |"
      ]
     },
     "metadata": {},
     "output_type": "display_data"
    },
    {
     "data": {
      "text/html": [
       "<pre>| 50        | 62       | 1.000000  | 168.972327   | 0.696449          | 0.696040            |</pre>"
      ],
      "text/plain": [
       "| 50        | 62       | 1.000000  | 168.972327   | 0.696449          | 0.696040            |"
      ]
     },
     "metadata": {},
     "output_type": "display_data"
    },
    {
     "data": {
      "text/html": [
       "<pre>| 51        | 63       | 1.000000  | 171.696239   | 0.694735          | 0.694489            |</pre>"
      ],
      "text/plain": [
       "| 51        | 63       | 1.000000  | 171.696239   | 0.694735          | 0.694489            |"
      ]
     },
     "metadata": {},
     "output_type": "display_data"
    },
    {
     "data": {
      "text/html": [
       "<pre>| 52        | 64       | 1.000000  | 174.548572   | 0.695190          | 0.694896            |</pre>"
      ],
      "text/plain": [
       "| 52        | 64       | 1.000000  | 174.548572   | 0.695190          | 0.694896            |"
      ]
     },
     "metadata": {},
     "output_type": "display_data"
    },
    {
     "data": {
      "text/html": [
       "<pre>| 53        | 65       | 1.000000  | 177.382533   | 0.696267          | 0.696092            |</pre>"
      ],
      "text/plain": [
       "| 53        | 65       | 1.000000  | 177.382533   | 0.696267          | 0.696092            |"
      ]
     },
     "metadata": {},
     "output_type": "display_data"
    },
    {
     "data": {
      "text/html": [
       "<pre>| 54        | 66       | 1.000000  | 180.213219   | 0.698015          | 0.697639            |</pre>"
      ],
      "text/plain": [
       "| 54        | 66       | 1.000000  | 180.213219   | 0.698015          | 0.697639            |"
      ]
     },
     "metadata": {},
     "output_type": "display_data"
    },
    {
     "data": {
      "text/html": [
       "<pre>| 55        | 68       | 1.000000  | 184.687536   | 0.698364          | 0.697916            |</pre>"
      ],
      "text/plain": [
       "| 55        | 68       | 1.000000  | 184.687536   | 0.698364          | 0.697916            |"
      ]
     },
     "metadata": {},
     "output_type": "display_data"
    },
    {
     "data": {
      "text/html": [
       "<pre>| 56        | 69       | 1.000000  | 187.505560   | 0.694903          | 0.694612            |</pre>"
      ],
      "text/plain": [
       "| 56        | 69       | 1.000000  | 187.505560   | 0.694903          | 0.694612            |"
      ]
     },
     "metadata": {},
     "output_type": "display_data"
    },
    {
     "data": {
      "text/html": [
       "<pre>| 57        | 70       | 1.000000  | 190.323263   | 0.693157          | 0.692918            |</pre>"
      ],
      "text/plain": [
       "| 57        | 70       | 1.000000  | 190.323263   | 0.693157          | 0.692918            |"
      ]
     },
     "metadata": {},
     "output_type": "display_data"
    },
    {
     "data": {
      "text/html": [
       "<pre>| 58        | 71       | 1.000000  | 193.301249   | 0.698782          | 0.698393            |</pre>"
      ],
      "text/plain": [
       "| 58        | 71       | 1.000000  | 193.301249   | 0.698782          | 0.698393            |"
      ]
     },
     "metadata": {},
     "output_type": "display_data"
    },
    {
     "data": {
      "text/html": [
       "<pre>| 59        | 74       | 0.500000  | 201.074561   | 0.699691          | 0.699365            |</pre>"
      ],
      "text/plain": [
       "| 59        | 74       | 0.500000  | 201.074561   | 0.699691          | 0.699365            |"
      ]
     },
     "metadata": {},
     "output_type": "display_data"
    },
    {
     "data": {
      "text/html": [
       "<pre>| 60        | 75       | 0.500000  | 204.158908   | 0.697331          | 0.696955            |</pre>"
      ],
      "text/plain": [
       "| 60        | 75       | 0.500000  | 204.158908   | 0.697331          | 0.696955            |"
      ]
     },
     "metadata": {},
     "output_type": "display_data"
    },
    {
     "data": {
      "text/html": [
       "<pre>| 61        | 76       | 0.500000  | 207.241619   | 0.696203          | 0.695843            |</pre>"
      ],
      "text/plain": [
       "| 61        | 76       | 0.500000  | 207.241619   | 0.696203          | 0.695843            |"
      ]
     },
     "metadata": {},
     "output_type": "display_data"
    },
    {
     "data": {
      "text/html": [
       "<pre>| 62        | 77       | 0.500000  | 210.174729   | 0.695145          | 0.694886            |</pre>"
      ],
      "text/plain": [
       "| 62        | 77       | 0.500000  | 210.174729   | 0.695145          | 0.694886            |"
      ]
     },
     "metadata": {},
     "output_type": "display_data"
    },
    {
     "data": {
      "text/html": [
       "<pre>| 63        | 78       | 0.500000  | 212.988704   | 0.695386          | 0.695100            |</pre>"
      ],
      "text/plain": [
       "| 63        | 78       | 0.500000  | 212.988704   | 0.695386          | 0.695100            |"
      ]
     },
     "metadata": {},
     "output_type": "display_data"
    },
    {
     "data": {
      "text/html": [
       "<pre>| 64        | 79       | 0.500000  | 215.855070   | 0.695653          | 0.695342            |</pre>"
      ],
      "text/plain": [
       "| 64        | 79       | 0.500000  | 215.855070   | 0.695653          | 0.695342            |"
      ]
     },
     "metadata": {},
     "output_type": "display_data"
    },
    {
     "data": {
      "text/html": [
       "<pre>| 65        | 80       | 0.500000  | 218.708851   | 0.696645          | 0.696366            |</pre>"
      ],
      "text/plain": [
       "| 65        | 80       | 0.500000  | 218.708851   | 0.696645          | 0.696366            |"
      ]
     },
     "metadata": {},
     "output_type": "display_data"
    },
    {
     "data": {
      "text/html": [
       "<pre>| 66        | 81       | 0.500000  | 221.545998   | 0.695898          | 0.695552            |</pre>"
      ],
      "text/plain": [
       "| 66        | 81       | 0.500000  | 221.545998   | 0.695898          | 0.695552            |"
      ]
     },
     "metadata": {},
     "output_type": "display_data"
    },
    {
     "data": {
      "text/html": [
       "<pre>| 67        | 82       | 0.500000  | 224.399945   | 0.695771          | 0.695535            |</pre>"
      ],
      "text/plain": [
       "| 67        | 82       | 0.500000  | 224.399945   | 0.695771          | 0.695535            |"
      ]
     },
     "metadata": {},
     "output_type": "display_data"
    },
    {
     "data": {
      "text/html": [
       "<pre>| 68        | 83       | 0.500000  | 228.064689   | 0.695222          | 0.694995            |</pre>"
      ],
      "text/plain": [
       "| 68        | 83       | 0.500000  | 228.064689   | 0.695222          | 0.694995            |"
      ]
     },
     "metadata": {},
     "output_type": "display_data"
    },
    {
     "data": {
      "text/html": [
       "<pre>| 69        | 84       | 0.500000  | 231.248021   | 0.695483          | 0.695230            |</pre>"
      ],
      "text/plain": [
       "| 69        | 84       | 0.500000  | 231.248021   | 0.695483          | 0.695230            |"
      ]
     },
     "metadata": {},
     "output_type": "display_data"
    },
    {
     "data": {
      "text/html": [
       "<pre>| 70        | 85       | 0.500000  | 234.074820   | 0.696050          | 0.695717            |</pre>"
      ],
      "text/plain": [
       "| 70        | 85       | 0.500000  | 234.074820   | 0.696050          | 0.695717            |"
      ]
     },
     "metadata": {},
     "output_type": "display_data"
    },
    {
     "data": {
      "text/html": [
       "<pre>| 71        | 87       | 1.000000  | 238.867663   | 0.696287          | 0.695966            |</pre>"
      ],
      "text/plain": [
       "| 71        | 87       | 1.000000  | 238.867663   | 0.696287          | 0.695966            |"
      ]
     },
     "metadata": {},
     "output_type": "display_data"
    },
    {
     "data": {
      "text/html": [
       "<pre>| 72        | 88       | 1.000000  | 242.087960   | 0.695607          | 0.695408            |</pre>"
      ],
      "text/plain": [
       "| 72        | 88       | 1.000000  | 242.087960   | 0.695607          | 0.695408            |"
      ]
     },
     "metadata": {},
     "output_type": "display_data"
    },
    {
     "data": {
      "text/html": [
       "<pre>| 73        | 89       | 1.000000  | 245.477158   | 0.696799          | 0.696492            |</pre>"
      ],
      "text/plain": [
       "| 73        | 89       | 1.000000  | 245.477158   | 0.696799          | 0.696492            |"
      ]
     },
     "metadata": {},
     "output_type": "display_data"
    },
    {
     "data": {
      "text/html": [
       "<pre>| 74        | 91       | 1.000000  | 250.493810   | 0.696038          | 0.695850            |</pre>"
      ],
      "text/plain": [
       "| 74        | 91       | 1.000000  | 250.493810   | 0.696038          | 0.695850            |"
      ]
     },
     "metadata": {},
     "output_type": "display_data"
    },
    {
     "data": {
      "text/html": [
       "<pre>| 75        | 92       | 1.000000  | 254.541309   | 0.695846          | 0.695735            |</pre>"
      ],
      "text/plain": [
       "| 75        | 92       | 1.000000  | 254.541309   | 0.695846          | 0.695735            |"
      ]
     },
     "metadata": {},
     "output_type": "display_data"
    },
    {
     "data": {
      "text/html": [
       "<pre>| 76        | 93       | 1.000000  | 257.376835   | 0.694198          | 0.693848            |</pre>"
      ],
      "text/plain": [
       "| 76        | 93       | 1.000000  | 257.376835   | 0.694198          | 0.693848            |"
      ]
     },
     "metadata": {},
     "output_type": "display_data"
    },
    {
     "data": {
      "text/html": [
       "<pre>| 77        | 94       | 1.000000  | 261.036022   | 0.695894          | 0.695524            |</pre>"
      ],
      "text/plain": [
       "| 77        | 94       | 1.000000  | 261.036022   | 0.695894          | 0.695524            |"
      ]
     },
     "metadata": {},
     "output_type": "display_data"
    },
    {
     "data": {
      "text/html": [
       "<pre>| 78        | 95       | 1.000000  | 263.965481   | 0.696395          | 0.695903            |</pre>"
      ],
      "text/plain": [
       "| 78        | 95       | 1.000000  | 263.965481   | 0.696395          | 0.695903            |"
      ]
     },
     "metadata": {},
     "output_type": "display_data"
    },
    {
     "data": {
      "text/html": [
       "<pre>| 79        | 96       | 1.000000  | 266.851154   | 0.694177          | 0.693869            |</pre>"
      ],
      "text/plain": [
       "| 79        | 96       | 1.000000  | 266.851154   | 0.694177          | 0.693869            |"
      ]
     },
     "metadata": {},
     "output_type": "display_data"
    },
    {
     "data": {
      "text/html": [
       "<pre>| 80        | 97       | 1.000000  | 270.625678   | 0.694913          | 0.694542            |</pre>"
      ],
      "text/plain": [
       "| 80        | 97       | 1.000000  | 270.625678   | 0.694913          | 0.694542            |"
      ]
     },
     "metadata": {},
     "output_type": "display_data"
    },
    {
     "data": {
      "text/html": [
       "<pre>| 81        | 98       | 1.000000  | 273.562679   | 0.695154          | 0.694675            |</pre>"
      ],
      "text/plain": [
       "| 81        | 98       | 1.000000  | 273.562679   | 0.695154          | 0.694675            |"
      ]
     },
     "metadata": {},
     "output_type": "display_data"
    },
    {
     "data": {
      "text/html": [
       "<pre>| 82        | 99       | 1.000000  | 277.201933   | 0.697486          | 0.696941            |</pre>"
      ],
      "text/plain": [
       "| 82        | 99       | 1.000000  | 277.201933   | 0.697486          | 0.696941            |"
      ]
     },
     "metadata": {},
     "output_type": "display_data"
    },
    {
     "data": {
      "text/html": [
       "<pre>| 83        | 100      | 1.000000  | 280.065014   | 0.695644          | 0.695128            |</pre>"
      ],
      "text/plain": [
       "| 83        | 100      | 1.000000  | 280.065014   | 0.695644          | 0.695128            |"
      ]
     },
     "metadata": {},
     "output_type": "display_data"
    },
    {
     "data": {
      "text/html": [
       "<pre>| 84        | 101      | 1.000000  | 282.898155   | 0.694959          | 0.694518            |</pre>"
      ],
      "text/plain": [
       "| 84        | 101      | 1.000000  | 282.898155   | 0.694959          | 0.694518            |"
      ]
     },
     "metadata": {},
     "output_type": "display_data"
    },
    {
     "data": {
      "text/html": [
       "<pre>| 85        | 102      | 1.000000  | 287.235943   | 0.695026          | 0.694658            |</pre>"
      ],
      "text/plain": [
       "| 85        | 102      | 1.000000  | 287.235943   | 0.695026          | 0.694658            |"
      ]
     },
     "metadata": {},
     "output_type": "display_data"
    },
    {
     "data": {
      "text/html": [
       "<pre>| 86        | 103      | 1.000000  | 291.121510   | 0.694762          | 0.694440            |</pre>"
      ],
      "text/plain": [
       "| 86        | 103      | 1.000000  | 291.121510   | 0.694762          | 0.694440            |"
      ]
     },
     "metadata": {},
     "output_type": "display_data"
    },
    {
     "data": {
      "text/html": [
       "<pre>| 87        | 104      | 1.000000  | 294.073163   | 0.695602          | 0.695265            |</pre>"
      ],
      "text/plain": [
       "| 87        | 104      | 1.000000  | 294.073163   | 0.695602          | 0.695265            |"
      ]
     },
     "metadata": {},
     "output_type": "display_data"
    },
    {
     "data": {
      "text/html": [
       "<pre>| 88        | 105      | 1.000000  | 297.475234   | 0.695119          | 0.694795            |</pre>"
      ],
      "text/plain": [
       "| 88        | 105      | 1.000000  | 297.475234   | 0.695119          | 0.694795            |"
      ]
     },
     "metadata": {},
     "output_type": "display_data"
    },
    {
     "data": {
      "text/html": [
       "<pre>| 89        | 106      | 1.000000  | 300.523429   | 0.694911          | 0.694640            |</pre>"
      ],
      "text/plain": [
       "| 89        | 106      | 1.000000  | 300.523429   | 0.694911          | 0.694640            |"
      ]
     },
     "metadata": {},
     "output_type": "display_data"
    },
    {
     "data": {
      "text/html": [
       "<pre>| 90        | 107      | 1.000000  | 304.204773   | 0.694689          | 0.694423            |</pre>"
      ],
      "text/plain": [
       "| 90        | 107      | 1.000000  | 304.204773   | 0.694689          | 0.694423            |"
      ]
     },
     "metadata": {},
     "output_type": "display_data"
    },
    {
     "data": {
      "text/html": [
       "<pre>| 91        | 108      | 1.000000  | 307.074954   | 0.697793          | 0.697506            |</pre>"
      ],
      "text/plain": [
       "| 91        | 108      | 1.000000  | 307.074954   | 0.697793          | 0.697506            |"
      ]
     },
     "metadata": {},
     "output_type": "display_data"
    },
    {
     "data": {
      "text/html": [
       "<pre>| 92        | 109      | 1.000000  | 309.913868   | 0.695215          | 0.694917            |</pre>"
      ],
      "text/plain": [
       "| 92        | 109      | 1.000000  | 309.913868   | 0.695215          | 0.694917            |"
      ]
     },
     "metadata": {},
     "output_type": "display_data"
    },
    {
     "data": {
      "text/html": [
       "<pre>| 93        | 110      | 1.000000  | 313.606468   | 0.694771          | 0.694472            |</pre>"
      ],
      "text/plain": [
       "| 93        | 110      | 1.000000  | 313.606468   | 0.694771          | 0.694472            |"
      ]
     },
     "metadata": {},
     "output_type": "display_data"
    },
    {
     "data": {
      "text/html": [
       "<pre>| 94        | 111      | 1.000000  | 316.424918   | 0.694946          | 0.694637            |</pre>"
      ],
      "text/plain": [
       "| 94        | 111      | 1.000000  | 316.424918   | 0.694946          | 0.694637            |"
      ]
     },
     "metadata": {},
     "output_type": "display_data"
    },
    {
     "data": {
      "text/html": [
       "<pre>| 95        | 112      | 1.000000  | 319.878377   | 0.694912          | 0.694567            |</pre>"
      ],
      "text/plain": [
       "| 95        | 112      | 1.000000  | 319.878377   | 0.694912          | 0.694567            |"
      ]
     },
     "metadata": {},
     "output_type": "display_data"
    },
    {
     "data": {
      "text/html": [
       "<pre>| 96        | 113      | 1.000000  | 323.679868   | 0.695954          | 0.695591            |</pre>"
      ],
      "text/plain": [
       "| 96        | 113      | 1.000000  | 323.679868   | 0.695954          | 0.695591            |"
      ]
     },
     "metadata": {},
     "output_type": "display_data"
    },
    {
     "data": {
      "text/html": [
       "<pre>| 97        | 114      | 1.000000  | 326.879035   | 0.694916          | 0.694668            |</pre>"
      ],
      "text/plain": [
       "| 97        | 114      | 1.000000  | 326.879035   | 0.694916          | 0.694668            |"
      ]
     },
     "metadata": {},
     "output_type": "display_data"
    },
    {
     "data": {
      "text/html": [
       "<pre>| 98        | 115      | 1.000000  | 330.148426   | 0.695106          | 0.694837            |</pre>"
      ],
      "text/plain": [
       "| 98        | 115      | 1.000000  | 330.148426   | 0.695106          | 0.694837            |"
      ]
     },
     "metadata": {},
     "output_type": "display_data"
    },
    {
     "data": {
      "text/html": [
       "<pre>| 99        | 116      | 1.000000  | 333.718495   | 0.695377          | 0.695054            |</pre>"
      ],
      "text/plain": [
       "| 99        | 116      | 1.000000  | 333.718495   | 0.695377          | 0.695054            |"
      ]
     },
     "metadata": {},
     "output_type": "display_data"
    },
    {
     "data": {
      "text/html": [
       "<pre>| 100       | 117      | 1.000000  | 337.310215   | 0.695235          | 0.694889            |</pre>"
      ],
      "text/plain": [
       "| 100       | 117      | 1.000000  | 337.310215   | 0.695235          | 0.694889            |"
      ]
     },
     "metadata": {},
     "output_type": "display_data"
    },
    {
     "data": {
      "text/html": [
       "<pre>+-----------+----------+-----------+--------------+-------------------+---------------------+</pre>"
      ],
      "text/plain": [
       "+-----------+----------+-----------+--------------+-------------------+---------------------+"
      ]
     },
     "metadata": {},
     "output_type": "display_data"
    },
    {
     "data": {
      "text/html": [
       "<pre>TERMINATED: Iteration limit reached.</pre>"
      ],
      "text/plain": [
       "TERMINATED: Iteration limit reached."
      ]
     },
     "metadata": {},
     "output_type": "display_data"
    },
    {
     "data": {
      "text/html": [
       "<pre>This model may not be optimal. To improve it, consider increasing `max_iterations`.</pre>"
      ],
      "text/plain": [
       "This model may not be optimal. To improve it, consider increasing `max_iterations`."
      ]
     },
     "metadata": {},
     "output_type": "display_data"
    }
   ],
   "source": [
    "gbm_baseline = gl.logistic_classifier.create(trainset, target='click', features=features,# l2_penalty=0.01, \n",
    "                                             validation_set=validationset, max_iterations=100, class_weights='auto')\n"
   ]
  },
  {
   "cell_type": "markdown",
   "metadata": {},
   "source": [
    "## Boosted Tree Classifier (GBM)"
   ]
  },
  {
   "cell_type": "code",
   "execution_count": 117,
   "metadata": {
    "collapsed": false
   },
   "outputs": [
    {
     "name": "stderr",
     "output_type": "stream",
     "text": [
      "2016-04-21 00:39:11,306 [INFO] graphlab.deploy.job, 22: Validating job.\n",
      "2016-04-21 00:39:11,765 [INFO] graphlab.deploy.map_job, 186: Validation complete. Job: 'Model-Parameter-Search-Apr-21-2016-00-39-1100000' ready for execution\n",
      "2016-04-21 00:39:17,787 [INFO] graphlab.deploy.map_job, 192: Job: 'Model-Parameter-Search-Apr-21-2016-00-39-1100000' scheduled.\n",
      "2016-04-21 00:50:18,651 [INFO] graphlab.deploy.job, 22: Validating job.\n",
      "2016-04-21 00:50:18,821 [INFO] graphlab.deploy.map_job, 220: A job with name 'Model-Parameter-Search-Apr-21-2016-00-39-1100000' already exists. Renaming the job to 'Model-Parameter-Search-Apr-21-2016-00-39-1100000-ab55a'.\n",
      "2016-04-21 00:50:18,848 [INFO] graphlab.deploy.map_job, 186: Validation complete. Job: 'Model-Parameter-Search-Apr-21-2016-00-39-1100000-ab55a' ready for execution\n",
      "2016-04-21 00:50:25,410 [INFO] graphlab.deploy.map_job, 192: Job: 'Model-Parameter-Search-Apr-21-2016-00-39-1100000-ab55a' scheduled.\n"
     ]
    },
    {
     "name": "stdout",
     "output_type": "stream",
     "text": [
      "+----------+------------------+-----------+----------------+------------------+\n",
      "| model_id | column_subsample | max_depth | max_iterations | min_child_weight |\n",
      "+----------+------------------+-----------+----------------+------------------+\n",
      "|    9     |       1.0        |     8     |       10       |        1         |\n",
      "|    8     |       0.8        |     8     |       10       |        16        |\n",
      "|    1     |       1.0        |     6     |      100       |        16        |\n",
      "|    0     |       0.9        |     4     |      100       |        16        |\n",
      "|    3     |       1.0        |     6     |      100       |        8         |\n",
      "|    2     |       1.0        |     6     |       10       |        2         |\n",
      "|    5     |       0.9        |     6     |      100       |        2         |\n",
      "|    4     |       0.9        |     6     |       50       |        16        |\n",
      "|    7     |       0.9        |     6     |       10       |        16        |\n",
      "|    6     |       0.9        |     4     |       50       |        1         |\n",
      "+----------+------------------+-----------+----------------+------------------+\n",
      "+--------------------+---------------+-----------+--------+-------------------+\n",
      "| min_loss_reduction | row_subsample | step_size | target | training_accuracy |\n",
      "+--------------------+---------------+-----------+--------+-------------------+\n",
      "|         0          |      0.9      |    0.5    | click  |   0.999271392822  |\n",
      "|         10         |      1.0      |   0.0001  | click  |   0.999273359776  |\n",
      "|         0          |      1.0      |   0.0001  | click  |   0.999280750751  |\n",
      "|         1          |      1.0      |    0.25   | click  |   0.999274432659  |\n",
      "|         10         |      0.9      |   0.001   | click  |   0.999273777008  |\n",
      "|         0          |      0.9      |   0.001   | click  |   0.999274253845  |\n",
      "|         0          |      0.9      |    0.1    | click  |   0.999271631241  |\n",
      "|         1          |      0.9      |   0.001   | click  |   0.999269247055  |\n",
      "|         10         |      0.9      |    0.25   | click  |   0.99926763773   |\n",
      "|         10         |      1.0      |   1e-05   | click  |   0.999273359776  |\n",
      "+--------------------+---------------+-----------+--------+-------------------+\n",
      "+---------------------+\n",
      "| validation_accuracy |\n",
      "+---------------------+\n",
      "|    0.999273913501   |\n",
      "|    0.999273913501   |\n",
      "|    0.999273913501   |\n",
      "|    0.999273913501   |\n",
      "|    0.999273913501   |\n",
      "|    0.999273913501   |\n",
      "|    0.999273913501   |\n",
      "|    0.999273913501   |\n",
      "|    0.999273913501   |\n",
      "|    0.999273913501   |\n",
      "+---------------------+\n",
      "[10 rows x 11 columns]\n",
      "\n"
     ]
    }
   ],
   "source": [
    "params = {'target': 'click'}#, 'features':features, 'class_weights': 'auto'}\n",
    "bparam_search = gl.toolkits.model_parameter_search.create((trainset, validationset),\n",
    "                                    gl.boosted_trees_classifier.create,params)\n",
    "ps_results = bparam_search.get_results()\n",
    "print ps_results"
   ]
  },
  {
   "cell_type": "code",
   "execution_count": 58,
   "metadata": {
    "collapsed": false
   },
   "outputs": [
    {
     "data": {
      "text/html": [
       "<pre>Boosted trees classifier:</pre>"
      ],
      "text/plain": [
       "Boosted trees classifier:"
      ]
     },
     "metadata": {},
     "output_type": "display_data"
    },
    {
     "data": {
      "text/html": [
       "<pre>--------------------------------------------------------</pre>"
      ],
      "text/plain": [
       "--------------------------------------------------------"
      ]
     },
     "metadata": {},
     "output_type": "display_data"
    },
    {
     "data": {
      "text/html": [
       "<pre>Number of examples          : 2562712</pre>"
      ],
      "text/plain": [
       "Number of examples          : 2562712"
      ]
     },
     "metadata": {},
     "output_type": "display_data"
    },
    {
     "data": {
      "text/html": [
       "<pre>Number of classes           : 2</pre>"
      ],
      "text/plain": [
       "Number of classes           : 2"
      ]
     },
     "metadata": {},
     "output_type": "display_data"
    },
    {
     "data": {
      "text/html": [
       "<pre>Number of feature columns   : 3</pre>"
      ],
      "text/plain": [
       "Number of feature columns   : 3"
      ]
     },
     "metadata": {},
     "output_type": "display_data"
    },
    {
     "data": {
      "text/html": [
       "<pre>Number of unpacked features : 497</pre>"
      ],
      "text/plain": [
       "Number of unpacked features : 497"
      ]
     },
     "metadata": {},
     "output_type": "display_data"
    },
    {
     "data": {
      "text/html": [
       "<pre>+-----------+--------------+-------------------+-------------------+---------------------+---------------------+</pre>"
      ],
      "text/plain": [
       "+-----------+--------------+-------------------+-------------------+---------------------+---------------------+"
      ]
     },
     "metadata": {},
     "output_type": "display_data"
    },
    {
     "data": {
      "text/html": [
       "<pre>| Iteration | Elapsed Time | Training-accuracy | Training-log_loss | Validation-accuracy | Validation-log_loss |</pre>"
      ],
      "text/plain": [
       "| Iteration | Elapsed Time | Training-accuracy | Training-log_loss | Validation-accuracy | Validation-log_loss |"
      ]
     },
     "metadata": {},
     "output_type": "display_data"
    },
    {
     "data": {
      "text/html": [
       "<pre>+-----------+--------------+-------------------+-------------------+---------------------+---------------------+</pre>"
      ],
      "text/plain": [
       "+-----------+--------------+-------------------+-------------------+---------------------+---------------------+"
      ]
     },
     "metadata": {},
     "output_type": "display_data"
    },
    {
     "data": {
      "text/html": [
       "<pre>| 1         | 2.551353     | 0.663459          | 0.620368          | 0.665135            | 0.621457            |</pre>"
      ],
      "text/plain": [
       "| 1         | 2.551353     | 0.663459          | 0.620368          | 0.665135            | 0.621457            |"
      ]
     },
     "metadata": {},
     "output_type": "display_data"
    },
    {
     "data": {
      "text/html": [
       "<pre>| 2         | 5.347304     | 0.677698          | 0.591011          | 0.667800            | 0.596699            |</pre>"
      ],
      "text/plain": [
       "| 2         | 5.347304     | 0.677698          | 0.591011          | 0.667800            | 0.596699            |"
      ]
     },
     "metadata": {},
     "output_type": "display_data"
    },
    {
     "data": {
      "text/html": [
       "<pre>| 3         | 7.975205     | 0.681721          | 0.571118          | 0.667958            | 0.580250            |</pre>"
      ],
      "text/plain": [
       "| 3         | 7.975205     | 0.681721          | 0.571118          | 0.667958            | 0.580250            |"
      ]
     },
     "metadata": {},
     "output_type": "display_data"
    },
    {
     "data": {
      "text/html": [
       "<pre>| 4         | 10.409727    | 0.690230          | 0.561052          | 0.676886            | 0.574336            |</pre>"
      ],
      "text/plain": [
       "| 4         | 10.409727    | 0.690230          | 0.561052          | 0.676886            | 0.574336            |"
      ]
     },
     "metadata": {},
     "output_type": "display_data"
    },
    {
     "data": {
      "text/html": [
       "<pre>| 5         | 12.809151    | 0.694796          | 0.555297          | 0.679643            | 0.568721            |</pre>"
      ],
      "text/plain": [
       "| 5         | 12.809151    | 0.694796          | 0.555297          | 0.679643            | 0.568721            |"
      ]
     },
     "metadata": {},
     "output_type": "display_data"
    },
    {
     "data": {
      "text/html": [
       "<pre>| 6         | 15.237117    | 0.698195          | 0.550646          | 0.682955            | 0.563021            |</pre>"
      ],
      "text/plain": [
       "| 6         | 15.237117    | 0.698195          | 0.550646          | 0.682955            | 0.563021            |"
      ]
     },
     "metadata": {},
     "output_type": "display_data"
    },
    {
     "data": {
      "text/html": [
       "<pre>| 7         | 17.635925    | 0.706398          | 0.541109          | 0.691495            | 0.562515            |</pre>"
      ],
      "text/plain": [
       "| 7         | 17.635925    | 0.706398          | 0.541109          | 0.691495            | 0.562515            |"
      ]
     },
     "metadata": {},
     "output_type": "display_data"
    },
    {
     "data": {
      "text/html": [
       "<pre>| 8         | 20.002258    | 0.706466          | 0.538992          | 0.691301            | 0.559725            |</pre>"
      ],
      "text/plain": [
       "| 8         | 20.002258    | 0.706466          | 0.538992          | 0.691301            | 0.559725            |"
      ]
     },
     "metadata": {},
     "output_type": "display_data"
    },
    {
     "data": {
      "text/html": [
       "<pre>| 9         | 22.467023    | 0.714420          | 0.533967          | 0.685899            | 0.559821            |</pre>"
      ],
      "text/plain": [
       "| 9         | 22.467023    | 0.714420          | 0.533967          | 0.685899            | 0.559821            |"
      ]
     },
     "metadata": {},
     "output_type": "display_data"
    },
    {
     "data": {
      "text/html": [
       "<pre>| 10        | 25.061161    | 0.717392          | 0.528627          | 0.690566            | 0.559366            |</pre>"
      ],
      "text/plain": [
       "| 10        | 25.061161    | 0.717392          | 0.528627          | 0.690566            | 0.559366            |"
      ]
     },
     "metadata": {},
     "output_type": "display_data"
    },
    {
     "data": {
      "text/html": [
       "<pre>+-----------+--------------+-------------------+-------------------+---------------------+---------------------+</pre>"
      ],
      "text/plain": [
       "+-----------+--------------+-------------------+-------------------+---------------------+---------------------+"
      ]
     },
     "metadata": {},
     "output_type": "display_data"
    }
   ],
   "source": [
    "gbm_baseline = gl.boosted_trees_classifier.create(trainset, target='click', features=features,\n",
    "                                                  validation_set=validationset, max_depth=8, step_size=0.5,\n",
    "                                                  max_iterations=10, min_child_weight=1, column_subsample=1,\n",
    "                                                  row_subsample=0.9,\n",
    "                                                  #early_stopping_rounds=5)#, \n",
    "                                                   class_weights='auto')"
   ]
  },
  {
   "cell_type": "markdown",
   "metadata": {},
   "source": [
    "## SVM"
   ]
  },
  {
   "cell_type": "code",
   "execution_count": 34,
   "metadata": {
    "collapsed": false
   },
   "outputs": [
    {
     "name": "stderr",
     "output_type": "stream",
     "text": [
      "2016-04-21 12:21:24,298 [INFO] graphlab.deploy.job, 22: Validating job.\n",
      "2016-04-21 12:21:24,774 [INFO] graphlab.deploy.map_job, 186: Validation complete. Job: 'Model-Parameter-Search-Apr-21-2016-12-21-2400000' ready for execution\n",
      "2016-04-21 12:21:32,324 [INFO] graphlab.deploy.map_job, 192: Job: 'Model-Parameter-Search-Apr-21-2016-12-21-2400000' scheduled.\n",
      "2016-04-21 12:24:08,500 [INFO] graphlab.deploy.job, 22: Validating job.\n",
      "2016-04-21 12:24:08,724 [INFO] graphlab.deploy.map_job, 220: A job with name 'Model-Parameter-Search-Apr-21-2016-12-21-2400000' already exists. Renaming the job to 'Model-Parameter-Search-Apr-21-2016-12-21-2400000-58e9e'.\n",
      "2016-04-21 12:24:08,732 [INFO] graphlab.deploy.map_job, 186: Validation complete. Job: 'Model-Parameter-Search-Apr-21-2016-12-21-2400000-58e9e' ready for execution\n",
      "2016-04-21 12:24:16,156 [INFO] graphlab.deploy.map_job, 192: Job: 'Model-Parameter-Search-Apr-21-2016-12-21-2400000-58e9e' scheduled.\n"
     ]
    },
    {
     "name": "stdout",
     "output_type": "stream",
     "text": [
      "+----------+---------+--------+-------------------+---------------------+\n",
      "| model_id | penalty | target | training_accuracy | validation_accuracy |\n",
      "+----------+---------+--------+-------------------+---------------------+\n",
      "|    9     |   1.0   | click  |   0.999416633629  |    0.99883545547    |\n",
      "|    8     |   10.0  | click  |   0.999401805587  |    0.998817917149   |\n",
      "|    1     |  0.001  | click  |   0.999490383625  |    0.999003823354   |\n",
      "|    0     |   0.01  | click  |   0.999410000031  |    0.998856501456   |\n",
      "|    3     |  0.001  | click  |   0.999480628334  |    0.998961731383   |\n",
      "|    2     |   1.0   | click  |   0.999423657438  |    0.99888456277    |\n",
      "|    5     |   1.0   | click  |   0.999397123048  |    0.998789855835   |\n",
      "|    4     |   0.1   | click  |   0.999416243417  |    0.998842470799   |\n",
      "|    7     |   0.1   | click  |   0.999425218284  |    0.998898593427   |\n",
      "|    6     |   10.0  | click  |   0.999415853206  |    0.99886000912    |\n",
      "+----------+---------+--------+-------------------+---------------------+\n",
      "[10 rows x 5 columns]\n",
      "\n"
     ]
    }
   ],
   "source": [
    "params = {'target': 'click'}#, 'features':features, 'class_weights': 'auto'}\n",
    "param_search = gl.toolkits.model_parameter_search.create((trainset, validationset),\n",
    "                                    gl.svm_classifier.create,params)\n",
    "ps_results = param_search.get_results()\n",
    "print ps_results"
   ]
  },
  {
   "cell_type": "code",
   "execution_count": 62,
   "metadata": {
    "collapsed": false
   },
   "outputs": [
    {
     "data": {
      "text/html": [
       "<pre>SVM:</pre>"
      ],
      "text/plain": [
       "SVM:"
      ]
     },
     "metadata": {},
     "output_type": "display_data"
    },
    {
     "data": {
      "text/html": [
       "<pre>--------------------------------------------------------</pre>"
      ],
      "text/plain": [
       "--------------------------------------------------------"
      ]
     },
     "metadata": {},
     "output_type": "display_data"
    },
    {
     "data": {
      "text/html": [
       "<pre>Number of examples          : 2562712</pre>"
      ],
      "text/plain": [
       "Number of examples          : 2562712"
      ]
     },
     "metadata": {},
     "output_type": "display_data"
    },
    {
     "data": {
      "text/html": [
       "<pre>Number of classes           : 2</pre>"
      ],
      "text/plain": [
       "Number of classes           : 2"
      ]
     },
     "metadata": {},
     "output_type": "display_data"
    },
    {
     "data": {
      "text/html": [
       "<pre>Number of feature columns   : 3</pre>"
      ],
      "text/plain": [
       "Number of feature columns   : 3"
      ]
     },
     "metadata": {},
     "output_type": "display_data"
    },
    {
     "data": {
      "text/html": [
       "<pre>Number of unpacked features : 497</pre>"
      ],
      "text/plain": [
       "Number of unpacked features : 497"
      ]
     },
     "metadata": {},
     "output_type": "display_data"
    },
    {
     "data": {
      "text/html": [
       "<pre>Number of coefficients    : 498</pre>"
      ],
      "text/plain": [
       "Number of coefficients    : 498"
      ]
     },
     "metadata": {},
     "output_type": "display_data"
    },
    {
     "data": {
      "text/html": [
       "<pre>Starting L-BFGS</pre>"
      ],
      "text/plain": [
       "Starting L-BFGS"
      ]
     },
     "metadata": {},
     "output_type": "display_data"
    },
    {
     "data": {
      "text/html": [
       "<pre>--------------------------------------------------------</pre>"
      ],
      "text/plain": [
       "--------------------------------------------------------"
      ]
     },
     "metadata": {},
     "output_type": "display_data"
    },
    {
     "data": {
      "text/html": [
       "<pre>+-----------+----------+-----------+--------------+-------------------+---------------------+</pre>"
      ],
      "text/plain": [
       "+-----------+----------+-----------+--------------+-------------------+---------------------+"
      ]
     },
     "metadata": {},
     "output_type": "display_data"
    },
    {
     "data": {
      "text/html": [
       "<pre>| Iteration | Passes   | Step size | Elapsed Time | Training-accuracy | Validation-accuracy |</pre>"
      ],
      "text/plain": [
       "| Iteration | Passes   | Step size | Elapsed Time | Training-accuracy | Validation-accuracy |"
      ]
     },
     "metadata": {},
     "output_type": "display_data"
    },
    {
     "data": {
      "text/html": [
       "<pre>+-----------+----------+-----------+--------------+-------------------+---------------------+</pre>"
      ],
      "text/plain": [
       "+-----------+----------+-----------+--------------+-------------------+---------------------+"
      ]
     },
     "metadata": {},
     "output_type": "display_data"
    },
    {
     "data": {
      "text/html": [
       "<pre>| 1         | 6        | 0.000033  | 10.510959    | 0.651854          | 0.650089            |</pre>"
      ],
      "text/plain": [
       "| 1         | 6        | 0.000033  | 10.510959    | 0.651854          | 0.650089            |"
      ]
     },
     "metadata": {},
     "output_type": "display_data"
    },
    {
     "data": {
      "text/html": [
       "<pre>| 2         | 9        | 5.000000  | 16.456395    | 0.866223          | 0.864674            |</pre>"
      ],
      "text/plain": [
       "| 2         | 9        | 5.000000  | 16.456395    | 0.866223          | 0.864674            |"
      ]
     },
     "metadata": {},
     "output_type": "display_data"
    },
    {
     "data": {
      "text/html": [
       "<pre>| 3         | 10       | 5.000000  | 18.900772    | 0.398174          | 0.398548            |</pre>"
      ],
      "text/plain": [
       "| 3         | 10       | 5.000000  | 18.900772    | 0.398174          | 0.398548            |"
      ]
     },
     "metadata": {},
     "output_type": "display_data"
    },
    {
     "data": {
      "text/html": [
       "<pre>| 4         | 12       | 1.000000  | 23.054291    | 0.661195          | 0.659988            |</pre>"
      ],
      "text/plain": [
       "| 4         | 12       | 1.000000  | 23.054291    | 0.661195          | 0.659988            |"
      ]
     },
     "metadata": {},
     "output_type": "display_data"
    },
    {
     "data": {
      "text/html": [
       "<pre>| 5         | 13       | 1.000000  | 25.524616    | 0.786664          | 0.785506            |</pre>"
      ],
      "text/plain": [
       "| 5         | 13       | 1.000000  | 25.524616    | 0.786664          | 0.785506            |"
      ]
     },
     "metadata": {},
     "output_type": "display_data"
    },
    {
     "data": {
      "text/html": [
       "<pre>| 6         | 14       | 1.000000  | 28.124756    | 0.742959          | 0.742530            |</pre>"
      ],
      "text/plain": [
       "| 6         | 14       | 1.000000  | 28.124756    | 0.742959          | 0.742530            |"
      ]
     },
     "metadata": {},
     "output_type": "display_data"
    },
    {
     "data": {
      "text/html": [
       "<pre>| 7         | 15       | 1.000000  | 31.004443    | 0.651778          | 0.651342            |</pre>"
      ],
      "text/plain": [
       "| 7         | 15       | 1.000000  | 31.004443    | 0.651778          | 0.651342            |"
      ]
     },
     "metadata": {},
     "output_type": "display_data"
    },
    {
     "data": {
      "text/html": [
       "<pre>| 8         | 17       | 1.000000  | 35.195455    | 0.707173          | 0.706587            |</pre>"
      ],
      "text/plain": [
       "| 8         | 17       | 1.000000  | 35.195455    | 0.707173          | 0.706587            |"
      ]
     },
     "metadata": {},
     "output_type": "display_data"
    },
    {
     "data": {
      "text/html": [
       "<pre>| 9         | 18       | 1.000000  | 37.726014    | 0.715546          | 0.714539            |</pre>"
      ],
      "text/plain": [
       "| 9         | 18       | 1.000000  | 37.726014    | 0.715546          | 0.714539            |"
      ]
     },
     "metadata": {},
     "output_type": "display_data"
    },
    {
     "data": {
      "text/html": [
       "<pre>| 10        | 19       | 1.000000  | 40.258214    | 0.710075          | 0.709390            |</pre>"
      ],
      "text/plain": [
       "| 10        | 19       | 1.000000  | 40.258214    | 0.710075          | 0.709390            |"
      ]
     },
     "metadata": {},
     "output_type": "display_data"
    },
    {
     "data": {
      "text/html": [
       "<pre>+-----------+----------+-----------+--------------+-------------------+---------------------+</pre>"
      ],
      "text/plain": [
       "+-----------+----------+-----------+--------------+-------------------+---------------------+"
      ]
     },
     "metadata": {},
     "output_type": "display_data"
    },
    {
     "data": {
      "text/html": [
       "<pre>TERMINATED: Iteration limit reached.</pre>"
      ],
      "text/plain": [
       "TERMINATED: Iteration limit reached."
      ]
     },
     "metadata": {},
     "output_type": "display_data"
    },
    {
     "data": {
      "text/html": [
       "<pre>This model may not be optimal. To improve it, consider increasing `max_iterations`.</pre>"
      ],
      "text/plain": [
       "This model may not be optimal. To improve it, consider increasing `max_iterations`."
      ]
     },
     "metadata": {},
     "output_type": "display_data"
    }
   ],
   "source": [
    "gbm_baseline = gl.svm_classifier.create(trainset, target='click', features=features, \n",
    "                                         penalty=1,\n",
    "                                            validation_set=validationset, class_weights='auto',\n",
    "                                            max_iterations=10)"
   ]
  },
  {
   "cell_type": "markdown",
   "metadata": {},
   "source": [
    "# Evaluation"
   ]
  },
  {
   "cell_type": "code",
   "execution_count": 59,
   "metadata": {
    "collapsed": false
   },
   "outputs": [
    {
     "name": "stdout",
     "output_type": "stream",
     "text": [
      "{'f1_score': 0.0034101657788619504, 'auc': 0.7718869027696963, 'recall': 0.6618357487922706, 'precision': 0.0017094870291111915, 'log_loss': 0.5282543323115245, 'roc_curve': Columns:\n",
      "\tthreshold\tfloat\n",
      "\tfpr\tfloat\n",
      "\ttpr\tfloat\n",
      "\tp\tint\n",
      "\tn\tint\n",
      "\n",
      "Rows: 100001\n",
      "\n",
      "Data:\n",
      "+-----------+-----+-----+-----+--------+\n",
      "| threshold | fpr | tpr |  p  |   n    |\n",
      "+-----------+-----+-----+-----+--------+\n",
      "|    0.0    | 1.0 | 1.0 | 207 | 284883 |\n",
      "|   1e-05   | 1.0 | 1.0 | 207 | 284883 |\n",
      "|   2e-05   | 1.0 | 1.0 | 207 | 284883 |\n",
      "|   3e-05   | 1.0 | 1.0 | 207 | 284883 |\n",
      "|   4e-05   | 1.0 | 1.0 | 207 | 284883 |\n",
      "|   5e-05   | 1.0 | 1.0 | 207 | 284883 |\n",
      "|   6e-05   | 1.0 | 1.0 | 207 | 284883 |\n",
      "|   7e-05   | 1.0 | 1.0 | 207 | 284883 |\n",
      "|   8e-05   | 1.0 | 1.0 | 207 | 284883 |\n",
      "|   9e-05   | 1.0 | 1.0 | 207 | 284883 |\n",
      "+-----------+-----+-----+-----+--------+\n",
      "[100001 rows x 5 columns]\n",
      "Note: Only the head of the SFrame is printed.\n",
      "You can use print_rows(num_rows=m, num_columns=n) to print more rows and columns., 'confusion_matrix': Columns:\n",
      "\ttarget_label\tint\n",
      "\tpredicted_label\tint\n",
      "\tcount\tint\n",
      "\n",
      "Rows: 4\n",
      "\n",
      "Data:\n",
      "+--------------+-----------------+--------+\n",
      "| target_label | predicted_label | count  |\n",
      "+--------------+-----------------+--------+\n",
      "|      1       |        0        |   70   |\n",
      "|      1       |        1        |  137   |\n",
      "|      0       |        1        | 80004  |\n",
      "|      0       |        0        | 204879 |\n",
      "+--------------+-----------------+--------+\n",
      "[4 rows x 3 columns]\n",
      ", 'accuracy': 0.7191272931355011}\n"
     ]
    }
   ],
   "source": [
    "results = gbm_baseline.evaluate(validationset)\n",
    "print results"
   ]
  },
  {
   "cell_type": "code",
   "execution_count": 61,
   "metadata": {
    "collapsed": false
   },
   "outputs": [],
   "source": [
    "results['roc_curve'].select_columns(['fpr', 'tpr']).save('./output/gbm_roc_curve.csv')"
   ]
  },
  {
   "cell_type": "markdown",
   "metadata": {},
   "source": [
    "## Output"
   ]
  },
  {
   "cell_type": "code",
   "execution_count": null,
   "metadata": {
    "collapsed": false
   },
   "outputs": [],
   "source": [
    "gbm_predictions = gbm_baseline.predict(test_set, output_type='probability')\n",
    "\n",
    "with open('./output/gbm_predictions.csv', mode='w') as prediction_file:\n",
    "    # write headers to file\n",
    "    prediction_file.write('Id,Prediction\\n')\n",
    "    prediction_id = 1\n",
    "    for prediction in gbm_predictions:\n",
    "        prediction_file.write('{},{:.5f}\\n'.format(prediction_id, prediction))\n",
    "        prediction_id += 1\n",
    "\n",
    "prediction_file.close()"
   ]
  },
  {
   "cell_type": "markdown",
   "metadata": {},
   "source": [
    "## SVM Output (Using Platt scaling)"
   ]
  },
  {
   "cell_type": "code",
   "execution_count": 53,
   "metadata": {
    "collapsed": true
   },
   "outputs": [],
   "source": [
    "import math"
   ]
  },
  {
   "cell_type": "code",
   "execution_count": 63,
   "metadata": {
    "collapsed": false
   },
   "outputs": [],
   "source": [
    "svm_predictions = gbm_baseline.predict(test_set, output_type='class')\n",
    "svm_values = gbm_baseline.predict(test_set, output_type='margin')\n",
    "\n",
    "n_1 = svm_predictions.filter(lambda x: x == 1).size()\n",
    "n_0 = svm_predictions.filter(lambda x: x == 0).size()\n",
    "\n",
    "_a, _b = platt_scaling(svm_values, svm_predictions, n_1, n_0)\n",
    "print _a\n",
    "print _b\n",
    "svm_predictions = svm_predictions.apply(lambda x: apply_platt(x, _a, _b))\n",
    "\n",
    "# open support vector machines model predictions file\n",
    "with open('./output/svm_predictions.csv', mode='w') as svm_prediction_file:\n",
    "    # write headers to file\n",
    "    svm_prediction_file.write('Id,Prediction\\n')\n",
    "    # set support vector machines model prediction id to 1\n",
    "    svm_prediction_id = 1\n",
    "    # for every support vector machines model prediction\n",
    "    for svm_prediction in svm_predictions:\n",
    "        # write support vector machines model prediction to file in requested format\n",
    "        svm_prediction_file.write('{},{:.5f}\\n'.format(svm_prediction_id, svm_prediction))\n",
    "        # increment support vector machines model prediction id\n",
    "        svm_prediction_id += 1\n",
    "\n",
    "# close support vector machines model predictions file\n",
    "svm_prediction_file.close()"
   ]
  },
  {
   "cell_type": "markdown",
   "metadata": {},
   "source": [
    "### AUC for SVM"
   ]
  },
  {
   "cell_type": "code",
   "execution_count": 51,
   "metadata": {
    "collapsed": false
   },
   "outputs": [
    {
     "name": "stdout",
     "output_type": "stream",
     "text": [
      "0.610000366114\n"
     ]
    }
   ],
   "source": [
    "targets = validationset['click']\n",
    "val_predictions = gbm_baseline.predict(validationset, output_type='class')\n",
    "svm_auc = gl.evaluation.auc(targets, val_predictions)\n",
    "print svm_auc"
   ]
  },
  {
   "cell_type": "code",
   "execution_count": null,
   "metadata": {
    "collapsed": true
   },
   "outputs": [],
   "source": []
  }
 ],
 "metadata": {
  "kernelspec": {
   "display_name": "Python 2",
   "language": "python",
   "name": "python2"
  },
  "language_info": {
   "codemirror_mode": {
    "name": "ipython",
    "version": 2
   },
   "file_extension": ".py",
   "mimetype": "text/x-python",
   "name": "python",
   "nbconvert_exporter": "python",
   "pygments_lexer": "ipython2",
   "version": "2.7.11"
  }
 },
 "nbformat": 4,
 "nbformat_minor": 0
}
